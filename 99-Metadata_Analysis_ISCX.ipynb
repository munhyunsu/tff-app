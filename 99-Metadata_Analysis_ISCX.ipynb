{
 "cells": [
  {
   "cell_type": "code",
   "execution_count": 2,
   "metadata": {},
   "outputs": [],
   "source": [
    "# Load library\n",
    "import os\n",
    "\n",
    "import matplotlib.pyplot as plt\n",
    "%matplotlib widget\n",
    "\n",
    "from scapy.all import *"
   ]
  },
  {
   "cell_type": "code",
   "execution_count": 3,
   "metadata": {},
   "outputs": [],
   "source": [
    "# read pcap files\n",
    "def read_pcap(root_dir, ext=('.pcap', '.pcapng')):\n",
    "    queue = [root_dir]\n",
    "    while len(queue) != 0:\n",
    "        nest_dir = queue.pop()\n",
    "        with os.scandir(nest_dir) as it:\n",
    "            for entry in it:\n",
    "                if not entry.name.startswith('.') and entry.is_file():\n",
    "                    if entry.name.endswith(ext):\n",
    "                        label = os.path.basename(os.path.dirname(entry.path)) # dirname is label\n",
    "                        yield label, entry.path\n",
    "                elif not entry.name.startswith('.') and entry.is_dir():\n",
    "                    queue.append(entry.path)"
   ]
  },
  {
   "cell_type": "code",
   "execution_count": null,
   "metadata": {},
   "outputs": [
    {
     "name": "stdout",
     "output_type": "stream",
     "text": [
      "Current processing: ftps /home/harny/Github/tff-app/dataset/pcap_data_splited/ftps/ftps_down_1b-0038.pcap2b-0324.pcapng\r"
     ]
    }
   ],
   "source": [
    "SPLIT_DATA = './dataset/pcap_data_splited'\n",
    "\n",
    "def pkt2img(label, cnt):\n",
    "    def process_pkt(pkt):\n",
    "        if not pkt.haslayer('IP'):\n",
    "            return\n",
    "        ip = pkt['IP']\n",
    "        if not (ip.haslayer('TCP') or ip.haslayer('UDP')):\n",
    "            return\n",
    "        if ip.haslayer('TCP'):\n",
    "            l4 = 'TCP'\n",
    "        elif ip.haslayer('UDP'):\n",
    "            l4 = 'UDP'\n",
    "        if label not in cnt.keys():\n",
    "            cnt[label] = dict()\n",
    "        size = len(raw(ip[l4].payload))\n",
    "        cnt[label][size] = cnt[label].get(size, 0) + 1\n",
    "    return process_pkt\n",
    "\n",
    "splited_path = os.path.abspath(os.path.expanduser(SPLIT_DATA))\n",
    "cnt = dict()\n",
    "for label, path in read_pcap(splited_path):\n",
    "    print(f'Current processing: {label} {path}', end='\\r')\n",
    "    sniff(offline=path, prn=pkt2img(label, cnt), store=False)"
   ]
  },
  {
   "cell_type": "code",
   "execution_count": 3,
   "metadata": {},
   "outputs": [],
   "source": [
    "# Metadata analysis\n",
    "## X-axis: \n",
    "## Y-axis: \n",
    "data = dict()\n",
    "datat = dict()\n",
    "pcap_path = os.path.abspath(os.path.expanduser('./data'))\n",
    "for label, path in read_pcap(pcap_path):\n",
    "    rp = rdpcap(path, count=1000)\n",
    "    d = data.get(label, dict())\n",
    "    for k, v in rp.sessions().items():\n",
    "        if 'TCP' not in k: # filter only TCP packets\n",
    "            continue\n",
    "        cnt = len(v)\n",
    "        d[cnt] = d.get(cnt, 0) + 1\n",
    "        datat[cnt] = datat.get(cnt, 0) + 1\n",
    "    data[label] = d"
   ]
  },
  {
   "cell_type": "code",
   "execution_count": 8,
   "metadata": {},
   "outputs": [],
   "source": [
    "plt.close()\n",
    "labels = list()\n",
    "i = 0\n",
    "for key in data.keys():\n",
    "    labels.append(key)\n",
    "    dptr = data[key]\n",
    "    d = list(dptr.items())\n",
    "    d.sort()\n",
    "    x = list()\n",
    "    y = list()\n",
    "    t = sum([v for k, v in d if k != 1])\n",
    "    s = 0\n",
    "    for k, v in d:\n",
    "        if k == 1:\n",
    "            continue\n",
    "        x.append(k)\n",
    "        s = s + v\n",
    "        y.append(s/t)\n",
    "    fig = plt.plot(x, y, alpha=0.5, linestyle='solid' if i < 8 else 'dashed')\n",
    "    i = i + 1\n",
    "d2 = list(datat.items())\n",
    "d2.sort()\n",
    "x = list()\n",
    "y = list()\n",
    "t = sum([v for k, v in d2 if k != 1])\n",
    "s = 0\n",
    "for k, v in d2:\n",
    "    if k == 1:\n",
    "        continue\n",
    "    x.append(k)\n",
    "    s = s + v\n",
    "    y.append(s/t)\n",
    "plt.plot(x, y, color='black', linewidth=2)\n",
    "\n",
    "plt.vlines(5, 0, y[x.index(5)], color='brown', linestyles='dotted', alpha=0.8)\n",
    "plt.hlines(y[x.index(5)], 0, 5, color='brown', linestyles='dotted', alpha=0.8)\n",
    "plt.text(5, 0, round(5,2), fontsize=8)\n",
    "plt.text(1, y[x.index(5)], round(y[x.index(5)],2), fontsize=8)\n",
    "\n",
    "for i in y:\n",
    "    if i >= 0.8:\n",
    "        y08 = y.index(i)\n",
    "        x08 = x[y08]\n",
    "        break\n",
    "\n",
    "plt.vlines(x08, 0, y[y08], color='brown', linestyles='dotted', alpha=0.8)\n",
    "plt.hlines(y[y08], 0, x08, color='brown', linestyles='dotted', alpha=0.8)\n",
    "plt.text(x08, 0, round(x08,2), fontsize=8)\n",
    "plt.text(1+0.1, y[y08]+0.005, round(y[y08],2), fontsize=8)\n",
    "\n",
    "plt.vlines(40, 0, y[x.index(40)], color='brown', linestyles='dotted', alpha=0.8)\n",
    "plt.hlines(y[x.index(40)], 0, 40, color='brown', linestyles='dotted', alpha=0.8)\n",
    "plt.text(40, 0, round(40,2), fontsize=8)\n",
    "plt.text(1, y[x.index(40)], round(y[x.index(40)],2), fontsize=8)\n",
    "\n",
    "plt.title('CDF of packet counts')\n",
    "plt.xlabel('CDF')\n",
    "plt.ylabel('Packet counts per sessions')\n",
    "plt.xscale('log')\n",
    "plt.ylim((0, 1))\n",
    "plt.legend(labels)\n",
    "plt.ioff()"
   ]
  }
 ],
 "metadata": {
  "kernelspec": {
   "display_name": "Federated Learning",
   "language": "python",
   "name": "tff-app"
  },
  "language_info": {
   "codemirror_mode": {
    "name": "ipython",
    "version": 3
   },
   "file_extension": ".py",
   "mimetype": "text/x-python",
   "name": "python",
   "nbconvert_exporter": "python",
   "pygments_lexer": "ipython3",
   "version": "3.7.6"
  }
 },
 "nbformat": 4,
 "nbformat_minor": 4
}
