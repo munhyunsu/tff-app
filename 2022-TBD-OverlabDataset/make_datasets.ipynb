{
 "cells": [
  {
   "cell_type": "markdown",
   "id": "d23613a2",
   "metadata": {},
   "source": [
    "# Experiments 1"
   ]
  },
  {
   "cell_type": "code",
   "execution_count": null,
   "id": "cf1b416d",
   "metadata": {},
   "outputs": [],
   "source": [
    "import os\n",
    "\n",
    "import tensorflow as tf\n",
    "import PIL.Image as Image"
   ]
  },
  {
   "cell_type": "code",
   "execution_count": null,
   "id": "c9c85fe7",
   "metadata": {},
   "outputs": [],
   "source": [
    "(train_images, train_labels), (test_images, test_labels) = tf.keras.datasets.cifar10.load_data()"
   ]
  },
  {
   "cell_type": "code",
   "execution_count": null,
   "id": "d848f911",
   "metadata": {},
   "outputs": [],
   "source": [
    "len(train_images)"
   ]
  },
  {
   "cell_type": "code",
   "execution_count": null,
   "id": "0003b0e1",
   "metadata": {},
   "outputs": [],
   "source": [
    "len(test_images)"
   ]
  },
  {
   "cell_type": "code",
   "execution_count": null,
   "id": "f303962b",
   "metadata": {},
   "outputs": [],
   "source": [
    "labels = ['Airplane', 'Automobile', 'Bird', 'Cat', 'Deer', 'Dog', 'Frog', 'Horse', 'Ship', 'Truck']\n",
    "labels.sort()\n",
    "labels"
   ]
  },
  {
   "cell_type": "code",
   "execution_count": null,
   "id": "9dd03dbc",
   "metadata": {},
   "outputs": [],
   "source": [
    "counter = {}\n",
    "output = os.path.abspath(os.path.expanduser('train'))\n",
    "for image, label in zip(train_images, train_labels):\n",
    "    img = Image.fromarray(image)\n",
    "    label = labels[label[0]]\n",
    "    num = counter.get(label, 0)\n",
    "    os.makedirs(os.path.join(output, label), exist_ok=True)\n",
    "    path = os.path.join(output, label, f'{num:04d}.jpg')\n",
    "    img.save(path)\n",
    "    counter[label] = num + 1"
   ]
  },
  {
   "cell_type": "code",
   "execution_count": null,
   "id": "276e0adc",
   "metadata": {},
   "outputs": [],
   "source": [
    "counter = {}\n",
    "output = os.path.abspath(os.path.expanduser('test'))\n",
    "for image, label in zip(test_images, test_labels):\n",
    "    img = Image.fromarray(image)\n",
    "    label = labels[label[0]]\n",
    "    num = counter.get(label, 0)\n",
    "    os.makedirs(os.path.join(output, label), exist_ok=True)\n",
    "    path = os.path.join(output, label, f'{num:04d}.jpg')\n",
    "    img.save(path)\n",
    "    counter[label] = num + 1"
   ]
  },
  {
   "cell_type": "code",
   "execution_count": null,
   "id": "ead612b3",
   "metadata": {},
   "outputs": [],
   "source": [
    "(train_images, train_labels), (test_images, test_labels) = tf.keras.datasets.fashion_mnist.load_data()"
   ]
  },
  {
   "cell_type": "code",
   "execution_count": null,
   "id": "8863ba4d",
   "metadata": {},
   "outputs": [],
   "source": [
    "len(train_images)"
   ]
  },
  {
   "cell_type": "code",
   "execution_count": null,
   "id": "b6c3356d",
   "metadata": {},
   "outputs": [],
   "source": [
    "len(test_images)"
   ]
  },
  {
   "cell_type": "code",
   "execution_count": null,
   "id": "179a4416",
   "metadata": {},
   "outputs": [],
   "source": [
    "train_labels[0]"
   ]
  },
  {
   "cell_type": "code",
   "execution_count": null,
   "id": "d7c5ae77",
   "metadata": {},
   "outputs": [],
   "source": [
    "labels = ['T-shirt', 'Trouser', 'Pullover', 'Dress', 'Coat', 'Sandal', 'Shirt', 'Sneaker', 'Bag', 'Ankle boot']\n",
    "labels.sort()\n",
    "labels"
   ]
  },
  {
   "cell_type": "code",
   "execution_count": null,
   "id": "658e3494",
   "metadata": {},
   "outputs": [],
   "source": [
    "counter = {}\n",
    "output = os.path.abspath(os.path.expanduser('mnist_fashion_train'))\n",
    "for image, label in zip(train_images, train_labels):\n",
    "    img = Image.fromarray(image)\n",
    "    label = labels[label]\n",
    "    num = counter.get(label, 0)\n",
    "    os.makedirs(os.path.join(output, label), exist_ok=True)\n",
    "    path = os.path.join(output, label, f'{num:04d}.jpg')\n",
    "    img.save(path)\n",
    "    counter[label] = num + 1"
   ]
  },
  {
   "cell_type": "code",
   "execution_count": null,
   "id": "ac6ee7de",
   "metadata": {},
   "outputs": [],
   "source": [
    "counter = {}\n",
    "output = os.path.abspath(os.path.expanduser('mnist_fashion_test'))\n",
    "for image, label in zip(test_images, test_labels):\n",
    "    img = Image.fromarray(image)\n",
    "    label = labels[label]\n",
    "    num = counter.get(label, 0)\n",
    "    os.makedirs(os.path.join(output, label), exist_ok=True)\n",
    "    path = os.path.join(output, label, f'{num:04d}.jpg')\n",
    "    img.save(path)\n",
    "    counter[label] = num + 1"
   ]
  },
  {
   "cell_type": "markdown",
   "id": "6ddc8f11",
   "metadata": {},
   "source": [
    "# Experiments 2"
   ]
  },
  {
   "cell_type": "code",
   "execution_count": 8,
   "id": "0b63daf9",
   "metadata": {},
   "outputs": [],
   "source": [
    "import os\n",
    "import collections\n",
    "import random\n",
    "\n",
    "import tensorflow as tf\n",
    "import PIL.Image as Image"
   ]
  },
  {
   "cell_type": "code",
   "execution_count": 9,
   "id": "f2af1221",
   "metadata": {},
   "outputs": [],
   "source": [
    "(train_images, train_labels), (test_images, test_labels) = tf.keras.datasets.fashion_mnist.load_data()"
   ]
  },
  {
   "cell_type": "code",
   "execution_count": 10,
   "id": "906ff37a",
   "metadata": {},
   "outputs": [
    {
     "name": "stdout",
     "output_type": "stream",
     "text": [
      "Train labels: Counter({9: 6000, 0: 6000, 3: 6000, 2: 6000, 7: 6000, 5: 6000, 1: 6000, 6: 6000, 4: 6000, 8: 6000})\n",
      "Test labels: Counter({9: 1000, 2: 1000, 1: 1000, 6: 1000, 4: 1000, 5: 1000, 7: 1000, 3: 1000, 8: 1000, 0: 1000})\n"
     ]
    }
   ],
   "source": [
    "print(f'Train labels: {collections.Counter(train_labels)}')\n",
    "print(f'Test labels: {collections.Counter(test_labels)}')"
   ]
  },
  {
   "cell_type": "code",
   "execution_count": 11,
   "id": "93461cb2",
   "metadata": {},
   "outputs": [
    {
     "data": {
      "text/plain": [
       "['Ankle boot',\n",
       " 'Bag',\n",
       " 'Coat',\n",
       " 'Dress',\n",
       " 'Pullover',\n",
       " 'Sandal',\n",
       " 'Shirt',\n",
       " 'Sneaker',\n",
       " 'T-shirt',\n",
       " 'Trouser']"
      ]
     },
     "execution_count": 11,
     "metadata": {},
     "output_type": "execute_result"
    }
   ],
   "source": [
    "labels = ['T-shirt', 'Trouser', 'Pullover', 'Dress', 'Coat', 'Sandal', 'Shirt', 'Sneaker', 'Bag', 'Ankle boot']\n",
    "labels.sort()\n",
    "labels"
   ]
  },
  {
   "cell_type": "code",
   "execution_count": 12,
   "id": "48898f3d",
   "metadata": {},
   "outputs": [
    {
     "data": {
      "text/plain": [
       "{'Ankle boot': [5500, 0, 0, 0, 500],\n",
       " 'Bag': [5500, 0, 0, 0, 500],\n",
       " 'Coat': [500, 5500, 0, 0, 0],\n",
       " 'Dress': [500, 5500, 0, 0, 0],\n",
       " 'Pullover': [0, 500, 5500, 0, 0],\n",
       " 'Sandal': [0, 500, 5500, 0, 0],\n",
       " 'Shirt': [0, 0, 500, 5500, 0],\n",
       " 'Sneaker': [0, 0, 500, 5500, 0],\n",
       " 'T-shirt': [0, 0, 0, 500, 5500],\n",
       " 'Trouser': [0, 0, 0, 500, 5500]}"
      ]
     },
     "execution_count": 12,
     "metadata": {},
     "output_type": "execute_result"
    }
   ],
   "source": [
    "dist = {'Ankle boot': [5500,    0,    0,    0,  500],\n",
    "        'Bag':        [5500,    0,    0,    0,  500],\n",
    "        'Coat':       [ 500, 5500,    0,    0,    0],\n",
    "        'Dress':      [ 500, 5500,    0,    0,    0],\n",
    "        'Pullover':   [   0,  500, 5500,    0,    0],\n",
    "        'Sandal':     [   0,  500, 5500,    0,    0],\n",
    "        'Shirt':      [   0,    0,  500, 5500,    0],\n",
    "        'Sneaker':    [   0,    0,  500, 5500,    0],\n",
    "        'T-shirt':    [   0,    0,    0,  500, 5500],\n",
    "        'Trouser':    [   0,    0,    0,  500, 5500]\n",
    "       }\n",
    "dist"
   ]
  },
  {
   "cell_type": "code",
   "execution_count": 13,
   "id": "d11ef034",
   "metadata": {},
   "outputs": [],
   "source": [
    "dist = {'Ankle boot': [5500,    0,    0,    0,  500],\n",
    "        'Bag':        [5500,    0,    0,    0,  500],\n",
    "        'Coat':       [ 500, 5500,    0,    0,    0],\n",
    "        'Dress':      [ 500, 5500,    0,    0,    0],\n",
    "        'Pullover':   [   0,  500, 5500,    0,    0],\n",
    "        'Sandal':     [   0,  500, 5500,    0,    0],\n",
    "        'Shirt':      [   0,    0,  500, 5500,    0],\n",
    "        'Sneaker':    [   0,    0,  500, 5500,    0],\n",
    "        'T-shirt':    [   0,    0,    0,  500, 5500],\n",
    "        'Trouser':    [   0,    0,    0,  500, 5500]\n",
    "       }\n",
    "dist\n",
    "counter = {}\n",
    "output = os.path.abspath(os.path.expanduser('mnist_fashion_train'))\n",
    "tmp = list(zip(train_images, train_labels))\n",
    "random.shuffle(tmp)\n",
    "for image, label in tmp:\n",
    "    img = Image.fromarray(image)\n",
    "    label = labels[label]\n",
    "    for idx in range(0, len(dist[label])):\n",
    "        if dist[label][idx] > 0:\n",
    "            dist[label][idx] = dist[label][idx] - 1\n",
    "            num = counter.get(label, 0)\n",
    "            div = f'client{idx}'\n",
    "            os.makedirs(os.path.join(output, div, label), exist_ok=True)\n",
    "            path = os.path.join(output, div, label, f'{num:04d}.jpg')\n",
    "            img.save(path)\n",
    "            counter[label] = num + 1"
   ]
  },
  {
   "cell_type": "code",
   "execution_count": 14,
   "id": "0cec53dd",
   "metadata": {},
   "outputs": [],
   "source": [
    "dist = {'Ankle boot': [5500,    1,    1,    1,  500],\n",
    "        'Bag':        [5500,    1,    1,    1,  500],\n",
    "        'Coat':       [ 500, 5500,    1,    1,    1],\n",
    "        'Dress':      [ 500, 5500,    1,    1,    1],\n",
    "        'Pullover':   [   0,  500, 5500,    1,    1],\n",
    "        'Sandal':     [   0,  500, 5500,    1,    1],\n",
    "        'Shirt':      [   0,    0,  500, 5500,    1],\n",
    "        'Sneaker':    [   0,    0,  500, 5500,    1],\n",
    "        'T-shirt':    [   0,    0,    0,  500, 5500],\n",
    "        'Trouser':    [   0,    0,    0,  500, 5500]\n",
    "       }\n",
    "dist\n",
    "counter = {}\n",
    "output = os.path.abspath(os.path.expanduser('mnist_fashion_test'))\n",
    "for image, label in zip(test_images, test_labels):\n",
    "    img = Image.fromarray(image)\n",
    "    label = labels[label]\n",
    "    num = counter.get(label, 0)\n",
    "    for idx in range(0, len(dist[label])):\n",
    "        div = 'all'\n",
    "        os.makedirs(os.path.join(output, div, label), exist_ok=True)\n",
    "        path = os.path.join(output, div, label, f'{num:04d}.jpg')\n",
    "        img.save(path)\n",
    "        if dist[label][idx] > 0:\n",
    "            div = f'client{idx}'\n",
    "            os.makedirs(os.path.join(output, div, label), exist_ok=True)\n",
    "            path = os.path.join(output, div, label, f'{num:04d}.jpg')\n",
    "            img.save(path)\n",
    "            counter[label] = num + 1"
   ]
  },
  {
   "cell_type": "code",
   "execution_count": null,
   "id": "c0cc5191",
   "metadata": {},
   "outputs": [],
   "source": []
  }
 ],
 "metadata": {
  "kernelspec": {
   "display_name": "TensorFlowFederated",
   "language": "python",
   "name": "tff"
  },
  "language_info": {
   "codemirror_mode": {
    "name": "ipython",
    "version": 3
   },
   "file_extension": ".py",
   "mimetype": "text/x-python",
   "name": "python",
   "nbconvert_exporter": "python",
   "pygments_lexer": "ipython3",
   "version": "3.9.1"
  }
 },
 "nbformat": 4,
 "nbformat_minor": 5
}
