{
 "cells": [
  {
   "cell_type": "code",
   "execution_count": null,
   "metadata": {},
   "outputs": [],
   "source": [
    "import os\n",
    "import random\n",
    "random.seed(99)\n",
    "import shutil\n",
    "\n",
    "import numpy as np\n",
    "np.random.seed(99)"
   ]
  },
  {
   "cell_type": "code",
   "execution_count": null,
   "metadata": {},
   "outputs": [],
   "source": [
    "IS_RESET = True\n",
    "SRC_DATA = './dataset/img_data_152'\n",
    "DST_DATA = './federated_data'\n",
    "CLIENTS = 5 + 1 # 1 is validation set (index 0)\n",
    "# balanced_iid balanced_noniid unbalanced_iid unbalanced_noniid as_is\n",
    "TYPE = 'as_is'"
   ]
  },
  {
   "cell_type": "code",
   "execution_count": null,
   "metadata": {},
   "outputs": [],
   "source": [
    "def get_files(root_dir, ext=('.jpg', '.png')):\n",
    "    queue = [root_dir]\n",
    "    while len(queue) != 0:\n",
    "        nest_dir = queue.pop()\n",
    "        label = None\n",
    "        files = list()\n",
    "        with os.scandir(nest_dir) as it:\n",
    "            for entry in it:\n",
    "                if not entry.name.startswith('.') and entry.is_file():\n",
    "                    if entry.name.endswith(ext):\n",
    "                        label = os.path.basename(os.path.dirname(entry.path)) # dirname is label\n",
    "                        files.append(entry.path)\n",
    "                elif not entry.name.startswith('.') and entry.is_dir():\n",
    "                    queue.append(entry.path)\n",
    "            if label is not None:\n",
    "                yield label, files"
   ]
  },
  {
   "cell_type": "code",
   "execution_count": null,
   "metadata": {},
   "outputs": [],
   "source": [
    "data_root = os.path.abspath(os.path.expanduser(SRC_DATA))\n",
    "dst_base = os.path.abspath(os.path.expanduser(DST_DATA))\n",
    "\n",
    "if IS_RESET:\n",
    "    if os.path.exists(dst_base):\n",
    "        shutil.rmtree(dst_base)\n",
    "\n",
    "for label, files in get_file(data_root):\n",
    "    random.shuffle(files)\n",
    "    ## In dev."
   ]
  }
 ],
 "metadata": {
  "kernelspec": {
   "display_name": "Federated Learning",
   "language": "python",
   "name": "tff-app"
  },
  "language_info": {
   "codemirror_mode": {
    "name": "ipython",
    "version": 3
   },
   "file_extension": ".py",
   "mimetype": "text/x-python",
   "name": "python",
   "nbconvert_exporter": "python",
   "pygments_lexer": "ipython3",
   "version": "3.7.6"
  }
 },
 "nbformat": 4,
 "nbformat_minor": 4
}
