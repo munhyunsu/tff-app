{
 "cells": [
  {
   "cell_type": "code",
   "execution_count": 1,
   "metadata": {},
   "outputs": [],
   "source": [
    "import os\n",
    "import random\n",
    "random.seed(99)\n",
    "import shutil\n",
    "\n",
    "import numpy as np\n",
    "np.random.seed(99)"
   ]
  },
  {
   "cell_type": "code",
   "execution_count": 2,
   "metadata": {},
   "outputs": [],
   "source": [
    "IS_RESET = True\n",
    "SRC_DATA = './dataset/img_data_152'\n",
    "DST_DATA = './federated_data'\n",
    "CLIENTS = 15 # 1 is validation set (index 0)\n",
    "VAL_RATE = 0.1\n",
    "# balanced_iid balanced_noniid unbalanced_iid unbalanced_noniid as_is\n",
    "TYPE = 'iid'"
   ]
  },
  {
   "cell_type": "code",
   "execution_count": 3,
   "metadata": {},
   "outputs": [],
   "source": [
    "def get_files(root_dir, ext=('.jpg', '.png')):\n",
    "    queue = [root_dir]\n",
    "    while len(queue) != 0:\n",
    "        nest_dir = queue.pop()\n",
    "        label = None\n",
    "        files = list()\n",
    "        with os.scandir(nest_dir) as it:\n",
    "            for entry in it:\n",
    "                if not entry.name.startswith('.') and entry.is_file():\n",
    "                    if entry.name.endswith(ext):\n",
    "                        label = os.path.basename(os.path.dirname(entry.path)) # dirname is label\n",
    "                        files.append(entry.path)\n",
    "                elif not entry.name.startswith('.') and entry.is_dir():\n",
    "                    queue.append(entry.path)\n",
    "            if label is not None:\n",
    "                yield label, files"
   ]
  },
  {
   "cell_type": "code",
   "execution_count": 4,
   "metadata": {},
   "outputs": [
    {
     "name": "stdout",
     "output_type": "stream",
     "text": [
      "Done vimeo\n",
      "Done icqchat\n",
      "Done voipbuster\n",
      "Done scp\n",
      "Done ftps\n",
      "Done sftp\n",
      "Done youtube\n",
      "Done aim\n",
      "Done hangout\n",
      "Done netflix\n",
      "Done torrent\n",
      "Done spotify\n",
      "Done skype\n",
      "Done email\n",
      "Done facebook\n",
      "Done gmail\n"
     ]
    }
   ],
   "source": [
    "data_root = os.path.abspath(os.path.expanduser(SRC_DATA))\n",
    "dst_base = os.path.abspath(os.path.expanduser(DST_DATA))\n",
    "\n",
    "if IS_RESET:\n",
    "    if os.path.exists(dst_base):\n",
    "        shutil.rmtree(dst_base)\n",
    "\n",
    "for label, files in get_files(data_root):\n",
    "    random.shuffle(files)\n",
    "    nfile = len(files)\n",
    "    # copy validation set\n",
    "    nval = int(nfile*VAL_RATE)\n",
    "    dst = os.path.join(dst_base, '0', label)\n",
    "    os.makedirs(dst, exist_ok=True)\n",
    "    for path in files[:nval]:\n",
    "        shutil.copy(path, dst)\n",
    "    files = files[nval:]\n",
    "    # copy trainset\n",
    "    ntrain = (nfile - nval)//CLIENTS\n",
    "    for i in range(1, CLIENTS+1):\n",
    "        dst = os.path.join(dst_base, str(i), label)\n",
    "        os.makedirs(dst, exist_ok=True)\n",
    "        for path in files[:ntrain]:\n",
    "            shutil.copy(path, dst)\n",
    "        files = files[ntrain:]\n",
    "    print(f'Done {label}')"
   ]
  }
 ],
 "metadata": {
  "kernelspec": {
   "display_name": "Federated Learning",
   "language": "python",
   "name": "tff-app"
  },
  "language_info": {
   "codemirror_mode": {
    "name": "ipython",
    "version": 3
   },
   "file_extension": ".py",
   "mimetype": "text/x-python",
   "name": "python",
   "nbconvert_exporter": "python",
   "pygments_lexer": "ipython3",
   "version": "3.7.6"
  }
 },
 "nbformat": 4,
 "nbformat_minor": 4
}
