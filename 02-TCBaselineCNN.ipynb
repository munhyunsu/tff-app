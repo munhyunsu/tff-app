{
 "cells": [
  {
   "cell_type": "code",
   "execution_count": 1,
   "metadata": {},
   "outputs": [],
   "source": [
    "# Setup library\n",
    "## install -r requirements.txt\n",
    "from __future__ import absolute_import, division, print_function, unicode_literals\n",
    "import os\n",
    "from operator import itemgetter\n",
    "\n",
    "import matplotlib.pylab as plt\n",
    "# %matplotlib widget\n",
    "%matplotlib inline\n",
    "\n",
    "import numpy as np\n",
    "import tensorflow as tf\n",
    "tf.random.set_seed(99)\n",
    "from tensorflow.keras import layers, models"
   ]
  },
  {
   "cell_type": "code",
   "execution_count": 2,
   "metadata": {},
   "outputs": [],
   "source": [
    "# Global variables\n",
    "# Setup scripts (or notebook)\n",
    "IMG_DATA = './dataset/img_data_152'\n",
    "IMG_SHAPE = (39, 39)"
   ]
  },
  {
   "cell_type": "code",
   "execution_count": 3,
   "metadata": {},
   "outputs": [
    {
     "name": "stdout",
     "output_type": "stream",
     "text": [
      "Dataset root: /home/harny/Github/tff-app/dataset/img_data_152\n"
     ]
    },
    {
     "name": "stderr",
     "output_type": "stream",
     "text": [
      "ERROR:root:Internal Python error in the inspect module.\n",
      "Below is the traceback from this internal error.\n",
      "\n"
     ]
    },
    {
     "name": "stdout",
     "output_type": "stream",
     "text": [
      "Traceback (most recent call last):\n",
      "  File \"/home/harny/Github/tff-app/venv/lib/python3.7/site-packages/IPython/core/magics/execution.py\", line 1312, in time\n",
      "    exec(code, glob, local_ns)\n",
      "  File \"<timed exec>\", line 8, in <module>\n",
      "  File \"/home/harny/Github/tff-app/venv/lib/python3.7/site-packages/keras_preprocessing/image/image_data_generator.py\", line 540, in flow_from_directory\n",
      "    interpolation=interpolation\n",
      "  File \"/home/harny/Github/tff-app/venv/lib/python3.7/site-packages/keras_preprocessing/image/directory_iterator.py\", line 126, in __init__\n",
      "    classes, filenames = res.get()\n",
      "  File \"/opt/Python37/lib/python3.7/multiprocessing/pool.py\", line 651, in get\n",
      "    self.wait(timeout)\n",
      "  File \"/opt/Python37/lib/python3.7/multiprocessing/pool.py\", line 648, in wait\n",
      "    self._event.wait(timeout)\n",
      "  File \"/opt/Python37/lib/python3.7/threading.py\", line 552, in wait\n",
      "    signaled = self._cond.wait(timeout)\n",
      "  File \"/opt/Python37/lib/python3.7/threading.py\", line 296, in wait\n",
      "    waiter.acquire()\n",
      "KeyboardInterrupt\n",
      "\n",
      "During handling of the above exception, another exception occurred:\n",
      "\n",
      "Traceback (most recent call last):\n",
      "  File \"/home/harny/Github/tff-app/venv/lib/python3.7/site-packages/IPython/core/interactiveshell.py\", line 2044, in showtraceback\n",
      "    stb = value._render_traceback_()\n",
      "AttributeError: 'KeyboardInterrupt' object has no attribute '_render_traceback_'\n",
      "\n",
      "During handling of the above exception, another exception occurred:\n",
      "\n",
      "Traceback (most recent call last):\n",
      "  File \"/home/harny/Github/tff-app/venv/lib/python3.7/site-packages/IPython/core/ultratb.py\", line 1151, in get_records\n",
      "    return _fixed_getinnerframes(etb, number_of_lines_of_context, tb_offset)\n",
      "  File \"/home/harny/Github/tff-app/venv/lib/python3.7/site-packages/IPython/core/ultratb.py\", line 319, in wrapped\n",
      "    return f(*args, **kwargs)\n",
      "  File \"/home/harny/Github/tff-app/venv/lib/python3.7/site-packages/IPython/core/ultratb.py\", line 353, in _fixed_getinnerframes\n",
      "    records = fix_frame_records_filenames(inspect.getinnerframes(etb, context))\n",
      "  File \"/opt/Python37/lib/python3.7/inspect.py\", line 1502, in getinnerframes\n",
      "    frameinfo = (tb.tb_frame,) + getframeinfo(tb, context)\n",
      "  File \"/opt/Python37/lib/python3.7/inspect.py\", line 1460, in getframeinfo\n",
      "    filename = getsourcefile(frame) or getfile(frame)\n",
      "  File \"/opt/Python37/lib/python3.7/inspect.py\", line 696, in getsourcefile\n",
      "    if getattr(getmodule(object, filename), '__loader__', None) is not None:\n",
      "  File \"/opt/Python37/lib/python3.7/inspect.py\", line 742, in getmodule\n",
      "    os.path.realpath(f)] = module.__name__\n",
      "  File \"/opt/Python37/lib/python3.7/posixpath.py\", line 395, in realpath\n",
      "    path, ok = _joinrealpath(filename[:0], filename, {})\n",
      "  File \"/opt/Python37/lib/python3.7/posixpath.py\", line 429, in _joinrealpath\n",
      "    if not islink(newpath):\n",
      "  File \"/opt/Python37/lib/python3.7/posixpath.py\", line 171, in islink\n",
      "    st = os.lstat(path)\n",
      "KeyboardInterrupt\n"
     ]
    },
    {
     "ename": "KeyboardInterrupt",
     "evalue": "",
     "output_type": "error",
     "traceback": [
      "\u001b[0;31m---------------------------------------------------------------------------\u001b[0m"
     ]
    }
   ],
   "source": [
    "%%time\n",
    "# prepare dataset\n",
    "dataset_root = os.path.abspath(os.path.expanduser(IMG_DATA))\n",
    "print(f'Dataset root: {dataset_root}')\n",
    "\n",
    "image_generator = tf.keras.preprocessing.image.ImageDataGenerator(rescale=1/255,\n",
    "                                                                  validation_split=0.17)\n",
    "train_data = image_generator.flow_from_directory(dataset_root, target_size=IMG_SHAPE,\n",
    "                                                 subset='training')\n",
    "validation_data = image_generator.flow_from_directory(dataset_root, target_size=IMG_SHAPE,\n",
    "                                                 subset='validation')\n",
    "\n",
    "for image_batch, label_batch in validation_data:\n",
    "    print(f'Image batch shape: {image_batch.shape}')\n",
    "    print(f'Label batch shape: {label_batch.shape}')\n",
    "    break\n",
    "\n",
    "class_names = sorted(validation_data.class_indices.items(), key=itemgetter(1))\n",
    "class_names = np.array([key.title() for key, value in class_names])\n",
    "print(f'Classes: {class_names}')"
   ]
  },
  {
   "cell_type": "code",
   "execution_count": null,
   "metadata": {},
   "outputs": [],
   "source": [
    "## get result labels\n",
    "predicted_id = np.argmax(label_batch, axis=-1)\n",
    "predicted_label_batch = class_names[predicted_id]\n",
    "\n",
    "fig1 = plt.figure(figsize=(10, 10))\n",
    "for i in range(25):\n",
    "    ax = fig1.add_subplot(5, 5, i+1)\n",
    "    ax.set_xticks([])\n",
    "    ax.set_yticks([])\n",
    "    ax.grid(False)\n",
    "    ax.imshow(image_batch[i])\n",
    "    ax.set_xlabel(predicted_label_batch[i], color='brown')"
   ]
  },
  {
   "cell_type": "code",
   "execution_count": null,
   "metadata": {},
   "outputs": [],
   "source": [
    "# Create CNN\n",
    "model = models.Sequential()\n",
    "model.add(layers.Conv2D(32, (3, 3), activation='relu', input_shape=IMG_SHAPE + (3, )))\n",
    "model.add(layers.MaxPooling2D((2, 2)))\n",
    "model.add(layers.Conv2D(64, (3, 3), activation='relu'))\n",
    "model.add(layers.MaxPooling2D((2, 2)))\n",
    "model.add(layers.Conv2D(64, (3, 3), activation='relu'))\n",
    "model.add(layers.Flatten())\n",
    "model.add(layers.Dense(64, activation='relu'))\n",
    "model.add(layers.Dense(len(validation_data.class_indices)))\n",
    "model.summary()"
   ]
  },
  {
   "cell_type": "code",
   "execution_count": null,
   "metadata": {},
   "outputs": [],
   "source": [
    "# Train build\n",
    "## Compile model for train\n",
    "base_learning_rate = 0.001 # default\n",
    "model.compile(\n",
    "    optimizer=tf.keras.optimizers.Adam(lr=base_learning_rate),\n",
    "    loss=tf.keras.losses.CategoricalCrossentropy(from_logits=True),\n",
    "    metrics=['accuracy'])\n",
    "\n",
    "## Log class\n",
    "### https://www.tensorflow.org/api_docs/python/tf/keras/callbacks/Callback\n",
    "class CollectBatchStats(tf.keras.callbacks.Callback):\n",
    "    def __init__(self):\n",
    "        self.batch_losses = []\n",
    "        self.batch_val_losses = []\n",
    "        self.batch_acc = []\n",
    "        self.batch_val_acc = []\n",
    "    \n",
    "    def on_epoch_end(self, epoch, logs=None):\n",
    "        self.batch_losses.append(logs['loss'])\n",
    "        self.batch_acc.append(logs['accuracy'])\n",
    "        self.batch_val_losses.append(logs['val_loss'])\n",
    "        self.batch_val_acc.append(logs['val_accuracy'])\n",
    "        self.model.reset_metrics()"
   ]
  },
  {
   "cell_type": "code",
   "execution_count": null,
   "metadata": {},
   "outputs": [],
   "source": [
    "steps_per_epoch = np.ceil(train_data.samples/train_data.batch_size) # train all dataset per epoch\n",
    "initial_epoch = 20\n",
    "batch_stats_callback = CollectBatchStats()\n",
    "\n",
    "history = model.fit_generator(train_data,\n",
    "                              epochs=initial_epoch,\n",
    "                              steps_per_epoch=steps_per_epoch,\n",
    "                              validation_data=validation_data,\n",
    "                              callbacks=[batch_stats_callback])"
   ]
  },
  {
   "cell_type": "code",
   "execution_count": null,
   "metadata": {},
   "outputs": [],
   "source": [
    "# Draw learning curves chart\n",
    "acc = batch_stats_callback.batch_acc\n",
    "val_acc = batch_stats_callback.batch_val_acc\n",
    "loss = batch_stats_callback.batch_losses\n",
    "val_loss = batch_stats_callback.batch_val_losses\n",
    "\n",
    "fig2 = plt.figure(figsize=(8, 8))\n",
    "ax1 = fig2.add_subplot(2, 1, 1)\n",
    "ax1.plot(acc, label='Training Accuracy')\n",
    "ax1.plot(val_acc, label='Validation Accuracy')\n",
    "ax1.legend(loc='lower right')\n",
    "ax1.set_ylabel('Accuracy')\n",
    "ax1.set_ylim([0, 1])\n",
    "ax1.set_title('Training and Validation Accuracy')\n",
    "\n",
    "ax2 = fig2.add_subplot(2, 1, 2)\n",
    "ax2.plot(loss, label='Training Loss')\n",
    "ax2.plot(val_loss, label='Validation Loss')\n",
    "ax2.legend(loc='upper right')\n",
    "ax2.set_ylabel('Cross Entropy')\n",
    "ax2.set_ylim([0,max(ax2.get_ylim())])\n",
    "ax2.set_title('Training and Validation Loss')\n",
    "ax2.set_xlabel('epoch')"
   ]
  },
  {
   "cell_type": "code",
   "execution_count": null,
   "metadata": {},
   "outputs": [],
   "source": [
    "# import pickle\n",
    "# with open('sampled_152_iid.pickle', 'wb') as f:\n",
    "#     pickle.dump((acc, val_acc, loss, val_loss), f)"
   ]
  },
  {
   "cell_type": "code",
   "execution_count": null,
   "metadata": {},
   "outputs": [],
   "source": [
    "# import pickle\n",
    "\n",
    "# with open('sampled_data_152_chart.pickle', 'rb') as f:\n",
    "#     (acc_152, val_acc_152, loss_152, val_loss_152) = pickle.load(f)\n",
    "# with open('sampled_data_1184_chart.pickle', 'rb') as f:\n",
    "#     (acc_1184, val_acc_1184, loss_1184, val_loss_1184) = pickle.load(f)\n",
    "\n",
    "# fig2 = plt.figure(figsize=(8, 8))\n",
    "# ax1 = fig2.add_subplot(2, 1, 1)\n",
    "# ax1.plot(acc_152, label='Training Accuracy (152)')\n",
    "# ax1.plot(val_acc_152, label='Validation Accuracy (152)')\n",
    "# ax1.plot(acc_1184, label='Training Accuracy (1184)')\n",
    "# ax1.plot(val_acc_1184, label='Validation Accuracy (1184)')\n",
    "# ax1.legend(loc='upper right')\n",
    "# ax1.set_ylabel('Accuracy')\n",
    "# ax1.set_ylim([0, 1])\n",
    "# ax1.set_title('Training and Validation Accuracy')\n",
    "\n",
    "# ax2 = fig2.add_subplot(2, 1, 2)\n",
    "# ax2.plot(loss_152, label='Training Loss (152)')\n",
    "# ax2.plot(val_loss_152, label='Validation Loss (152)')\n",
    "# ax2.plot(loss_1184, label='Training Loss (1184)')\n",
    "# ax2.plot(val_loss_1184, label='Validation Loss (1184)')\n",
    "# ax2.legend(loc='lower right')\n",
    "# ax2.set_ylabel('Cross Entropy')\n",
    "# ax2.set_ylim([0,max(ax2.get_ylim())])\n",
    "# ax2.set_title('Training and Validation Loss')\n",
    "# ax2.set_xlabel('epoch')"
   ]
  },
  {
   "cell_type": "code",
   "execution_count": null,
   "metadata": {},
   "outputs": [],
   "source": [
    "# # Plot results\n",
    "# predicted_batch = model.predict(image_batch)\n",
    "# predicted_id = np.argmax(predicted_batch, axis=-1)\n",
    "# predicted_label_batch = class_names[predicted_id]\n",
    "\n",
    "# label_id = np.argmax(label_batch, axis=-1)\n",
    "\n",
    "# ## plot\n",
    "# fig3 = plt.figure(figsize=(10,9))\n",
    "# fig3.subplots_adjust(hspace=0.5)\n",
    "# for n in range(30):\n",
    "#     ax = fig3.add_subplot(6, 5, n+1)\n",
    "#     ax.imshow(image_batch[n])\n",
    "#     color = 'green' if predicted_id[n] == label_id[n] else 'red'\n",
    "#     ax.set_title(predicted_label_batch[n].title(), color=color)\n",
    "#     ax.axis('off')\n",
    "# _ = fig3.suptitle('Model predictions (green: correct, red: incorrect)')"
   ]
  },
  {
   "cell_type": "code",
   "execution_count": null,
   "metadata": {},
   "outputs": [],
   "source": [
    "# # Export model\n",
    "# import time\n",
    "# t = time.time()\n",
    "\n",
    "# export_path = f'./saved_models/{int(t)}'\n",
    "# model.save(export_path, save_format='tf')\n",
    "\n",
    "# print(f'Export the model to {export_path}')"
   ]
  }
 ],
 "metadata": {
  "kernelspec": {
   "display_name": "Federated Learning",
   "language": "python",
   "name": "tff-app"
  },
  "language_info": {
   "codemirror_mode": {
    "name": "ipython",
    "version": 3
   },
   "file_extension": ".py",
   "mimetype": "text/x-python",
   "name": "python",
   "nbconvert_exporter": "python",
   "pygments_lexer": "ipython3",
   "version": "3.7.6"
  }
 },
 "nbformat": 4,
 "nbformat_minor": 4
}
