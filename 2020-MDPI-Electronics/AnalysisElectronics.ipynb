{
 "cells": [
  {
   "cell_type": "code",
   "execution_count": null,
   "metadata": {},
   "outputs": [],
   "source": [
    "# Setup library\n",
    "import os\n",
    "import csv\n",
    "import pickle\n",
    "import re\n",
    "\n",
    "import pandas as pd\n",
    "import numpy as np\n",
    "\n",
    "import matplotlib.pyplot as plt\n",
    "%matplotlib inline"
   ]
  },
  {
   "cell_type": "code",
   "execution_count": null,
   "metadata": {},
   "outputs": [],
   "source": [
    "from dataset_util import get_tfrecord, get_index, get_weight, get_datatick, get_sample_size"
   ]
  },
  {
   "cell_type": "code",
   "execution_count": null,
   "metadata": {},
   "outputs": [],
   "source": [
    "dataset = get_tfrecord('./electronics/dataset')\n",
    "print(f'Dataset: {dataset}')\n",
    "\n",
    "if os.path.exists('./electronics/dataset/get_index.pickle'):\n",
    "    with open('./electronics/dataset/get_index.pickle', 'rb') as f:\n",
    "        idx2lab, lab2cnt = pickle.load(f)\n",
    "else:\n",
    "    idx2lab, lab2cnt = get_index(dataset)\n",
    "    with open('./electronics/dataset/get_index.pickle', 'wb') as f:\n",
    "        pickle.dump((idx2lab, lab2cnt), f)\n",
    "print(f'lab2cnt: {lab2cnt}')\n",
    "\n",
    "if os.path.exists('./electronics/dataset/get_weight.pickle'):\n",
    "    with open('./electronics/dataset/get_weight.pickle', 'rb') as f:\n",
    "        weights = pickle.load(f)\n",
    "else:\n",
    "    weights = get_weight('./electronics/dataset/weights.csv', idx2lab)\n",
    "    with open('./electronics/dataset/get_weight.pickle', 'wb') as f:\n",
    "        pickle.dump(weights, f)\n",
    "print(f'weights: {weights}')\n",
    "\n",
    "if os.path.exists('./electronics/dataset/get_datatick.pickle'):\n",
    "    with open('./electronics/dataset/get_datatick.pickle', 'rb') as f:\n",
    "        datatick = pickle.load(f)\n",
    "else:\n",
    "    datatick = get_datatick(lab2cnt, weights)\n",
    "    with open('./electronics/dataset/get_datatick.pickle', 'wb') as f:\n",
    "        pickle.dump(datatick, f)\n",
    "print(f'datatick: {datatick}')\n",
    "\n",
    "if os.path.exists('./electronics/dataset/get_sample_size.pickle'):\n",
    "    with open('./electronics/dataset/get_sample_size.pickle', 'rb') as f:\n",
    "        sample_size = pickle.load(f)\n",
    "else:\n",
    "    sample_size = get_sample_size(weights, datatick)\n",
    "    with open('./electronics/dataset/get_sample_size.pickle', 'wb') as f:\n",
    "        pickle.dump(sample_size, f) \n",
    "print(f'sample_size: {sample_size}')"
   ]
  },
  {
   "cell_type": "code",
   "execution_count": null,
   "metadata": {},
   "outputs": [],
   "source": [
    "df_cnt = pd.DataFrame(lab2cnt.items(), columns=('label', 'count'))\n",
    "df_cnt = df_cnt.sort_values(by=['count'], ascending=True)\n",
    "df_sam = pd.DataFrame(sample_size.items(), columns=('label', 'count'))\n",
    "df_sam = df_sam.sort_values(by=['count'], ascending=True)"
   ]
  },
  {
   "cell_type": "code",
   "execution_count": null,
   "metadata": {},
   "outputs": [],
   "source": [
    "df = pd.merge(df_cnt, df_sam, on='label')\n",
    "x = df['label'][df.index].tolist()\n",
    "height1 = df['count_x'][df.index].tolist()\n",
    "height2 = df['count_y'][df.index].tolist()\n",
    "\n",
    "fig = plt.figure(figsize=(8+4, 6))\n",
    "ax = fig.add_subplot()\n",
    "bars1 = ax.bar(x, height1, color='turquoise', label='ISCXVPN2016')\n",
    "bars2 = ax.bar(x, height2, color='teal', label='Weighted Sampled')\n",
    "ax.set_xticks(ax.get_xticks()) # sometimes removed\n",
    "ax.set_xticklabels([l+' ('+str(weights[l])+')' for l in x], rotation=35, fontsize='large')\n",
    "ax.set_ylim((1, 1e7))\n",
    "ax.set_yscale('log')\n",
    "ax.set_xlabel('Applications (Sampling weight)', fontsize='x-large')\n",
    "ax.set_ylabel('The number of packet with payload', fontsize='x-large')\n",
    "for index, rect in enumerate(bars1):\n",
    "    height = rect.get_height()\n",
    "#     ax.annotate(f'{format(height1[index])}',\n",
    "    if index == 10 or index == 12 or index == 13:\n",
    "        ax.annotate(f'{height1[index]:0,d}',\n",
    "                     xy=(rect.get_x()+0.4, height*0.8),\n",
    "                     ha='center',\n",
    "                     va='bottom')\n",
    "    elif index == 14:\n",
    "        ax.annotate(f'{height1[index]:0,d}',\n",
    "                     xy=(rect.get_x()+0.4, height*1.2),\n",
    "                     ha='center',\n",
    "                     va='bottom')\n",
    "    elif index == 15:\n",
    "        ax.annotate(f'{height1[index]:0,d}',\n",
    "                     xy=(rect.get_x()+0.4, height*1),\n",
    "                     ha='center',\n",
    "                     va='bottom')\n",
    "    else:\n",
    "        ax.annotate(f'{height1[index]:0,d}',\n",
    "                     xy=(rect.get_x()+0.4, height/1),\n",
    "                     ha='center',\n",
    "                     va='bottom')\n",
    "for index, rect in enumerate(bars2):\n",
    "    height = rect.get_height()\n",
    "    ax.annotate(f'{height2[index]:,d}',\n",
    "                 xy=(rect.get_x()+0.4, height/2),\n",
    "                 ha='center',\n",
    "                 va='bottom')\n",
    "ax.legend()\n",
    "fig.savefig('dataset.png', bbox_inches='tight')"
   ]
  },
  {
   "cell_type": "markdown",
   "metadata": {},
   "source": [
    "### CL vs. FL"
   ]
  },
  {
   "cell_type": "code",
   "execution_count": null,
   "metadata": {},
   "outputs": [],
   "source": [
    "with open('electronics/cl_epoch100/centralized_history.pickle', 'rb') as f:\n",
    "    cl_pkl = pickle.load(f)\n",
    "with open('electronics/fl_client32_round100_epoch1/ckpt/fl/fl_metrics.pickle', 'rb') as f:\n",
    "    fl_pkl = pickle.load(f)"
   ]
  },
  {
   "cell_type": "code",
   "execution_count": null,
   "metadata": {},
   "outputs": [],
   "source": [
    "cl_accuracy, cl_loss = cl_pkl[1], cl_pkl[3]\n",
    "fl_accuracy, fl_loss = fl_pkl[4], fl_pkl[3]"
   ]
  },
  {
   "cell_type": "code",
   "execution_count": null,
   "metadata": {},
   "outputs": [],
   "source": [
    "fig = plt.figure(figsize=(8, 6))\n",
    "ax = fig.add_subplot()\n",
    "ax.plot(cl_accuracy, color='C1', label='Centralized')\n",
    "ax.plot(fl_accuracy, color='C2', label='Federated (32 Clients)')\n",
    "ax.set_xlabel('Epochs, Rounds', fontsize='x-large')\n",
    "ax.set_ylabel('Accuracy', fontsize='x-large')\n",
    "ax.set_ylim([-0.05, 1.05])\n",
    "ax.tick_params(axis='both', labelsize='large')\n",
    "ax.legend(loc='center right', fontsize='large')\n",
    "\n",
    "ax.axhline(y=cl_accuracy[99], linestyle='--', color='gray')\n",
    "ax.axhline(y=fl_accuracy[98], linestyle='--', color='gray')\n",
    "ax.text(-7.5, cl_accuracy[99]-0.000, round(cl_accuracy[99], 2),\n",
    "        fontsize='medium', \n",
    "        horizontalalignment='center', verticalalignment='center')\n",
    "ax.text(-7.5, fl_accuracy[98]-0.015, round(fl_accuracy[98], 2),\n",
    "        fontsize='medium', \n",
    "        horizontalalignment='center', verticalalignment='center')\n",
    "fig.savefig('clvsfl-acc.png', bbox_inches='tight')\n",
    "\n",
    "fig = plt.figure(figsize=(8, 6))\n",
    "ax = fig.add_subplot()\n",
    "ax.plot(cl_loss, color='C1', label='Centralized')\n",
    "ax.plot(fl_loss, color='C2', label='Federated (32 Clients)')\n",
    "ax.set_xlabel('Epochs, Rounds', fontsize='x-large')\n",
    "ax.set_ylabel('Loss', fontsize='x-large')\n",
    "ax.tick_params(axis='both', labelsize='large')\n",
    "ax.legend(loc='center right', fontsize='large')\n",
    "\n",
    "ax.axvline(x=45, ymax=cl_loss[45]/3, linestyle='--', color='gray')\n",
    "ax.text(45, 0+0.025, 45,\n",
    "        fontsize='medium', \n",
    "        horizontalalignment='center', verticalalignment='center')\n",
    "\n",
    "fig.savefig('clvsfl-loss.png', bbox_inches='tight')"
   ]
  },
  {
   "cell_type": "markdown",
   "metadata": {},
   "source": [
    "# Clients"
   ]
  },
  {
   "cell_type": "code",
   "execution_count": null,
   "metadata": {},
   "outputs": [],
   "source": [
    "xdata = [5, 10, 15, 20, 25, 30]\n",
    "ydata = list()\n",
    "for v in xdata:\n",
    "    path = f'electronics/fl_client{v}_round10_epoch1/ckpt/fl/fl_metrics.pickle'\n",
    "    with open(path, 'rb') as f:\n",
    "        data = pickle.load(f)\n",
    "    ydata.append(max(data[4]))"
   ]
  },
  {
   "cell_type": "code",
   "execution_count": null,
   "metadata": {},
   "outputs": [],
   "source": [
    "ydata2 = list()\n",
    "with open('./electronics/get_sample_size.pickle', 'rb') as f:\n",
    "    sample_size = pickle.load(f)\n",
    "    total = sum(sample_size.values())\n",
    "for v in xdata:\n",
    "    nrow = total\n",
    "    tick = nrow*(1-0.1)//v\n",
    "    ydata2.append(int(tick))\n",
    "\n",
    "print(ydata2)"
   ]
  },
  {
   "cell_type": "code",
   "execution_count": null,
   "metadata": {},
   "outputs": [],
   "source": [
    "fig = plt.figure(figsize=(8, 6))\n",
    "ax = fig.add_subplot()\n",
    "bars = ax.bar(x=xdata, height=ydata, width=3, color='C5')\n",
    "ax.set_xlabel('The number of clients', fontsize='x-large')\n",
    "ax.set_ylabel('Accuracy', fontsize='x-large')\n",
    "ax.set_ylim([0, 1])\n",
    "for index, rect in enumerate(bars):\n",
    "    height = rect.get_height()\n",
    "    ax.annotate(f'{ydata[index]:.2f}',\n",
    "                 xy=(rect.get_x()+1.5, height),\n",
    "                 ha='center',\n",
    "                 va='bottom')\n",
    "\n",
    "ax2 = ax.twinx()\n",
    "ax2.plot(xdata, ydata2, linestyle='', color='C3', marker='D')\n",
    "ax2.set_ylim([0, 35000])\n",
    "ax2.set_ylabel('The number of records per clients', fontsize='x-large')\n",
    "for index, v in enumerate(ydata2):\n",
    "    ax2.text(xdata[index], v+1000, v, fontsize='medium', horizontalalignment='center', verticalalignment='center')\n",
    "\n",
    "fig.savefig('clientsfixeddata.png', bbox_inches='tight')"
   ]
  },
  {
   "cell_type": "code",
   "execution_count": null,
   "metadata": {},
   "outputs": [],
   "source": [
    "xdata = [5, 10, 15, 20, 25, 30]\n",
    "ydata = list()\n",
    "for v in xdata:\n",
    "    path = f'electronics/clients_max30/ckpt_clients{v}/fl/fl_metrics.pickle'\n",
    "    with open(path, 'rb') as f:\n",
    "        data = pickle.load(f)\n",
    "    ydata.append(max(data[4]))"
   ]
  },
  {
   "cell_type": "code",
   "execution_count": null,
   "metadata": {},
   "outputs": [],
   "source": [
    "fig = plt.figure(figsize=(8, 6))\n",
    "ax = fig.add_subplot()\n",
    "bars = ax.bar(x=xdata, height=ydata, width=3, color='C8')\n",
    "ax.set_xlabel('The number of clients', fontsize='x-large')\n",
    "ax.set_ylabel('Accuracy', fontsize='x-large')\n",
    "ax.set_ylim([0, 1])\n",
    "for index, rect in enumerate(bars):\n",
    "    height = rect.get_height()\n",
    "    ax.annotate(f'{ydata[index]:.2f}',\n",
    "                 xy=(rect.get_x()+1.5, height),\n",
    "                 ha='center',\n",
    "                 va='bottom')\n",
    "fig.savefig('clients.png', bbox_inches='tight')"
   ]
  },
  {
   "cell_type": "code",
   "execution_count": null,
   "metadata": {},
   "outputs": [],
   "source": [
    "xdata = list(range(5, 100+5, 5))\n",
    "ydata = list()\n",
    "ydata2 = list()\n",
    "for v in xdata:\n",
    "    path = f'electronics/clients_max100/ckpt_clients{v}/fl/fl_metrics.pickle'\n",
    "    with open(path, 'rb') as f:\n",
    "        data = pickle.load(f)\n",
    "    v_max = max(data[4])\n",
    "    ydata.append(v_max)\n",
    "    i_max = None\n",
    "    for i, v in enumerate(data[4]):\n",
    "        if 0.8 <= v:\n",
    "            i_max = i+1\n",
    "            break\n",
    "    ydata2.append(i_max)"
   ]
  },
  {
   "cell_type": "code",
   "execution_count": null,
   "metadata": {},
   "outputs": [],
   "source": [
    "fig = plt.figure(figsize=(8*2, 6))\n",
    "ax = fig.add_subplot()\n",
    "bars = ax.bar(x=xdata, height=ydata, width=3, color='C8')\n",
    "ax.set_xlabel('The number of clients', fontsize='x-large')\n",
    "ax.set_ylabel('Accuracy', fontsize='x-large')\n",
    "ax.set_ylim([0, 1])\n",
    "for index, rect in enumerate(bars):\n",
    "    height = rect.get_height()\n",
    "    ax.annotate(f'{ydata[index]:.2f}',\n",
    "                 xy=(rect.get_x()+1.5, height),\n",
    "                 ha='center',\n",
    "                 va='bottom')\n",
    "\n",
    "ax2 = ax.twinx()\n",
    "ax2.plot(xdata, ydata2, linestyle='-', marker='o', color='C3')\n",
    "ax2.set_ylim([0, 100])\n",
    "ax2.set_ylabel('Rounds to exceed 0.8 accuracy', fontsize='x-large')\n",
    "# ax2.set_ylabel('The number of records per clients', fontsize='x-large')\n",
    "# for index, v in enumerate(ydata2):\n",
    "#     ax2.text(xdata[index], v+1000, v, fontsize='medium', horizontalalignment='center', verticalalignment='center')\n",
    "\n",
    "    \n",
    "fig.savefig('clients.png', bbox_inches='tight')"
   ]
  },
  {
   "cell_type": "code",
   "execution_count": null,
   "metadata": {},
   "outputs": [],
   "source": [
    "fig = plt.figure(figsize=(8, 6))\n",
    "ax = fig.add_subplot()\n",
    "\n",
    "for i, (x, y) in enumerate(zip(xdata, ydata)):\n",
    "    if i not in (0, 1, 11, 19):\n",
    "        continue\n",
    "    ax.axvline(x=xdata[i], ymax=ydata[i], linestyle='--', color='gray')\n",
    "#     ax.axhline(y=ydata[i], xmax=xdata[i]/max(xdata), linestyle='--', color='gray')\n",
    "    ax.annotate(f'{y:.2f}',\n",
    "                xy=(x, y+0.01),\n",
    "                ha='center',\n",
    "                va='bottom')\n",
    "    if i in (0, 1):\n",
    "        ax.annotate(f'{x}', \n",
    "                    xy=(x, 0),\n",
    "                    ha='center',\n",
    "                    va='bottom')\n",
    "\n",
    "ax.plot(xdata, ydata, marker='o', color='C8')\n",
    "ax.set_xlabel('The number of clients', fontsize='x-large')\n",
    "ax.set_ylabel('Accuracy', fontsize='x-large')\n",
    "ax.set_xlim([0, 105])\n",
    "ax.set_ylim([0, 1])\n",
    "\n",
    "fig.savefig('clients-acc.png', bbox_inches='tight')\n",
    "\n",
    "\n",
    "fig = plt.figure(figsize=(8, 6))\n",
    "ax = fig.add_subplot()\n",
    "\n",
    "for i, (x, y) in enumerate(zip(xdata, ydata2)):\n",
    "    if i not in (1, 11, 19):\n",
    "        continue\n",
    "    ax.axvline(x=xdata[i], ymax=ydata2[i]/100, linestyle='--', color='gray')\n",
    "#     ax.axhline(y=ydata2[i], xmax=xdata[i]/max(xdata), linestyle='--', color='gray')\n",
    "    ax.annotate(f'{y:d}',\n",
    "                xy=(x, y+1),\n",
    "                ha='center',\n",
    "                va='bottom')\n",
    "    if i in (1,):\n",
    "        ax.annotate(f'{x}', \n",
    "                    xy=(x, 0),\n",
    "                    ha='center',\n",
    "                    va='bottom')\n",
    "\n",
    "ax.plot(xdata, ydata2, marker='o', color='C3')\n",
    "ax.set_xlabel('The number of clients', fontsize='x-large')\n",
    "ax.set_ylabel('Rounds', fontsize='x-large')\n",
    "ax.set_xlim([0, 105])\n",
    "ax.set_ylim([0, 100])\n",
    "    \n",
    "fig.savefig('clients-round.png', bbox_inches='tight')"
   ]
  },
  {
   "cell_type": "markdown",
   "metadata": {},
   "source": [
    "# Data class"
   ]
  },
  {
   "cell_type": "code",
   "execution_count": null,
   "metadata": {},
   "outputs": [],
   "source": [
    "xdata = [(1, 1000), (2, 200), (3, 100), (4, 200), (5, 200), (6, 100), (7, 100), (8, 100)]\n",
    "ydata = list()\n",
    "for c, r in xdata:\n",
    "    path = f'electronics/fl_class{c}_round{r}_epoch1/ckpt/fl/fl_metrics.pickle'\n",
    "    with open(path, 'rb') as f:\n",
    "        data = pickle.load(f)\n",
    "    ydata.append(max(data[4]))\n",
    "xdata = [x[0] for x in xdata]"
   ]
  },
  {
   "cell_type": "code",
   "execution_count": null,
   "metadata": {},
   "outputs": [],
   "source": [
    "fig = plt.figure(figsize=(8, 6))\n",
    "ax = fig.add_subplot()\n",
    "bars = ax.bar(x=xdata, height=ydata, color='C9')\n",
    "ax.set_xlabel('The number of classes distributed to one client', fontsize='x-large')\n",
    "ax.set_ylabel('Accuracy', fontsize='x-large')\n",
    "ax.tick_params(axis='both', labelsize='large')\n",
    "ax.set_ylim([0, 1])\n",
    "for index, rect in enumerate(bars):\n",
    "    height = rect.get_height()\n",
    "    ax.annotate(f'{ydata[index]:.2f}',\n",
    "                 xy=(rect.get_x()+0.4, height),\n",
    "                 ha='center',\n",
    "                 va='bottom')\n",
    "\n",
    "fig.savefig('class.png', bbox_inches='tight')"
   ]
  },
  {
   "cell_type": "code",
   "execution_count": null,
   "metadata": {},
   "outputs": [],
   "source": [
    "fig = plt.figure(figsize=(8, 6))\n",
    "ax = fig.add_subplot()\n",
    "\n",
    "for i, (x, y) in enumerate(zip(xdata, ydata)):\n",
    "    if i not in (0, 1, 3, 7):\n",
    "        continue\n",
    "    ax.axvline(x=xdata[i], ymax=ydata[i], linestyle='--', color='gray')\n",
    "#     ax.axhline(y=ydata[i], xmax=xdata[i]/max(xdata), linestyle='--', color='gray')\n",
    "    ax.annotate(f'{y:.2f}',\n",
    "                xy=(x, y+0.01),\n",
    "                ha='center',\n",
    "                va='bottom')\n",
    "\n",
    "ax.plot(xdata, ydata, marker='v', markersize=8, color='C9')\n",
    "ax.set_xlabel('The number of classes distributed to each client', fontsize='x-large')\n",
    "ax.set_ylabel('Accuracy', fontsize='x-large')\n",
    "ax.tick_params(axis='both', labelsize='large')\n",
    "ax.set_ylim([0, 1])\n",
    "\n",
    "fig.savefig('class.png', bbox_inches='tight')"
   ]
  },
  {
   "cell_type": "markdown",
   "metadata": {},
   "source": [
    "# Dynamic class label"
   ]
  },
  {
   "cell_type": "code",
   "execution_count": null,
   "metadata": {},
   "outputs": [],
   "source": [
    "with open('electronics/ckpt_dynamic/fl/fl_metrics.pickle', 'rb') as f:\n",
    "    data = pickle.load(f)\n",
    "    ydata = data[4]"
   ]
  },
  {
   "cell_type": "code",
   "execution_count": null,
   "metadata": {},
   "outputs": [],
   "source": [
    "reorder = [7, 0, 14, 8, 11, 2, 15, 10, 4, 13, 5, 12, 1, 3, 9, 6]\n",
    "datalab = list()\n",
    "for i in range(0, len(reorder), 2):\n",
    "    datalab.append((idx2lab[reorder[i]], idx2lab[reorder[i+1]]))"
   ]
  },
  {
   "cell_type": "code",
   "execution_count": null,
   "metadata": {},
   "outputs": [],
   "source": [
    "fig = plt.figure(figsize=(8*2, 6))\n",
    "ax = fig.add_subplot()\n",
    "\n",
    "for i in range(1, 8):\n",
    "    ax.fill_between([10*(i-1), 10*i], [1, 1], color='khaki', alpha=0.1*i+0.1)\n",
    "ax.fill_between([10*7, len(ydata)], [1, 1], color='khaki', alpha=0.9)\n",
    "ax.plot(range(1, len(ydata)+1), ydata, color='C5')\n",
    "ax.plot(range(0, 80, 10), [0]*8, linestyle='', marker='v', color='gray')\n",
    "for i in range(0, 8):\n",
    "    ax.text(i*10, 0.025, f'+{datalab[i][0]}, {datalab[i][1]}', rotation=15, fontsize='xx-large')\n",
    "ax.set_xlabel('Rounds', fontsize='xx-large')\n",
    "ax.set_ylabel('Accuracy', fontsize='xx-large')\n",
    "ax.tick_params(axis='both', labelsize='xx-large')\n",
    "fig.savefig('dynamic.png', bbox_inches='tight')"
   ]
  },
  {
   "cell_type": "code",
   "execution_count": null,
   "metadata": {},
   "outputs": [],
   "source": [
    "ydata2 = list()\n",
    "for i in range(1, 9):\n",
    "    ydata2.extend([2*i]*10)"
   ]
  },
  {
   "cell_type": "code",
   "execution_count": null,
   "metadata": {},
   "outputs": [],
   "source": []
  },
  {
   "cell_type": "code",
   "execution_count": null,
   "metadata": {},
   "outputs": [],
   "source": [
    "fig = plt.figure(figsize=(8*2, 6))\n",
    "ax = fig.add_subplot()\n",
    "\n",
    "for i in range(1, 8):\n",
    "    ax.fill_between([10*(i-1), 10*i], [1, 1], color='khaki', alpha=0.1*i+0.1)\n",
    "ax.fill_between([10*7, len(ydata)], [1, 1], color='khaki', alpha=0.9)\n",
    "ax.plot(range(1, len(ydata)+1), ydata, color='C5')\n",
    "ax.plot(range(0, 80, 10), [0]*8, linestyle='', marker='v', color='gray')\n",
    "ax.set_xlabel('Rounds', fontsize='xx-large')\n",
    "ax.set_ylabel('Accuracy', fontsize='xx-large')\n",
    "ax.tick_params(axis='both', labelsize='xx-large')\n",
    "\n",
    "ax2 = ax.twinx()\n",
    "ax2.plot(range(1, len(ydata)+1), ydata2, color='C1')\n",
    "ax2.set_ylim([0, 20])\n",
    "ax2.set_yticks(range(0, 24, 4))\n",
    "ax2.set_ylabel('The number of clients', fontsize='xx-large')\n",
    "ax2.yaxis.set_major_formatter(plt.FormatStrFormatter('%d'))\n",
    "ax2.tick_params(axis='both', labelsize='xx-large')\n",
    "\n",
    "for i in range(0, 8):\n",
    "    ax.text(i*10, 0.025, f'+{datalab[i][0]}, {datalab[i][1]}', rotation=15, fontsize='xx-large')\n",
    "\n",
    "fig.savefig('dynamic.png', bbox_inches='tight')"
   ]
  },
  {
   "cell_type": "markdown",
   "metadata": {},
   "source": [
    "# Epoch 1 / 5"
   ]
  },
  {
   "cell_type": "code",
   "execution_count": null,
   "metadata": {},
   "outputs": [],
   "source": [
    "path_root = os.path.abspath(os.path.expanduser('./ieeeaccess/epoch_exp'))\n",
    "ndir = [path_root]\n",
    "items = list()\n",
    "while ndir:\n",
    "    cdir = ndir.pop()\n",
    "    for entry in os.scandir(cdir):\n",
    "        if entry.name.startswith('.') or not entry.is_file():\n",
    "            ndir.append(entry.path)\n",
    "        elif entry.name.endswith('.pickle'):\n",
    "            items.append(entry.path)"
   ]
  },
  {
   "cell_type": "code",
   "execution_count": null,
   "metadata": {},
   "outputs": [],
   "source": [
    "regex = 'c(\\d+)_e(\\d+)_r(\\d+)'\n",
    "result = dict()\n",
    "for item in items:\n",
    "    c, e, r = re.findall(regex, item)[0]\n",
    "    with open(item, 'rb') as f:\n",
    "        data = pickle.load(f)\n",
    "    result[e] = data['val_accuracy']"
   ]
  },
  {
   "cell_type": "code",
   "execution_count": null,
   "metadata": {},
   "outputs": [],
   "source": [
    "df = pd.DataFrame()\n",
    "epochs = list()\n",
    "rounds = list()\n",
    "for k, v in result.items():\n",
    "    for i, a in enumerate(v):\n",
    "        if a >= 0.95:\n",
    "            r95 = i+1\n",
    "            break\n",
    "    if k == '1':\n",
    "        base = r95\n",
    "    print(k, r95)\n",
    "    epochs.append(int(k))\n",
    "    rounds.append(int(r95))\n",
    "mag = list()\n",
    "for r in rounds:\n",
    "    mag.append(base/r)\n",
    "df['epochs'] = epochs\n",
    "df['rounds'] = rounds\n",
    "df['mag'] = mag\n",
    "df = df.sort_values(by=['epochs'])\n",
    "df = df.set_index('epochs')"
   ]
  },
  {
   "cell_type": "code",
   "execution_count": null,
   "metadata": {},
   "outputs": [],
   "source": [
    "df"
   ]
  },
  {
   "cell_type": "code",
   "execution_count": null,
   "metadata": {},
   "outputs": [],
   "source": [
    "print(df.to_csv())"
   ]
  },
  {
   "cell_type": "code",
   "execution_count": null,
   "metadata": {},
   "outputs": [],
   "source": []
  }
 ],
 "metadata": {
  "kernelspec": {
   "display_name": "TensorFlow Federated",
   "language": "python",
   "name": "tff"
  },
  "language_info": {
   "codemirror_mode": {
    "name": "ipython",
    "version": 3
   },
   "file_extension": ".py",
   "mimetype": "text/x-python",
   "name": "python",
   "nbconvert_exporter": "python",
   "pygments_lexer": "ipython3",
   "version": "3.8.6"
  }
 },
 "nbformat": 4,
 "nbformat_minor": 4
}
