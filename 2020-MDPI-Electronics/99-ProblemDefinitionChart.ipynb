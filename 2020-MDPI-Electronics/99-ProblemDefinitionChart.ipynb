{
 "cells": [
  {
   "cell_type": "code",
   "execution_count": null,
   "metadata": {},
   "outputs": [],
   "source": [
    "# Load library\n",
    "import os\n",
    "import pickle\n",
    "\n",
    "import matplotlib.pyplot as plt\n",
    "# %matplotlib widget\n",
    "%matplotlib inline\n",
    "\n",
    "import pandas as pd\n",
    "import numpy as np"
   ]
  },
  {
   "cell_type": "markdown",
   "metadata": {},
   "source": [
    "# CNN-NonIID Data, FL-Balanced-NonIIDd, FL-Unbalanced-NonIID Accuracy compare"
   ]
  },
  {
   "cell_type": "code",
   "execution_count": null,
   "metadata": {},
   "outputs": [],
   "source": [
    "# Data prepare\n",
    "with open('./dataset_tma/asis.pickle', 'rb') as f:\n",
    "    (_, acc_un, _, _) = pickle.load(f)\n",
    "with open('./dataset_tma/asis_balanced_noniid.pickle', 'rb') as f:\n",
    "    (_, acc_bn, _, _) = pickle.load(f)\n",
    "with open('./dataset_tma/asis_unbalanced_noniid.pickle', 'rb') as f:\n",
    "    (_, acc_un, _, _) = pickle.load(f)"
   ]
  },
  {
   "cell_type": "code",
   "execution_count": null,
   "metadata": {},
   "outputs": [],
   "source": [
    "# Draw learning curves chart\n",
    "fig1 = plt.figure(figsize=(8, 6))\n",
    "ax1 = fig1.add_subplot()\n",
    "ax1.plot(acc_cnn, label='Centralized with NonIID')\n",
    "ax1.plot(acc_bn, label='Federated with Balanced NonIID')\n",
    "ax1.plot(acc_un, label='Federated with Unbalanced NonIID')\n",
    "ax1.grid(True, axis='y')\n",
    "ax1.legend(loc='lower right', fontsize='large')\n",
    "ax1.set_xlabel('Epoch or Round', size='x-large')\n",
    "ax1.set_ylabel('Accuracy', size='x-large')\n",
    "ax1.set_ylim([0, 1])\n",
    "# ax1.set_title('The comparison of accuracy by data types', size='xx-large')"
   ]
  },
  {
   "cell_type": "markdown",
   "metadata": {},
   "source": [
    "# Federated learning comparison by data forms"
   ]
  },
  {
   "cell_type": "code",
   "execution_count": null,
   "metadata": {},
   "outputs": [],
   "source": [
    "with open('./dataset_tma/balanced_iid.pickle', 'rb') as f:\n",
    "    (_, acc_bi, _, loss_bi) = pickle.load(f)\n",
    "with open('./dataset_tma/balanced_noniid.pickle', 'rb') as f:\n",
    "    (_, acc_bn, _, loss_bn) = pickle.load(f)\n",
    "with open('./dataset_tma/unbalanced_iid.pickle', 'rb') as f:\n",
    "    (_, acc_ui, _, loss_ui) = pickle.load(f)\n",
    "with open('./dataset_tma/unbalanced_noniid.pickle', 'rb') as f:\n",
    "    (_, acc_un, _, loss_un) = pickle.load(f)"
   ]
  },
  {
   "cell_type": "code",
   "execution_count": null,
   "metadata": {},
   "outputs": [],
   "source": [
    "fig2 = plt.figure(figsize=(8, 8))\n",
    "ax1 = fig2.add_subplot(2, 1, 1)\n",
    "ax1.plot(acc_bi, label='Balanced IID')\n",
    "ax1.plot(acc_bn, label='Balanced Non-IID')\n",
    "ax1.plot(acc_ui, label='Unbalanced IID')\n",
    "ax1.plot(acc_un, label='Unbalanced Non-IID')\n",
    "# ax1.legend(loc='lower right', fontsize='large')\n",
    "ax1.set_ylabel('Accuracy', size='x-large')\n",
    "ax1.set_ylim([0, 1])\n",
    "# ax1.set_title('Accuracy')\n",
    "\n",
    "ax2 = fig2.add_subplot(2, 1, 2)\n",
    "ax2.plot(loss_bi, label='Balanced IID')\n",
    "ax2.plot(loss_bn, label='Balanced Non-IID')\n",
    "ax2.plot(loss_ui, label='Unbalanced IID')\n",
    "ax2.plot(loss_un, label='Unbalanced Non-IID')\n",
    "ax2.legend(loc='upper right', fontsize='large')\n",
    "ax2.set_ylabel('Cross Entropy', size='x-large')\n",
    "ax2.set_ylim([0,max(ax2.get_ylim())])\n",
    "# ax2.set_title('Loss')\n",
    "ax2.set_xlabel('Rounds', size='x-large')"
   ]
  }
 ],
 "metadata": {
  "kernelspec": {
   "display_name": "Federated Learning",
   "language": "python",
   "name": "tff-app"
  },
  "language_info": {
   "codemirror_mode": {
    "name": "ipython",
    "version": 3
   },
   "file_extension": ".py",
   "mimetype": "text/x-python",
   "name": "python",
   "nbconvert_exporter": "python",
   "pygments_lexer": "ipython3",
   "version": "3.7.6"
  }
 },
 "nbformat": 4,
 "nbformat_minor": 4
}
