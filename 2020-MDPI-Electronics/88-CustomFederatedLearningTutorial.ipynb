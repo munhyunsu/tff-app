{
 "cells": [
  {
   "cell_type": "code",
   "execution_count": null,
   "metadata": {},
   "outputs": [],
   "source": [
    "# import os\n",
    "# from operator import itemgetter\n",
    "import collections\n",
    "\n",
    "import matplotlib.pylab as plt\n",
    "# %matplotlib widget\n",
    "%matplotlib inline\n",
    "\n",
    "import tensorflow as tf\n",
    "tf.random.set_seed(99)\n",
    "import tensorflow_federated as tff\n",
    "import numpy as np\n",
    "import nest_asyncio\n",
    "nest_asyncio.apply()\n",
    "tf.compat.v1.enable_v2_behavior() # https://www.tensorflow.org/api_docs/python/tf/compat/v1/enable_v2_behavior\n",
    "\n",
    "print(f'Tensorflow version: {tf.__version__}')\n",
    "print(f'Tensorflow Federated version: {tff.__version__}')"
   ]
  },
  {
   "cell_type": "code",
   "execution_count": null,
   "metadata": {},
   "outputs": [],
   "source": [
    "federated_float_on_clients = tff.FederatedType(tf.float32, tff.CLIENTS)\n",
    "print(f'The value across distributed devices: {str(federated_float_on_clients.member)}')\n",
    "print(f'The place of a value: {str(federated_float_on_clients.placement)}')\n",
    "print(f'The cruly braces are a notation that may differ across devices: {str(federated_float_on_clients)}')\n",
    "print(('The third value (option) of Federated value is marker that may differ or not: '\n",
    "      f'{federated_float_on_clients.all_equal}'))\n",
    "print(('If the values across distributed diveces are equal, then braces are not shown: '\n",
    "      f'{str(tff.FederatedType(tf.float32, tff.CLIENTS, all_equal=True))}'))"
   ]
  },
  {
   "cell_type": "code",
   "execution_count": null,
   "metadata": {},
   "outputs": [],
   "source": [
    "simple_regression_model_type = tff.NamedTupleType([('a', tf.float32), ('b', tf.float32)])\n",
    "# This is same expression\n",
    "# simple_regression_model_type = tff.NamedTupleType([('a', tff.TensorType(dtype=tf.float32, shape=[])), \n",
    "#                                                    ('b', tff.TensorType(dtype=tf.float32, shape=[]))])\n",
    "print(f'The hyper parameter example: {str(simple_regression_model_type)}')\n",
    "print(('If this model is broadcasted: '\n",
    "      f'{str(tff.FederatedType(simple_regression_model_type, tff.CLIENTS, all_equal=True))}'))"
   ]
  },
  {
   "cell_type": "code",
   "execution_count": null,
   "metadata": {},
   "outputs": [],
   "source": [
    "### \n",
    "@tff.federated_computation(tff.FederatedType(tf.float32, tff.CLIENTS))\n",
    "def get_average_temperature(sensor_readings):\n",
    "    return tff.federated_mean(sensor_readings)\n",
    "print(f'The federated computation example: {str(get_average_temperature.type_signature)}')\n",
    "print(f'The example of federated computation: {get_average_temperature([68.5, 70.3, 69.8])}')"
   ]
  }
 ],
 "metadata": {
  "kernelspec": {
   "display_name": "Federated Learning",
   "language": "python",
   "name": "tff-app"
  },
  "language_info": {
   "codemirror_mode": {
    "name": "ipython",
    "version": 3
   },
   "file_extension": ".py",
   "mimetype": "text/x-python",
   "name": "python",
   "nbconvert_exporter": "python",
   "pygments_lexer": "ipython3",
   "version": "3.7.6"
  }
 },
 "nbformat": 4,
 "nbformat_minor": 4
}
