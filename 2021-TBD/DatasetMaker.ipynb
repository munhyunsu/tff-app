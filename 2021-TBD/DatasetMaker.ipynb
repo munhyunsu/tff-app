{
 "cells": [
  {
   "cell_type": "markdown",
   "id": "39985c57-c495-4db5-8811-7fff2271e7a3",
   "metadata": {},
   "source": [
    "# Tensorflow Dataset 에서 png 이미지 저장"
   ]
  },
  {
   "cell_type": "code",
   "execution_count": null,
   "id": "4dc9faf7-62d5-4741-bd71-584a8003dd64",
   "metadata": {},
   "outputs": [],
   "source": [
    "import os\n",
    "\n",
    "import tensorflow as tf\n",
    "import tensorflow_datasets as tfds\n",
    "from PIL import Image"
   ]
  },
  {
   "cell_type": "markdown",
   "id": "f3da2ea0-34b8-4058-b129-3f225ffeb04d",
   "metadata": {},
   "source": [
    "## [Tensorflow Dataset Catalog](https://www.tensorflow.org/datasets/catalog/overview)"
   ]
  },
  {
   "cell_type": "code",
   "execution_count": null,
   "id": "d5f62282-4438-4f6c-b041-58cd3b37cf70",
   "metadata": {},
   "outputs": [],
   "source": [
    "resize = (True,\n",
    "          (32, 32))"
   ]
  },
  {
   "cell_type": "markdown",
   "id": "03f2c165-b8e6-4dbc-b020-7da2be0458c9",
   "metadata": {},
   "source": [
    "### [CIFAR10](https://www.tensorflow.org/datasets/catalog/cifar10)"
   ]
  },
  {
   "cell_type": "code",
   "execution_count": null,
   "id": "a59323c9-96ac-49db-be6d-904676a8e067",
   "metadata": {},
   "outputs": [],
   "source": [
    "target = 'cifar10'\n",
    "ds, ds_info = tfds.load(target, with_info=True)\n",
    "ds_train = ds['train']\n",
    "ds_test = ds['test']\n",
    "labels = ds_info.features['label'].names\n",
    "print(f'학습 이미지: {len(ds_train)}')\n",
    "print(f'평가 이미지: {len(ds_test)}')\n",
    "print(f'레이블: {labels}')"
   ]
  },
  {
   "cell_type": "code",
   "execution_count": null,
   "id": "acfd1c92-7202-40fe-9025-898b649c90ee",
   "metadata": {},
   "outputs": [],
   "source": [
    "output = os.path.abspath(os.path.expanduser(f'datasets/{target}/train'))\n",
    "for data in ds_train:\n",
    "    img = Image.fromarray(data['image'].numpy())\n",
    "    if resize[0]:\n",
    "        img = img.resize(resize[1])\n",
    "    name = data['id'].numpy().decode('utf-8')\n",
    "    label = labels[data['label'].numpy()]\n",
    "    os.makedirs(os.path.join(output, label), exist_ok=True)\n",
    "    path = os.path.join(output, label, f'{name}.png')\n",
    "    img.save(path)\n",
    "output = os.path.abspath(os.path.expanduser(f'datasets/{target}/test'))\n",
    "for data in ds_test:\n",
    "    img = Image.fromarray(data['image'].numpy())\n",
    "    if resize[0]:\n",
    "        img = img.resize(resize[1])\n",
    "    name = data['id'].numpy().decode('utf-8')\n",
    "    label = labels[data['label'].numpy()]\n",
    "    os.makedirs(os.path.join(output, label), exist_ok=True)\n",
    "    path = os.path.join(output, label, f'{name}.png')\n",
    "    img.save(path)"
   ]
  },
  {
   "cell_type": "markdown",
   "id": "38fa7ca3-1423-4605-a166-16ab4e87b69e",
   "metadata": {},
   "source": [
    "### [CIFAR100](https://www.tensorflow.org/datasets/catalog/cifar100)"
   ]
  },
  {
   "cell_type": "code",
   "execution_count": null,
   "id": "2bb920d8-ab45-407f-b05b-5fa84b8790ab",
   "metadata": {},
   "outputs": [],
   "source": [
    "target = 'cifar100'\n",
    "ds, ds_info = tfds.load(target, with_info=True)\n",
    "ds_train = ds['train']\n",
    "ds_test = ds['test']\n",
    "labels = ds_info.features['label'].names\n",
    "print(f'학습 이미지: {len(ds_train)}')\n",
    "print(f'평가 이미지: {len(ds_test)}')\n",
    "print(f'레이블: {labels}')"
   ]
  },
  {
   "cell_type": "code",
   "execution_count": null,
   "id": "98f0e491-e2dc-4b91-971d-4fdaf43566ac",
   "metadata": {},
   "outputs": [],
   "source": [
    "output = os.path.abspath(os.path.expanduser(f'datasets/{target}/train'))\n",
    "for data in ds_train:\n",
    "    img = Image.fromarray(data['image'].numpy())\n",
    "    if resize[0]:\n",
    "        img = img.resize(resize[1])\n",
    "    name = data['id'].numpy().decode('utf-8')\n",
    "    label = labels[data['label'].numpy()]\n",
    "    os.makedirs(os.path.join(output, label), exist_ok=True)\n",
    "    path = os.path.join(output, label, f'{name}.png')\n",
    "    img.save(path)\n",
    "output = os.path.abspath(os.path.expanduser(f'datasets/{target}/test'))\n",
    "for data in ds_test:\n",
    "    img = Image.fromarray(data['image'].numpy())\n",
    "    if resize[0]:\n",
    "        img = img.resize(resize[1])\n",
    "    name = data['id'].numpy().decode('utf-8')\n",
    "    label = labels[data['label'].numpy()]\n",
    "    os.makedirs(os.path.join(output, label), exist_ok=True)\n",
    "    path = os.path.join(output, label, f'{name}.png')\n",
    "    img.save(path)"
   ]
  },
  {
   "cell_type": "markdown",
   "id": "2fc6f012-b621-4f8b-a267-b19c1c156d9b",
   "metadata": {},
   "source": [
    "### [Fashion MNIST](https://www.tensorflow.org/datasets/catalog/fashion_mnist)"
   ]
  },
  {
   "cell_type": "code",
   "execution_count": null,
   "id": "277310b1-21c0-4c00-8d8d-cf97e9004c8c",
   "metadata": {},
   "outputs": [],
   "source": [
    "target = 'fashion_mnist'\n",
    "ds, ds_info = tfds.load(target, with_info=True)\n",
    "ds_train = ds['train']\n",
    "ds_test = ds['test']\n",
    "labels = []\n",
    "for l in ds_info.features['label'].names:\n",
    "    labels.append(l.split('/')[0])\n",
    "print(f'학습 이미지: {len(ds_train)}')\n",
    "print(f'평가 이미지: {len(ds_test)}')\n",
    "print(f'레이블: {labels}')"
   ]
  },
  {
   "cell_type": "code",
   "execution_count": null,
   "id": "ab10b602-968a-41e8-a0e8-a9fd7c5ccfcc",
   "metadata": {},
   "outputs": [],
   "source": [
    "output = os.path.abspath(os.path.expanduser(f'datasets/{target}/train'))\n",
    "counter = {}\n",
    "for data in ds_train:\n",
    "    img = Image.fromarray(data['image'].numpy().reshape(data['image'].shape[:-1]))\n",
    "    if resize[0]:\n",
    "        img = img.resize(resize[1])\n",
    "    label = labels[data['label'].numpy()]\n",
    "    name = counter.get(label, 0)\n",
    "    os.makedirs(os.path.join(output, label), exist_ok=True)\n",
    "    path = os.path.join(output, label, f'{name:04d}.png')\n",
    "    img.save(path)\n",
    "    counter[label] = name + 1\n",
    "output = os.path.abspath(os.path.expanduser(f'datasets/{target}/test'))\n",
    "counter = {}\n",
    "for data in ds_test:\n",
    "    img = Image.fromarray(data['image'].numpy().reshape(data['image'].shape[:-1]))\n",
    "    if resize[0]:\n",
    "        img = img.resize(resize[1])\n",
    "    label = labels[data['label'].numpy()]\n",
    "    name = counter.get(label, 0)\n",
    "    os.makedirs(os.path.join(output, label), exist_ok=True)\n",
    "    path = os.path.join(output, label, f'{name:04d}.png')\n",
    "    img.save(path)\n",
    "    counter[label] = name + 1"
   ]
  },
  {
   "cell_type": "markdown",
   "id": "dc4aa57d-afa7-4279-b3bb-9d40f21f397a",
   "metadata": {},
   "source": [
    "### [MNIST](https://www.tensorflow.org/datasets/catalog/mnist)"
   ]
  },
  {
   "cell_type": "code",
   "execution_count": null,
   "id": "925ee5e9-2c18-4a30-aab9-8e62b68c41ad",
   "metadata": {},
   "outputs": [],
   "source": [
    "target = 'mnist'\n",
    "ds, ds_info = tfds.load(target, with_info=True)\n",
    "ds_train = ds['train']\n",
    "ds_test = ds['test']\n",
    "labels = ds_info.features['label'].names\n",
    "print(f'학습 이미지: {len(ds_train)}')\n",
    "print(f'평가 이미지: {len(ds_test)}')\n",
    "print(f'레이블: {labels}')"
   ]
  },
  {
   "cell_type": "code",
   "execution_count": null,
   "id": "eef92bc8-4938-4b31-b121-f99ebae2c2f0",
   "metadata": {},
   "outputs": [],
   "source": [
    "output = os.path.abspath(os.path.expanduser(f'datasets/{target}/train'))\n",
    "counter = {}\n",
    "for data in ds_train:\n",
    "    img = Image.fromarray(data['image'].numpy().reshape(data['image'].shape[:-1]))\n",
    "    if resize[0]:\n",
    "        img = img.resize(resize[1])\n",
    "    label = labels[data['label'].numpy()]\n",
    "    name = counter.get(label, 0)\n",
    "    os.makedirs(os.path.join(output, label), exist_ok=True)\n",
    "    path = os.path.join(output, label, f'{name:04d}.png')\n",
    "    img.save(path)\n",
    "    counter[label] = name + 1\n",
    "output = os.path.abspath(os.path.expanduser(f'datasets/{target}/test'))\n",
    "counter = {}\n",
    "for data in ds_test:\n",
    "    img = Image.fromarray(data['image'].numpy().reshape(data['image'].shape[:-1]))\n",
    "    if resize[0]:\n",
    "        img = img.resize(resize[1])\n",
    "    label = labels[data['label'].numpy()]\n",
    "    name = counter.get(label, 0)\n",
    "    os.makedirs(os.path.join(output, label), exist_ok=True)\n",
    "    path = os.path.join(output, label, f'{name:04d}.png')\n",
    "    img.save(path)\n",
    "    counter[label] = name + 1"
   ]
  },
  {
   "cell_type": "markdown",
   "id": "f1d51104-90cf-4717-bc5e-1789643ede57",
   "metadata": {},
   "source": [
    "### [Caltech-UCSD Birds 200](https://www.tensorflow.org/datasets/catalog/caltech_birds2010)"
   ]
  },
  {
   "cell_type": "code",
   "execution_count": null,
   "id": "645c16af-e5cd-4506-b936-4158b7eefd7d",
   "metadata": {},
   "outputs": [],
   "source": [
    "target = 'caltech_birds2010'\n",
    "ds, ds_info = tfds.load(target, with_info=True)\n",
    "ds_train = ds['train']\n",
    "ds_test = ds['test']\n",
    "labels = ds_info.features['label'].names\n",
    "print(f'학습 이미지: {len(ds_train)}')\n",
    "print(f'평가 이미지: {len(ds_test)}')\n",
    "print(f'레이블: {labels}')"
   ]
  },
  {
   "cell_type": "code",
   "execution_count": null,
   "id": "b0730687-621c-42a6-879d-a8b177944e73",
   "metadata": {},
   "outputs": [],
   "source": [
    "labs = set()\n",
    "for data in ds_train:\n",
    "    labs.add(data['label_name'].numpy().decode('utf-8'))\n",
    "labs = list(labs)\n",
    "labs.sort()\n",
    "print(labs)"
   ]
  },
  {
   "cell_type": "code",
   "execution_count": null,
   "id": "8c9218a5-ce2c-484b-9127-24344fb69853",
   "metadata": {},
   "outputs": [],
   "source": [
    "len(labs)"
   ]
  },
  {
   "cell_type": "code",
   "execution_count": null,
   "id": "5ff58b53-7910-4b1a-b19a-ce0177338065",
   "metadata": {},
   "outputs": [],
   "source": [
    "target = 'caltech_birds'\n",
    "output = os.path.abspath(os.path.expanduser(f'datasets/{target}/train'))\n",
    "for data in ds_train:\n",
    "    img = Image.fromarray(data['image'].numpy())\n",
    "    if resize[0]:\n",
    "        img = img.resize(resize[1])\n",
    "    name = data['image/filename'].numpy().decode('utf-8').split('/')[-1].split('.')[0]\n",
    "    label = data['label_name'].numpy().decode('utf-8')\n",
    "    os.makedirs(os.path.join(output, label), exist_ok=True)\n",
    "    path = os.path.join(output, label, f'{name}.png')\n",
    "    img.save(path)\n",
    "output = os.path.abspath(os.path.expanduser(f'datasets/{target}/test'))\n",
    "for data in ds_test:\n",
    "    img = Image.fromarray(data['image'].numpy())\n",
    "    if resize[0]:\n",
    "        img = img.resize(resize[1])\n",
    "    name = data['image/filename'].numpy().decode('utf-8').split('/')[-1].split('.')[0]\n",
    "    label = data['label_name'].numpy().decode('utf-8')\n",
    "    os.makedirs(os.path.join(output, label), exist_ok=True)\n",
    "    path = os.path.join(output, label, f'{name}.png')\n",
    "    img.save(path)"
   ]
  },
  {
   "cell_type": "code",
   "execution_count": null,
   "id": "f373ea9a-8dd2-48d7-b1b2-4458097071f7",
   "metadata": {},
   "outputs": [],
   "source": [
    "target = 'caltech_birds2011'\n",
    "ds, ds_info = tfds.load(target, with_info=True)\n",
    "ds_train = ds['train']\n",
    "ds_test = ds['test']\n",
    "labels = ds_info.features['label'].names\n",
    "print(f'학습 이미지: {len(ds_train)}')\n",
    "print(f'평가 이미지: {len(ds_test)}')\n",
    "print(f'레이블: {labels}')"
   ]
  },
  {
   "cell_type": "code",
   "execution_count": null,
   "id": "00162004-35a0-4dcb-8ca9-0b608518857c",
   "metadata": {},
   "outputs": [],
   "source": [
    "target = 'caltech_birds'\n",
    "output = os.path.abspath(os.path.expanduser(f'datasets/{target}/train'))\n",
    "for data in ds_train:\n",
    "    img = Image.fromarray(data['image'].numpy())\n",
    "    if resize[0]:\n",
    "        img = img.resize(resize[1])\n",
    "    name = data['image/filename'].numpy().decode('utf-8').split('/')[-1].split('.')[0]\n",
    "    label = data['label_name'].numpy().decode('utf-8')\n",
    "    os.makedirs(os.path.join(output, label), exist_ok=True)\n",
    "    path = os.path.join(output, label, f'{name}.png')\n",
    "    img.save(path)\n",
    "output = os.path.abspath(os.path.expanduser(f'datasets/{target}/test'))\n",
    "for data in ds_test:\n",
    "    img = Image.fromarray(data['image'].numpy())\n",
    "    if resize[0]:\n",
    "        img = img.resize(resize[1])\n",
    "    name = data['image/filename'].numpy().decode('utf-8').split('/')[-1].split('.')[0]\n",
    "    label = data['label_name'].numpy().decode('utf-8')\n",
    "    os.makedirs(os.path.join(output, label), exist_ok=True)\n",
    "    path = os.path.join(output, label, f'{name}.png')\n",
    "    img.save(path)"
   ]
  },
  {
   "cell_type": "markdown",
   "id": "21384b39-746a-473a-9c0d-4d4c9a0cc074",
   "metadata": {},
   "source": [
    "#### All to train"
   ]
  },
  {
   "cell_type": "code",
   "execution_count": null,
   "id": "1b94e4a0-6d17-4ec4-b5a6-d0370aa06949",
   "metadata": {},
   "outputs": [],
   "source": [
    "target = 'caltech_birds2010'\n",
    "ds, ds_info = tfds.load(target, with_info=True)\n",
    "ds_train = ds['train']\n",
    "ds_test = ds['test']\n",
    "labels = ds_info.features['label'].names\n",
    "print(f'학습 이미지: {len(ds_train)}')\n",
    "print(f'평가 이미지: {len(ds_test)}')\n",
    "print(f'레이블: {labels}')"
   ]
  },
  {
   "cell_type": "code",
   "execution_count": null,
   "id": "a38feaf9-9045-4987-bba4-4f3b2e63733f",
   "metadata": {},
   "outputs": [],
   "source": [
    "target = 'caltech_birds_all'\n",
    "output = os.path.abspath(os.path.expanduser(f'datasets/{target}'))\n",
    "for data in ds_train:\n",
    "    img = Image.fromarray(data['image'].numpy())\n",
    "    if resize[0]:\n",
    "        img = img.resize(resize[1])\n",
    "    name = data['image/filename'].numpy().decode('utf-8').split('/')[-1].split('.')[0]\n",
    "    label = data['label_name'].numpy().decode('utf-8')\n",
    "    os.makedirs(os.path.join(output, label), exist_ok=True)\n",
    "    path = os.path.join(output, label, f'{name}.png')\n",
    "    img.save(path)\n",
    "output = os.path.abspath(os.path.expanduser(f'datasets/{target}'))\n",
    "for data in ds_test:\n",
    "    img = Image.fromarray(data['image'].numpy())\n",
    "    if resize[0]:\n",
    "        img = img.resize(resize[1])\n",
    "    name = data['image/filename'].numpy().decode('utf-8').split('/')[-1].split('.')[0]\n",
    "    label = data['label_name'].numpy().decode('utf-8')\n",
    "    os.makedirs(os.path.join(output, label), exist_ok=True)\n",
    "    path = os.path.join(output, label, f'{name}.png')\n",
    "    img.save(path)"
   ]
  },
  {
   "cell_type": "code",
   "execution_count": null,
   "id": "fe3a117b-8701-4cc3-b96d-ed91a635dd73",
   "metadata": {},
   "outputs": [],
   "source": [
    "target = 'caltech_birds2011'\n",
    "ds, ds_info = tfds.load(target, with_info=True)\n",
    "ds_train = ds['train']\n",
    "ds_test = ds['test']\n",
    "labels = ds_info.features['label'].names\n",
    "print(f'학습 이미지: {len(ds_train)}')\n",
    "print(f'평가 이미지: {len(ds_test)}')\n",
    "print(f'레이블: {labels}')"
   ]
  },
  {
   "cell_type": "code",
   "execution_count": null,
   "id": "4add745e-db70-415c-a217-3bbed4d8a540",
   "metadata": {},
   "outputs": [],
   "source": [
    "target = 'caltech_birds_all'\n",
    "output = os.path.abspath(os.path.expanduser(f'datasets/{target}'))\n",
    "for data in ds_train:\n",
    "    img = Image.fromarray(data['image'].numpy())\n",
    "    if resize[0]:\n",
    "        img = img.resize(resize[1])\n",
    "    name = data['image/filename'].numpy().decode('utf-8').split('/')[-1].split('.')[0]\n",
    "    label = data['label_name'].numpy().decode('utf-8')\n",
    "    os.makedirs(os.path.join(output, label), exist_ok=True)\n",
    "    path = os.path.join(output, label, f'{name}.png')\n",
    "    img.save(path)\n",
    "output = os.path.abspath(os.path.expanduser(f'datasets/{target}'))\n",
    "for data in ds_test:\n",
    "    img = Image.fromarray(data['image'].numpy())\n",
    "    if resize[0]:\n",
    "        img = img.resize(resize[1])\n",
    "    name = data['image/filename'].numpy().decode('utf-8').split('/')[-1].split('.')[0]\n",
    "    label = data['label_name'].numpy().decode('utf-8')\n",
    "    os.makedirs(os.path.join(output, label), exist_ok=True)\n",
    "    path = os.path.join(output, label, f'{name}.png')\n",
    "    img.save(path)"
   ]
  },
  {
   "cell_type": "markdown",
   "id": "f2d8bbb1-c90c-45b4-be62-8ac8efb0f6c4",
   "metadata": {},
   "source": [
    "### [Stanford Dogs](https://www.tensorflow.org/datasets/catalog/stanford_dogs)"
   ]
  },
  {
   "cell_type": "code",
   "execution_count": null,
   "id": "9a616a4e-4991-4702-ab0f-d438bc8ea1e2",
   "metadata": {},
   "outputs": [],
   "source": [
    "target = 'stanford_dogs'\n",
    "ds, ds_info = tfds.load(target, with_info=True)\n",
    "ds_train = ds['train']\n",
    "ds_test = ds['test']\n",
    "labels = ds_info.features['label'].names\n",
    "print(f'학습 이미지: {len(ds_train)}')\n",
    "print(f'평가 이미지: {len(ds_test)}')\n",
    "print(f'레이블: {labels}')"
   ]
  },
  {
   "cell_type": "code",
   "execution_count": null,
   "id": "8437c242-1391-45b4-833e-8e9fb44fe812",
   "metadata": {},
   "outputs": [],
   "source": [
    "output = os.path.abspath(os.path.expanduser(f'datasets/{target}/train'))\n",
    "for data in ds_train:\n",
    "    img = Image.fromarray(data['image'].numpy())\n",
    "    if resize[0]:\n",
    "        img = img.resize(resize[1])\n",
    "    name = data['image/filename'].numpy().decode('utf-8').split('/')[-1].split('.')[0]\n",
    "    label = labels[data['label'].numpy()]\n",
    "    os.makedirs(os.path.join(output, label), exist_ok=True)\n",
    "    path = os.path.join(output, label, f'{name}.png')\n",
    "    img.save(path)\n",
    "output = os.path.abspath(os.path.expanduser(f'datasets/{target}/test'))\n",
    "for data in ds_test:\n",
    "    img = Image.fromarray(data['image'].numpy())\n",
    "    if resize[0]:\n",
    "        img = img.resize(resize[1])\n",
    "    name = data['image/filename'].numpy().decode('utf-8').split('/')[-1].split('.')[0]\n",
    "    label = labels[data['label'].numpy()]\n",
    "    os.makedirs(os.path.join(output, label), exist_ok=True)\n",
    "    path = os.path.join(output, label, f'{name}.png')\n",
    "    img.save(path)"
   ]
  },
  {
   "cell_type": "code",
   "execution_count": null,
   "id": "ede7cdc3-129d-4796-8382-00877b4652f9",
   "metadata": {},
   "outputs": [],
   "source": [
    "### [Oxford-IIIT pet](https://www.tensorflow.org/datasets/catalog/oxford_iiit_pet)"
   ]
  },
  {
   "cell_type": "code",
   "execution_count": null,
   "id": "8eab9706-2c40-4435-80fd-8f739f24fdb2",
   "metadata": {},
   "outputs": [],
   "source": [
    "target = 'oxford_iiit_pet'\n",
    "ds, ds_info = tfds.load(target, with_info=True)\n",
    "ds_train = ds['train']\n",
    "ds_test = ds['test']\n",
    "labels = ds_info.features['label'].names\n",
    "print(f'학습 이미지: {len(ds_train)}')\n",
    "print(f'평가 이미지: {len(ds_test)}')\n",
    "print(f'레이블: {labels}')"
   ]
  },
  {
   "cell_type": "code",
   "execution_count": null,
   "id": "95eb001f-3c0e-4d7e-bb8c-041fc24ebeb2",
   "metadata": {},
   "outputs": [],
   "source": [
    "output = os.path.abspath(os.path.expanduser(f'datasets/{target}/train'))\n",
    "for data in ds_train:\n",
    "    img = Image.fromarray(data['image'].numpy())\n",
    "    if resize[0]:\n",
    "        img = img.resize(resize[1])\n",
    "    name = data['file_name'].numpy().decode('utf-8').split('.')[0]\n",
    "    label = labels[data['label'].numpy()]\n",
    "    os.makedirs(os.path.join(output, label), exist_ok=True)\n",
    "    path = os.path.join(output, label, f'{name}.png')\n",
    "    img.save(path)\n",
    "output = os.path.abspath(os.path.expanduser(f'datasets/{target}/test'))\n",
    "for data in ds_test:\n",
    "    img = Image.fromarray(data['image'].numpy())\n",
    "    if resize[0]:\n",
    "        img = img.resize(resize[1])\n",
    "    name = data['file_name'].numpy().decode('utf-8').split('.')[0]\n",
    "    label = labels[data['label'].numpy()]\n",
    "    os.makedirs(os.path.join(output, label), exist_ok=True)\n",
    "    path = os.path.join(output, label, f'{name}.png')\n",
    "    img.save(path)"
   ]
  },
  {
   "cell_type": "code",
   "execution_count": null,
   "id": "e44f8642-f0c1-4281-a686-47f1a4585462",
   "metadata": {},
   "outputs": [],
   "source": []
  }
 ],
 "metadata": {
  "kernelspec": {
   "display_name": "TensorFlow Federated",
   "language": "python",
   "name": "tff"
  },
  "language_info": {
   "codemirror_mode": {
    "name": "ipython",
    "version": 3
   },
   "file_extension": ".py",
   "mimetype": "text/x-python",
   "name": "python",
   "nbconvert_exporter": "python",
   "pygments_lexer": "ipython3",
   "version": "3.8.6"
  }
 },
 "nbformat": 4,
 "nbformat_minor": 5
}
