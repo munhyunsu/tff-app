{
 "cells": [
  {
   "cell_type": "markdown",
   "id": "39985c57-c495-4db5-8811-7fff2271e7a3",
   "metadata": {},
   "source": [
    "# Tensorflow Dataset 에서 png 이미지 저장"
   ]
  },
  {
   "cell_type": "code",
   "execution_count": null,
   "id": "4dc9faf7-62d5-4741-bd71-584a8003dd64",
   "metadata": {},
   "outputs": [],
   "source": [
    "import tensorflow as tf"
   ]
  },
  {
   "cell_type": "markdown",
   "id": "f3da2ea0-34b8-4058-b129-3f225ffeb04d",
   "metadata": {},
   "source": [
    "## [CIFAR 10](https://www.tensorflow.org/api_docs/python/tf/keras/datasets/cifar10/load_data)"
   ]
  },
  {
   "cell_type": "code",
   "execution_count": null,
   "id": "c22a80b1-aae1-43e7-b611-5e0fa7b7a85f",
   "metadata": {},
   "outputs": [],
   "source": [
    "(train_images, train_labels), (test_images, test_labels) = tf.keras.datasets.cifar10.load_data()\n",
    "print(f'학습 이미지: {len(train_images)}')\n",
    "print(f'평가 이미지: {len(test_images)}')"
   ]
  },
  {
   "cell_type": "code",
   "execution_count": null,
   "id": "39d4a43b-e745-4395-ba02-c75d8d0f74ae",
   "metadata": {},
   "outputs": [],
   "source": [
    "dir(tf.keras.datasets.cifar10)"
   ]
  },
  {
   "cell_type": "code",
   "execution_count": null,
   "id": "b400a9e3-072f-4cf6-8602-67f1a1a87227",
   "metadata": {},
   "outputs": [],
   "source": [
    "labels = ['Airplane', 'Automobile', 'Bird', 'Cat', 'Deer', 'Dog', 'Frog', 'Horse', 'Ship', 'Truck']\n",
    "print(f'레이블: {labels}')"
   ]
  },
  {
   "cell_type": "code",
   "execution_count": null,
   "id": "a59323c9-96ac-49db-be6d-904676a8e067",
   "metadata": {},
   "outputs": [],
   "source": []
  }
 ],
 "metadata": {
  "kernelspec": {
   "display_name": "TensorFlow",
   "language": "python",
   "name": "tensorflow"
  },
  "language_info": {
   "codemirror_mode": {
    "name": "ipython",
    "version": 3
   },
   "file_extension": ".py",
   "mimetype": "text/x-python",
   "name": "python",
   "nbconvert_exporter": "python",
   "pygments_lexer": "ipython3",
   "version": "3.8.6"
  }
 },
 "nbformat": 4,
 "nbformat_minor": 5
}
