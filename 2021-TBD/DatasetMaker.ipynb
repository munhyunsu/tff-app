{
 "cells": [
  {
   "cell_type": "markdown",
   "id": "39985c57-c495-4db5-8811-7fff2271e7a3",
   "metadata": {},
   "source": [
    "# Tensorflow Dataset 에서 png 이미지 저장"
   ]
  },
  {
   "cell_type": "code",
   "execution_count": null,
   "id": "4dc9faf7-62d5-4741-bd71-584a8003dd64",
   "metadata": {},
   "outputs": [],
   "source": [
    "import os\n",
    "\n",
    "import tensorflow as tf\n",
    "import tensorflow_datasets as tfds\n",
    "from PIL import Image"
   ]
  },
  {
   "cell_type": "markdown",
   "id": "f3da2ea0-34b8-4058-b129-3f225ffeb04d",
   "metadata": {},
   "source": [
    "## [Tensorflow Dataset Catalog](https://www.tensorflow.org/datasets/catalog/overview)"
   ]
  },
  {
   "cell_type": "markdown",
   "id": "03f2c165-b8e6-4dbc-b020-7da2be0458c9",
   "metadata": {},
   "source": [
    "### [CIFAR10](https://www.tensorflow.org/datasets/catalog/cifar10)"
   ]
  },
  {
   "cell_type": "code",
   "execution_count": null,
   "id": "a59323c9-96ac-49db-be6d-904676a8e067",
   "metadata": {},
   "outputs": [],
   "source": [
    "target = 'cifar10'\n",
    "ds, ds_info = tfds.load(target, with_info=True)\n",
    "ds_train = ds['train']\n",
    "ds_test = ds['test']\n",
    "labels = ds_info.features['label'].names\n",
    "print(f'학습 이미지: {len(ds_train)}')\n",
    "print(f'평가 이미지: {len(ds_test)}')\n",
    "print(f'레이블: {labels}')"
   ]
  },
  {
   "cell_type": "code",
   "execution_count": null,
   "id": "acfd1c92-7202-40fe-9025-898b649c90ee",
   "metadata": {},
   "outputs": [],
   "source": [
    "output = os.path.abspath(os.path.expanduser(f'datasets/{target}/train'))\n",
    "for data in ds_train:\n",
    "    img = Image.fromarray(data['image'].numpy())\n",
    "    name = data['id'].numpy().decode('utf-8')\n",
    "    label = labels[data['label'].numpy()]\n",
    "    os.makedirs(os.path.join(output, label), exist_ok=True)\n",
    "    path = os.path.join(output, label, f'{name}.png')\n",
    "    img.save(path)\n",
    "output = os.path.abspath(os.path.expanduser(f'datasets/{target}/test'))\n",
    "for data in ds_test:\n",
    "    img = Image.fromarray(data['image'].numpy())\n",
    "    name = data['id'].numpy().decode('utf-8')\n",
    "    label = labels[data['label'].numpy()]\n",
    "    os.makedirs(os.path.join(output, label), exist_ok=True)\n",
    "    path = os.path.join(output, label, f'{name}.png')\n",
    "    img.save(path)"
   ]
  },
  {
   "cell_type": "markdown",
   "id": "2fc6f012-b621-4f8b-a267-b19c1c156d9b",
   "metadata": {},
   "source": [
    "### [Fashion MNIST](https://www.tensorflow.org/datasets/catalog/fashion_mnist)"
   ]
  },
  {
   "cell_type": "code",
   "execution_count": null,
   "id": "277310b1-21c0-4c00-8d8d-cf97e9004c8c",
   "metadata": {},
   "outputs": [],
   "source": [
    "target = 'fashion_mnist'\n",
    "ds, ds_info = tfds.load(target, with_info=True)\n",
    "ds_train = ds['train']\n",
    "ds_test = ds['test']\n",
    "labels = []\n",
    "for l in ds_info.features['label'].names:\n",
    "    labels.append(l.split('/')[0])\n",
    "print(f'학습 이미지: {len(ds_train)}')\n",
    "print(f'평가 이미지: {len(ds_test)}')\n",
    "print(f'레이블: {labels}')"
   ]
  },
  {
   "cell_type": "code",
   "execution_count": null,
   "id": "ab10b602-968a-41e8-a0e8-a9fd7c5ccfcc",
   "metadata": {},
   "outputs": [],
   "source": [
    "output = os.path.abspath(os.path.expanduser(f'datasets/{target}/train'))\n",
    "counter = {}\n",
    "for data in ds_train:\n",
    "    img = Image.fromarray(data['image'].numpy().reshape(data['image'].shape[:-1]))\n",
    "    label = labels[data['label'].numpy()]\n",
    "    name = counter.get(label, 0)\n",
    "    os.makedirs(os.path.join(output, label), exist_ok=True)\n",
    "    path = os.path.join(output, label, f'{name:04d}.png')\n",
    "    img.save(path)\n",
    "    counter[label] = name + 1\n",
    "output = os.path.abspath(os.path.expanduser(f'datasets/{target}/test'))\n",
    "counter = {}\n",
    "for data in ds_test:\n",
    "    img = Image.fromarray(data['image'].numpy().reshape(data['image'].shape[:-1]))\n",
    "    label = labels[data['label'].numpy()]\n",
    "    name = counter.get(label, 0)\n",
    "    os.makedirs(os.path.join(output, label), exist_ok=True)\n",
    "    path = os.path.join(output, label, f'{name:04d}.png')\n",
    "    img.save(path)\n",
    "    counter[label] = name + 1"
   ]
  },
  {
   "cell_type": "markdown",
   "id": "f1d51104-90cf-4717-bc5e-1789643ede57",
   "metadata": {},
   "source": [
    "### [Caltech-UCSD Birds 200](https://www.tensorflow.org/datasets/catalog/caltech_birds2010)"
   ]
  },
  {
   "cell_type": "code",
   "execution_count": null,
   "id": "645c16af-e5cd-4506-b936-4158b7eefd7d",
   "metadata": {},
   "outputs": [],
   "source": [
    "target = 'caltech_birds2010'\n",
    "ds, ds_info = tfds.load(target, with_info=True)\n",
    "ds_train = ds['train']\n",
    "ds_test = ds['test']\n",
    "labels = ds_info.features['label'].names\n",
    "print(f'학습 이미지: {len(ds_train)}')\n",
    "print(f'평가 이미지: {len(ds_test)}')\n",
    "print(f'레이블: {labels}')"
   ]
  },
  {
   "cell_type": "code",
   "execution_count": null,
   "id": "5ff58b53-7910-4b1a-b19a-ce0177338065",
   "metadata": {},
   "outputs": [],
   "source": [
    "target = 'caltech_birds'\n",
    "output = os.path.abspath(os.path.expanduser(f'datasets/{target}/train'))\n",
    "for data in ds_train:\n",
    "    img = Image.fromarray(data['image'].numpy())\n",
    "    name = data['image/filename'].numpy().decode('utf-8').split('/')[-1].split('.')[0]\n",
    "    label = data['label_name'].numpy().decode('utf-8')\n",
    "    os.makedirs(os.path.join(output, label), exist_ok=True)\n",
    "    path = os.path.join(output, label, f'{name}.png')\n",
    "    img.save(path)\n",
    "output = os.path.abspath(os.path.expanduser(f'datasets/{target}/test'))\n",
    "for data in ds_test:\n",
    "    img = Image.fromarray(data['image'].numpy())\n",
    "    name = data['image/filename'].numpy().decode('utf-8').split('/')[-1].split('.')[0]\n",
    "    label = data['label_name'].numpy().decode('utf-8')\n",
    "    os.makedirs(os.path.join(output, label), exist_ok=True)\n",
    "    path = os.path.join(output, label, f'{name}.png')\n",
    "    img.save(path)"
   ]
  },
  {
   "cell_type": "code",
   "execution_count": null,
   "id": "f373ea9a-8dd2-48d7-b1b2-4458097071f7",
   "metadata": {},
   "outputs": [],
   "source": [
    "target = 'caltech_birds2011'\n",
    "ds, ds_info = tfds.load(target, with_info=True)\n",
    "ds_train = ds['train']\n",
    "ds_test = ds['test']\n",
    "labels = ds_info.features['label'].names\n",
    "print(f'학습 이미지: {len(ds_train)}')\n",
    "print(f'평가 이미지: {len(ds_test)}')\n",
    "print(f'레이블: {labels}')"
   ]
  },
  {
   "cell_type": "code",
   "execution_count": null,
   "id": "00162004-35a0-4dcb-8ca9-0b608518857c",
   "metadata": {},
   "outputs": [],
   "source": [
    "target = 'caltech_birds'\n",
    "output = os.path.abspath(os.path.expanduser(f'datasets/{target}/train'))\n",
    "for data in ds_train:\n",
    "    img = Image.fromarray(data['image'].numpy())\n",
    "    name = data['image/filename'].numpy().decode('utf-8').split('/')[-1].split('.')[0]\n",
    "    label = data['label_name'].numpy().decode('utf-8')\n",
    "    os.makedirs(os.path.join(output, label), exist_ok=True)\n",
    "    path = os.path.join(output, label, f'{name}.png')\n",
    "    img.save(path)\n",
    "output = os.path.abspath(os.path.expanduser(f'datasets/{target}/test'))\n",
    "for data in ds_test:\n",
    "    img = Image.fromarray(data['image'].numpy())\n",
    "    name = data['image/filename'].numpy().decode('utf-8').split('/')[-1].split('.')[0]\n",
    "    label = data['label_name'].numpy().decode('utf-8')\n",
    "    os.makedirs(os.path.join(output, label), exist_ok=True)\n",
    "    path = os.path.join(output, label, f'{name}.png')\n",
    "    img.save(path)"
   ]
  },
  {
   "cell_type": "code",
   "execution_count": null,
   "id": "af5c35f4-ecc5-4e0e-82f4-ea3977ae788f",
   "metadata": {},
   "outputs": [],
   "source": []
  }
 ],
 "metadata": {
  "kernelspec": {
   "display_name": "TensorFlow Federated",
   "language": "python",
   "name": "tff"
  },
  "language_info": {
   "codemirror_mode": {
    "name": "ipython",
    "version": 3
   },
   "file_extension": ".py",
   "mimetype": "text/x-python",
   "name": "python",
   "nbconvert_exporter": "python",
   "pygments_lexer": "ipython3",
   "version": "3.8.6"
  }
 },
 "nbformat": 4,
 "nbformat_minor": 5
}
