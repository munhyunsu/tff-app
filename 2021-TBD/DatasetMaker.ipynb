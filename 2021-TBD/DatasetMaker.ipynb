{
 "cells": [
  {
   "cell_type": "markdown",
   "id": "39985c57-c495-4db5-8811-7fff2271e7a3",
   "metadata": {},
   "source": [
    "# Tensorflow Dataset 에서 png 이미지 저장"
   ]
  },
  {
   "cell_type": "code",
   "execution_count": null,
   "id": "4dc9faf7-62d5-4741-bd71-584a8003dd64",
   "metadata": {},
   "outputs": [],
   "source": []
  }
 ],
 "metadata": {
  "kernelspec": {
   "display_name": "TensorFlow",
   "language": "python",
   "name": "tensorflow"
  },
  "language_info": {
   "codemirror_mode": {
    "name": "ipython",
    "version": 3
   },
   "file_extension": ".py",
   "mimetype": "text/x-python",
   "name": "python",
   "nbconvert_exporter": "python",
   "pygments_lexer": "ipython3",
   "version": "3.8.6"
  }
 },
 "nbformat": 4,
 "nbformat_minor": 5
}
