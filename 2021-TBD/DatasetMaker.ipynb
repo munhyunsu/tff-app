{
 "cells": [
  {
   "cell_type": "markdown",
   "id": "39985c57-c495-4db5-8811-7fff2271e7a3",
   "metadata": {},
   "source": [
    "# Tensorflow Dataset 에서 png 이미지 저장"
   ]
  },
  {
   "cell_type": "code",
   "execution_count": null,
   "id": "4dc9faf7-62d5-4741-bd71-584a8003dd64",
   "metadata": {},
   "outputs": [],
   "source": [
    "import os\n",
    "\n",
    "import tensorflow as tf\n",
    "import tensorflow_datasets as tfds\n",
    "from PIL import Image"
   ]
  },
  {
   "cell_type": "markdown",
   "id": "f3da2ea0-34b8-4058-b129-3f225ffeb04d",
   "metadata": {},
   "source": [
    "## [CIFAR 10](https://www.tensorflow.org/api_docs/python/tf/keras/datasets/cifar10/load_data)"
   ]
  },
  {
   "cell_type": "code",
   "execution_count": null,
   "id": "a59323c9-96ac-49db-be6d-904676a8e067",
   "metadata": {},
   "outputs": [],
   "source": [
    "ds, ds_info = tfds.load('cifar10', with_info=True)\n",
    "ds_train = ds['train']\n",
    "ds_test = ds['test']\n",
    "labels = ds_info.features['label'].names\n",
    "print(f'학습 이미지: {len(ds_train)}')\n",
    "print(f'평가 이미지: {len(ds_test)}')\n",
    "print(f'레이블: {labels}')"
   ]
  },
  {
   "cell_type": "code",
   "execution_count": null,
   "id": "4dfcdff0-1eb8-40b3-a613-1dda9951df89",
   "metadata": {},
   "outputs": [],
   "source": [
    "output = os.path.abspath(os.path.expanduser('datasets/cifar10/train'))\n",
    "print(output)"
   ]
  },
  {
   "cell_type": "code",
   "execution_count": null,
   "id": "acfd1c92-7202-40fe-9025-898b649c90ee",
   "metadata": {},
   "outputs": [],
   "source": [
    "for data in ds_train:\n",
    "    img = Image.fromarray(data['image'].numpy())\n",
    "    name = data['id'].numpy().decode('utf-8')\n",
    "    label = labels[data['label'].numpy()]\n",
    "    os.makedirs(os.path.join(output, label), exist_ok=True)\n",
    "    path = os.path.join(output, label, f'{name}.png')\n",
    "    img.save(path)"
   ]
  },
  {
   "cell_type": "code",
   "execution_count": null,
   "id": "b8283c49-3201-49cb-8a76-529bb938e5e7",
   "metadata": {},
   "outputs": [],
   "source": []
  }
 ],
 "metadata": {
  "kernelspec": {
   "display_name": "TensorFlow Federated",
   "language": "python",
   "name": "tff"
  },
  "language_info": {
   "codemirror_mode": {
    "name": "ipython",
    "version": 3
   },
   "file_extension": ".py",
   "mimetype": "text/x-python",
   "name": "python",
   "nbconvert_exporter": "python",
   "pygments_lexer": "ipython3",
   "version": "3.8.6"
  }
 },
 "nbformat": 4,
 "nbformat_minor": 5
}
