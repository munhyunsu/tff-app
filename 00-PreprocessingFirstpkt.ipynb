{
 "cells": [
  {
   "cell_type": "code",
   "execution_count": null,
   "metadata": {},
   "outputs": [],
   "source": [
    "# Load library\n",
    "import os\n",
    "import subprocess\n",
    "import shlex\n",
    "import shutil\n",
    "\n",
    "from scapy.all import *\n",
    "from PIL import Image\n",
    "import numpy as np"
   ]
  },
  {
   "cell_type": "code",
   "execution_count": null,
   "metadata": {},
   "outputs": [],
   "source": [
    "# Setup variables\n",
    "IS_RESET = False\n",
    "IMAGE_SIZE = 39\n",
    "ROOT_DATA = './data'\n",
    "SPLIT_DATA = './splited_data'\n",
    "PAYLOAD_MIN = 1184\n",
    "FMT = '08d'\n",
    "COUNT = 1000\n",
    "IMG_DATA = f'./img_data_{PAYLOAD_MIN}_f{COUNT}'"
   ]
  },
  {
   "cell_type": "code",
   "execution_count": null,
   "metadata": {},
   "outputs": [],
   "source": [
    "if IS_RESET:\n",
    "    if os.path.exists(SPLIT_DATA):\n",
    "        shutil.rmtree(SPLIT_DATA)\n",
    "    if os.path.exists(IMG_DATA):\n",
    "        shutil.rmtree(IMG_DATA)"
   ]
  },
  {
   "cell_type": "code",
   "execution_count": null,
   "metadata": {},
   "outputs": [],
   "source": [
    "def pkt2vec(pkt):\n",
    "    ip = pkt['IP']\n",
    "    hexst = raw(ip).hex()\n",
    "    arr = np.array([int(hexst[i:i+2], 16) for i in range(0, len(hexst), 2)])\n",
    "    arr = arr[0:IMAGE_SIZE*IMAGE_SIZE]\n",
    "    arr = np.pad(arr, (0, IMAGE_SIZE*IMAGE_SIZE-len(arr)), 'constant', constant_values=0)\n",
    "    fv = np.reshape(arr, (-1, IMAGE_SIZE))\n",
    "    fv = np.uint8(fv)\n",
    "    fv = np.stack((fv, fv, fv), axis=2)\n",
    "    return fv"
   ]
  },
  {
   "cell_type": "code",
   "execution_count": null,
   "metadata": {},
   "outputs": [],
   "source": [
    "# read pcap files\n",
    "def read_pcap(root_dir, ext=('.pcap', '.pcapng')):\n",
    "    queue = [root_dir]\n",
    "    while len(queue) != 0:\n",
    "        nest_dir = queue.pop()\n",
    "        with os.scandir(nest_dir) as it:\n",
    "            for entry in it:\n",
    "                if not entry.name.startswith('.') and entry.is_file():\n",
    "                    if entry.name.endswith(ext):\n",
    "                        label = os.path.basename(os.path.dirname(entry.path)) # dirname is label\n",
    "                        yield label, entry.path\n",
    "                elif not entry.name.startswith('.') and entry.is_dir():\n",
    "                    queue.append(entry.path)"
   ]
  },
  {
   "cell_type": "code",
   "execution_count": null,
   "metadata": {},
   "outputs": [],
   "source": [
    "def split_pcap(src, dst):\n",
    "    os.makedirs(dst, exist_ok=True)\n",
    "    cmd = f'PcapSplitter -f {src} -o {dst} -m connection'\n",
    "    cmd = shlex.split(cmd)\n",
    "    subprocess.run(cmd)"
   ]
  },
  {
   "cell_type": "code",
   "execution_count": null,
   "metadata": {},
   "outputs": [],
   "source": [
    "# Do not rerun!\n",
    "## For secure to comment\n",
    "# pcap_path = os.path.abspath(os.path.expanduser(ROOT_DATA))\n",
    "# for label, path in read_pcap(pcap_path):\n",
    "#     dst = os.path.abspath(os.path.expanduser(os.path.join(SPLIT_DATA, label)))\n",
    "#     split_pcap(path, dst)"
   ]
  },
  {
   "cell_type": "code",
   "execution_count": null,
   "metadata": {},
   "outputs": [],
   "source": [
    "def pkt2img(base, label, cnt):\n",
    "    def process_pkt(pkt):\n",
    "        if not pkt.haslayer('IP'):\n",
    "            return\n",
    "        ip = pkt['IP']\n",
    "        if not (ip.haslayer('TCP') or ip.haslayer('UDP')):\n",
    "            return\n",
    "        if ip.haslayer('TCP'):\n",
    "            l4 = 'TCP'\n",
    "        elif ip.haslayer('UDP'):\n",
    "            l4 = 'UDP'\n",
    "        if len(raw(ip[l4].payload)) < PAYLOAD_MIN:\n",
    "            return\n",
    "        fv = pkt2vec(pkt)\n",
    "        num = cnt.get(label, 0)\n",
    "        dst = os.path.join(base, f'{num:{FMT}}.png')\n",
    "        cnt[label] = num + 1\n",
    "        img = Image.fromarray(fv)\n",
    "        img.save(dst)\n",
    "        if num % 100 == 1:\n",
    "            print(f'{label}: {num} Processed')\n",
    "        else:\n",
    "            print(f'\\r{label}: {num} Processed', end='')\n",
    "    return process_pkt\n",
    "\n",
    "def stop_filter():\n",
    "    def process_pkt(pkt):\n",
    "        global current\n",
    "        if not pkt.haslayer('IP'):\n",
    "            return False\n",
    "        ip = pkt['IP']\n",
    "        if not (ip.haslayer('TCP') or ip.haslayer('UDP')):\n",
    "            return False\n",
    "        if ip.haslayer('TCP'):\n",
    "            l4 = 'TCP'\n",
    "        elif ip.haslayer('UDP'):\n",
    "            l4 = 'UDP'\n",
    "        if len(raw(ip[l4].payload)) < PAYLOAD_MIN:\n",
    "            return False\n",
    "        current += 1\n",
    "        if current > COUNT:\n",
    "            return True\n",
    "        return False\n",
    "    return process_pkt\n",
    "\n",
    "\n",
    "splited_path = os.path.abspath(os.path.expanduser(SPLIT_DATA))\n",
    "cnt = dict()\n",
    "current = 0\n",
    "\n",
    "for label, path in read_pcap(splited_path):\n",
    "    base = os.path.abspath(os.path.expanduser(os.path.join(IMG_DATA, label)))\n",
    "    os.makedirs(base, exist_ok=True)\n",
    "    current = 0\n",
    "    sniff(offline=path, prn=pkt2img(base, label, cnt), store=False, stop_filter=stop_filter())\n",
    "    print()\n",
    "print(cnt)"
   ]
  }
 ],
 "metadata": {
  "kernelspec": {
   "display_name": "Federated Learning",
   "language": "python",
   "name": "tff-app"
  },
  "language_info": {
   "codemirror_mode": {
    "name": "ipython",
    "version": 3
   },
   "file_extension": ".py",
   "mimetype": "text/x-python",
   "name": "python",
   "nbconvert_exporter": "python",
   "pygments_lexer": "ipython3",
   "version": "3.7.6"
  }
 },
 "nbformat": 4,
 "nbformat_minor": 4
}
