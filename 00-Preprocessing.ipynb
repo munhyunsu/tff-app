{
 "cells": [
  {
   "cell_type": "code",
   "execution_count": 1,
   "metadata": {},
   "outputs": [],
   "source": [
    "# Load library\n",
    "import os\n",
    "\n",
    "from scapy.all import *"
   ]
  },
  {
   "cell_type": "code",
   "execution_count": 20,
   "metadata": {},
   "outputs": [],
   "source": [
    "# read pcap files\n",
    "def read_pcap(root_dir, ext=('.pcap', '.pcapng')):\n",
    "    queue = [root_dir]\n",
    "    while len(queue) != 0:\n",
    "        nest_dir = queue.pop()\n",
    "        with os.scandir(nest_dir) as it:\n",
    "            for entry in it:\n",
    "                if not entry.name.startswith('.') and entry.is_file():\n",
    "                    if entry.name.endswith(ext):\n",
    "                        label = os.path.basename(os.path.dirname(entry.path)) # dirname is label\n",
    "                        yield label, entry.path\n",
    "                elif not entry.name.startswith('.') and entry.is_dir():\n",
    "                    queue.append(entry.path)"
   ]
  },
  {
   "cell_type": "code",
   "execution_count": 28,
   "metadata": {},
   "outputs": [
    {
     "name": "stdout",
     "output_type": "stream",
     "text": [
      "Sample pcap path: /home/harny/Github/tff-app/data/facebook/facebook_audio1a.pcap\n"
     ]
    }
   ],
   "source": [
    "# Get sample pcap path\n",
    "pcap_path = os.path.abspath(os.path.expanduser('./data'))\n",
    "for path in read_pcap(pcap_path):\n",
    "    tpath = path\n",
    "    break\n",
    "print(f'Sample pcap path: {tpath[1]}')"
   ]
  },
  {
   "cell_type": "code",
   "execution_count": 22,
   "metadata": {},
   "outputs": [],
   "source": [
    "# pcap to vector\n",
    "## pkt['Ether'].type == 0x0800 # IPv4 Packet\n",
    "def pcap2vec(pcap):\n",
    "    rp = rdpcap(pcap)\n",
    "    fv = ''\n",
    "    for key, value in rp.sessions().items():\n",
    "        protocol = key.split(' ')[0]\n",
    "        for pkt in value:\n",
    "            if pkt['Ether'].type != 2048:\n",
    "                continue\n",
    "            print(protocol)\n",
    "            if protocol == 'UDP':\n",
    "                feature = get_udp_vector(pkt)\n",
    "            elif protocol == 'TCP':\n",
    "                feature = get_tcp_vector(pkt)\n",
    "        assert len(feature) == 56, f'Feature len: {len(feature)}'\n",
    "        fv = fv + feature\n",
    "        if len(fv) >= 1568:\n",
    "            break\n",
    "    if len(fv) < 2880:\n",
    "        padding = 2880 - len(fv)\n",
    "        fv = fv + '0'*padding\n",
    "    return fv"
   ]
  },
  {
   "cell_type": "code",
   "execution_count": 24,
   "metadata": {},
   "outputs": [],
   "source": [
    "rp = rdpcap(tpath[1])\n",
    "for key, value in rp.sessions().items():\n",
    "    v = value\n",
    "    break"
   ]
  },
  {
   "cell_type": "code",
   "execution_count": 34,
   "metadata": {},
   "outputs": [
    {
     "name": "stdout",
     "output_type": "stream",
     "text": [
      "True\n",
      "True\n"
     ]
    }
   ],
   "source": [
    "for pkt in v:\n",
    "    print(pkt['Ether'].type == 0x0800)"
   ]
  }
 ],
 "metadata": {
  "kernelspec": {
   "display_name": "Federated Learning",
   "language": "python",
   "name": "tff-app"
  },
  "language_info": {
   "codemirror_mode": {
    "name": "ipython",
    "version": 3
   },
   "file_extension": ".py",
   "mimetype": "text/x-python",
   "name": "python",
   "nbconvert_exporter": "python",
   "pygments_lexer": "ipython3",
   "version": "3.7.6"
  }
 },
 "nbformat": 4,
 "nbformat_minor": 4
}
