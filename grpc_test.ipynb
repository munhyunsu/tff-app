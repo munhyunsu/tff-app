{
 "cells": [
  {
   "cell_type": "code",
   "execution_count": null,
   "metadata": {},
   "outputs": [],
   "source": [
    "import os\n",
    "import re\n",
    "import csv\n",
    "\n",
    "import matplotlib.pyplot as plt\n",
    "import pandas as pd\n",
    "import numpy as np\n",
    "\n",
    "\n",
    "import tensorflow as tf\n",
    "tf.random.set_seed(99)\n",
    "\n",
    "import grpc\n",
    "from tensorflow_serving.apis import predict_pb2\n",
    "from tensorflow_serving.apis import prediction_service_pb2_grpc"
   ]
  },
  {
   "cell_type": "code",
   "execution_count": null,
   "metadata": {},
   "outputs": [],
   "source": [
    "CLASSES = ['aim', 'email', 'facebook', 'ftps', 'gmail', \n",
    "           'hangout', \n",
    "           'icqchat',\n",
    "           'netflix', 'scp', 'sftp',\n",
    "           'skype', 'spotify', 'torrent', 'vimeo', 'voipbuster',\n",
    "           'youtube']"
   ]
  },
  {
   "cell_type": "code",
   "execution_count": null,
   "metadata": {},
   "outputs": [],
   "source": [
    "def do_predict(data):\n",
    "    channel = grpc.insecure_channel('localhost:8500')\n",
    "    stub = prediction_service_pb2_grpc.PredictionServiceStub(channel)\n",
    "    request = predict_pb2.PredictRequest()\n",
    "    request.model_spec.name = '1'\n",
    "    request.model_spec.signature_name = 'serving_default'\n",
    "    request.inputs['input_1'].CopyFrom(tf.make_tensor_proto(data, shape=[1, 375, 4, 1]))\n",
    "    request_future = stub.Predict.future(request, 30)\n",
    "#     return stub.Predict(request)\n",
    "    result = request_future.result()\n",
    "    return CLASSES[np.argmax(result.outputs['dense'].float_val)]"
   ]
  },
  {
   "cell_type": "code",
   "execution_count": null,
   "metadata": {},
   "outputs": [],
   "source": [
    "def get_files(root_dir, ext=('.jpg', '.png')):\n",
    "    queue = [root_dir]\n",
    "    while len(queue) != 0:\n",
    "        nest_dir = queue.pop()\n",
    "        label = None\n",
    "        with os.scandir(nest_dir) as it:\n",
    "            for entry in it:\n",
    "                if not entry.name.startswith('.') and entry.is_file():\n",
    "                    if entry.name.endswith(ext):\n",
    "                        label = os.path.basename(os.path.dirname(entry.path)) # dirname is label\n",
    "                        yield label, entry.path\n",
    "                elif not entry.name.startswith('.') and entry.is_dir():\n",
    "                    queue.append(entry.path)"
   ]
  },
  {
   "cell_type": "code",
   "execution_count": null,
   "metadata": {},
   "outputs": [],
   "source": [
    "def get_data(path):\n",
    "    with open(path, 'rb') as f:\n",
    "        data = plt.imread(f)\n",
    "    return data"
   ]
  },
  {
   "cell_type": "code",
   "execution_count": null,
   "metadata": {},
   "outputs": [],
   "source": [
    "f = open('predict_result.csv', 'w')\n",
    "writer = csv.DictWriter(f, fieldnames=['Path', 'Label', 'Predict'],\n",
    "                        quoting=csv.QUOTE_MINIMAL,\n",
    "                        lineterminator=os.linesep)\n",
    "writer.writeheader()\n",
    "\n",
    "cnt = 0\n",
    "for label, path in get_files('dataset/img_data'):\n",
    "    index = int(re.split('[.-]', path)[-2])\n",
    "    if index > 3:\n",
    "        continue\n",
    "    label = label.lower()\n",
    "    data = get_data(path)\n",
    "    result = do_predict(data)\n",
    "    result = result.lower()\n",
    "    writer.writerow({'Path': os.path.basename(path),\n",
    "                     'Label': label,\n",
    "                     'Predict': result})\n",
    "f.close()"
   ]
  },
  {
   "cell_type": "code",
   "execution_count": null,
   "metadata": {},
   "outputs": [],
   "source": [
    "f = open('predict_result.csv', 'r')\n",
    "reader = csv.DictReader(f)\n",
    "\n",
    "cnt = [0, 0] # T F\n",
    "do = dict()\n",
    "for row in reader:\n",
    "    s = row['Label'] == row['Predict']\n",
    "    if s:\n",
    "        cnt[0] += 1\n",
    "    else:\n",
    "        cnt[1] += 1\n",
    "    name = row['Path'].split('.')[0]\n",
    "    rec = do.get(name, [0, 0])\n",
    "    if s:\n",
    "        rec[0] += 1\n",
    "    else:\n",
    "        rec[1] += 1\n",
    "    do[name] = rec\n",
    "\n",
    "f.close()"
   ]
  },
  {
   "cell_type": "code",
   "execution_count": null,
   "metadata": {},
   "outputs": [],
   "source": [
    "cnt2 = [0, 0]\n",
    "for v in do.values():\n",
    "    if v[0] > v[1]:\n",
    "        cnt2[0] += 1\n",
    "    else:\n",
    "        cnt2[1] += 1"
   ]
  },
  {
   "cell_type": "code",
   "execution_count": null,
   "metadata": {},
   "outputs": [],
   "source": [
    "print(cnt, cnt[0]/sum(cnt))\n",
    "print(cnt2, cnt2[0]/sum(cnt2))"
   ]
  },
  {
   "cell_type": "code",
   "execution_count": null,
   "metadata": {},
   "outputs": [],
   "source": [
    "sum(cnt2)"
   ]
  }
 ],
 "metadata": {
  "kernelspec": {
   "display_name": "Federated Learning",
   "language": "python",
   "name": "tff-app"
  },
  "language_info": {
   "codemirror_mode": {
    "name": "ipython",
    "version": 3
   },
   "file_extension": ".py",
   "mimetype": "text/x-python",
   "name": "python",
   "nbconvert_exporter": "python",
   "pygments_lexer": "ipython3",
   "version": "3.7.6"
  }
 },
 "nbformat": 4,
 "nbformat_minor": 4
}
