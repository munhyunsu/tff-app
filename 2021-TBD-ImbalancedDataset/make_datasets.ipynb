{
 "cells": [
  {
   "cell_type": "markdown",
   "id": "23dffdc3-d588-42d0-97c0-98f3976e4484",
   "metadata": {},
   "source": [
    "# Experiments 2"
   ]
  },
  {
   "cell_type": "code",
   "execution_count": null,
   "id": "5f9224e9-0086-4d20-9ae8-64f589dd824f",
   "metadata": {},
   "outputs": [],
   "source": [
    "import os\n",
    "import collections\n",
    "import random\n",
    "\n",
    "import tensorflow as tf\n",
    "import PIL.Image as Image"
   ]
  },
  {
   "cell_type": "code",
   "execution_count": null,
   "id": "c2daf5ee-0919-4f00-ac7e-c0c033f5171b",
   "metadata": {},
   "outputs": [],
   "source": [
    "(train_images, train_labels), (test_images, test_labels) = tf.keras.datasets.fashion_mnist.load_data()"
   ]
  },
  {
   "cell_type": "code",
   "execution_count": null,
   "id": "8720b32b-8622-4047-8ed9-ea0bd9912664",
   "metadata": {},
   "outputs": [],
   "source": [
    "print(f'Train labels: {collections.Counter(train_labels)}')\n",
    "print(f'Test labels: {collections.Counter(test_labels)}')"
   ]
  },
  {
   "cell_type": "code",
   "execution_count": null,
   "id": "c8ea874a-25bc-47f4-a509-5a7f83f73090",
   "metadata": {},
   "outputs": [],
   "source": [
    "labels = ['T-shirt', 'Trouser', 'Pullover', 'Dress', 'Coat', 'Sandal', 'Shirt', 'Sneaker', 'Bag', 'Ankle boot']\n",
    "labels.sort()\n",
    "labels"
   ]
  },
  {
   "cell_type": "code",
   "execution_count": null,
   "id": "548a78e9-ed18-48ad-8b89-298ef20ab681",
   "metadata": {},
   "outputs": [],
   "source": [
    "dist = {'Ankle boot': [5500,    0,    0,    0,  500],\n",
    "        'Bag':        [5500,    0,    0,    0,  500],\n",
    "        'Coat':       [ 500, 5500,    0,    0,    0],\n",
    "        'Dress':      [ 500, 5500,    0,    0,    0],\n",
    "        'Pullover':   [   0,  500, 5500,    0,    0],\n",
    "        'Sandal':     [   0,  500, 5500,    0,    0],\n",
    "        'Shirt':      [   0,    0,  500, 5500,    0],\n",
    "        'Sneaker':    [   0,    0,  500, 5500,    0],\n",
    "        'T-shirt':    [   0,    0,    0,  500, 5500],\n",
    "        'Trouser':    [   0,    0,    0,  500, 5500]\n",
    "       }\n",
    "counter = {}\n",
    "output = os.path.abspath(os.path.expanduser('mnist_fashion_train'))\n",
    "tmp = list(zip(train_images, train_labels))\n",
    "random.shuffle(tmp)\n",
    "for image, label in tmp:\n",
    "    img = Image.fromarray(image)\n",
    "    label = labels[label]\n",
    "    for idx in range(0, len(dist[label])):\n",
    "        if dist[label][idx] > 0:\n",
    "            dist[label][idx] = dist[label][idx] - 1\n",
    "            num = counter.get(label, 0)\n",
    "            div = f'client{idx}'\n",
    "            os.makedirs(os.path.join('datasets', output, div, label), exist_ok=True)\n",
    "            path = os.path.join('datasets', output, div, label, f'{num:04d}.jpg')\n",
    "            img.save(path)\n",
    "            counter[label] = num + 1"
   ]
  },
  {
   "cell_type": "code",
   "execution_count": null,
   "id": "e99965d7-3cf6-40bd-87ee-c3d20559407e",
   "metadata": {},
   "outputs": [],
   "source": [
    "dist = {'Ankle boot': [5500,    1,    1,    1,  500],\n",
    "        'Bag':        [5500,    1,    1,    1,  500],\n",
    "        'Coat':       [ 500, 5500,    1,    1,    1],\n",
    "        'Dress':      [ 500, 5500,    1,    1,    1],\n",
    "        'Pullover':   [   0,  500, 5500,    1,    1],\n",
    "        'Sandal':     [   0,  500, 5500,    1,    1],\n",
    "        'Shirt':      [   0,    0,  500, 5500,    1],\n",
    "        'Sneaker':    [   0,    0,  500, 5500,    1],\n",
    "        'T-shirt':    [   0,    0,    0,  500, 5500],\n",
    "        'Trouser':    [   0,    0,    0,  500, 5500]\n",
    "       }\n",
    "counter = {}\n",
    "output = os.path.abspath(os.path.expanduser('mnist_fashion_test'))\n",
    "for image, label in zip(test_images, test_labels):\n",
    "    img = Image.fromarray(image)\n",
    "    label = labels[label]\n",
    "    num = counter.get(label, 0)\n",
    "    for idx in range(0, len(dist[label])):\n",
    "        div = 'all'\n",
    "        os.makedirs(os.path.join(output, div, label), exist_ok=True)\n",
    "        path = os.path.join('datasets', output, div, label, f'{num:04d}.jpg')\n",
    "        img.save(path)\n",
    "        if dist[label][idx] > 0:\n",
    "            div = f'client{idx}'\n",
    "            os.makedirs(os.path.join(output, div, label), exist_ok=True)\n",
    "            path = os.path.join('datasets', output, div, label, f'{num:04d}.jpg')\n",
    "            img.save(path)\n",
    "            counter[label] = num + 1"
   ]
  },
  {
   "cell_type": "code",
   "execution_count": null,
   "id": "dbd704d9-2012-4b20-a71d-283bc99d1090",
   "metadata": {},
   "outputs": [],
   "source": []
  }
 ],
 "metadata": {
  "kernelspec": {
   "display_name": "TensorFlow Federated",
   "language": "python",
   "name": "tff"
  },
  "language_info": {
   "codemirror_mode": {
    "name": "ipython",
    "version": 3
   },
   "file_extension": ".py",
   "mimetype": "text/x-python",
   "name": "python",
   "nbconvert_exporter": "python",
   "pygments_lexer": "ipython3",
   "version": "3.8.6"
  }
 },
 "nbformat": 4,
 "nbformat_minor": 5
}
