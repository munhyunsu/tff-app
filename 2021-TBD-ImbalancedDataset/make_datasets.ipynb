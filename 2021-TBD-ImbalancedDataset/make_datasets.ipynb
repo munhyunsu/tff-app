{
 "cells": [
  {
   "cell_type": "markdown",
   "id": "581fffa4-21d3-4504-8219-9281759a8337",
   "metadata": {},
   "source": [
    "# Experiments 1"
   ]
  },
  {
   "cell_type": "code",
   "execution_count": null,
   "id": "c91bd323-46c0-466a-bd82-f9770ca9c0ff",
   "metadata": {},
   "outputs": [],
   "source": [
    "import os\n",
    "\n",
    "import tensorflow as tf\n",
    "import PIL.Image as Image"
   ]
  },
  {
   "cell_type": "code",
   "execution_count": null,
   "id": "27f6052e-870d-4a02-aa6a-386f1242c667",
   "metadata": {},
   "outputs": [],
   "source": [
    "(train_images, train_labels), (test_images, test_labels) = tf.keras.datasets.cifar10.load_data()"
   ]
  },
  {
   "cell_type": "code",
   "execution_count": null,
   "id": "ec759f82-9d00-49a0-b8e6-6798e8d661ce",
   "metadata": {},
   "outputs": [],
   "source": [
    "len(train_images)"
   ]
  },
  {
   "cell_type": "code",
   "execution_count": null,
   "id": "ca914ff7-7131-4d0d-9e6d-b414fa9117d0",
   "metadata": {},
   "outputs": [],
   "source": [
    "len(test_images)"
   ]
  },
  {
   "cell_type": "code",
   "execution_count": null,
   "id": "9afe9574-3f71-4713-9bac-25ebc5c07a67",
   "metadata": {},
   "outputs": [],
   "source": [
    "labels = ['Airplane', 'Automobile', 'Bird', 'Cat', 'Deer', 'Dog', 'Frog', 'Horse', 'Ship', 'Truck']\n",
    "labels.sort()\n",
    "labels"
   ]
  },
  {
   "cell_type": "code",
   "execution_count": null,
   "id": "5c7da081-18b4-47c8-a3d9-c5db584605d3",
   "metadata": {},
   "outputs": [],
   "source": [
    "counter = {}\n",
    "output = os.path.abspath(os.path.expanduser('train'))\n",
    "for image, label in zip(train_images, train_labels):\n",
    "    img = Image.fromarray(image)\n",
    "    label = labels[label[0]]\n",
    "    num = counter.get(label, 0)\n",
    "    os.makedirs(os.path.join(output, label), exist_ok=True)\n",
    "    path = os.path.join(output, label, f'{num:04d}.jpg')\n",
    "    img.save(path)\n",
    "    counter[label] = num + 1"
   ]
  },
  {
   "cell_type": "code",
   "execution_count": null,
   "id": "ecac472a-8b37-484f-adfa-0c92824431a4",
   "metadata": {},
   "outputs": [],
   "source": [
    "counter = {}\n",
    "output = os.path.abspath(os.path.expanduser('test'))\n",
    "for image, label in zip(test_images, test_labels):\n",
    "    img = Image.fromarray(image)\n",
    "    label = labels[label[0]]\n",
    "    num = counter.get(label, 0)\n",
    "    os.makedirs(os.path.join(output, label), exist_ok=True)\n",
    "    path = os.path.join(output, label, f'{num:04d}.jpg')\n",
    "    img.save(path)\n",
    "    counter[label] = num + 1"
   ]
  },
  {
   "cell_type": "code",
   "execution_count": null,
   "id": "390e388c-2553-4f92-8a5d-a68e4920341c",
   "metadata": {},
   "outputs": [],
   "source": [
    "(train_images, train_labels), (test_images, test_labels) = tf.keras.datasets.fashion_mnist.load_data()"
   ]
  },
  {
   "cell_type": "code",
   "execution_count": null,
   "id": "185e8d55-96cc-46b9-9a58-992d6199260f",
   "metadata": {},
   "outputs": [],
   "source": [
    "len(train_images)"
   ]
  },
  {
   "cell_type": "code",
   "execution_count": null,
   "id": "a903c08b-57cc-4dbc-b6d2-4b07ddc105d4",
   "metadata": {},
   "outputs": [],
   "source": [
    "len(test_images)"
   ]
  },
  {
   "cell_type": "code",
   "execution_count": null,
   "id": "027ff48e-6f13-452e-96c6-aecf08a55b3a",
   "metadata": {},
   "outputs": [],
   "source": [
    "train_labels[0]"
   ]
  },
  {
   "cell_type": "code",
   "execution_count": null,
   "id": "845cc0ae-ba4f-4f7f-9a6e-9de79c1504a3",
   "metadata": {},
   "outputs": [],
   "source": [
    "labels = ['T-shirt', 'Trouser', 'Pullover', 'Dress', 'Coat', 'Sandal', 'Shirt', 'Sneaker', 'Bag', 'Ankle boot']\n",
    "labels.sort()\n",
    "labels"
   ]
  },
  {
   "cell_type": "code",
   "execution_count": null,
   "id": "f69edc4e-88e5-4123-961c-f7695868f523",
   "metadata": {},
   "outputs": [],
   "source": [
    "counter = {}\n",
    "output = os.path.abspath(os.path.expanduser('mnist_fashion_train'))\n",
    "for image, label in zip(train_images, train_labels):\n",
    "    img = Image.fromarray(image)\n",
    "    label = labels[label]\n",
    "    num = counter.get(label, 0)\n",
    "    os.makedirs(os.path.join(output, label), exist_ok=True)\n",
    "    path = os.path.join(output, label, f'{num:04d}.jpg')\n",
    "    img.save(path)\n",
    "    counter[label] = num + 1"
   ]
  },
  {
   "cell_type": "code",
   "execution_count": null,
   "id": "a4f6c936-a082-42df-9f56-66cfab4e3f1e",
   "metadata": {},
   "outputs": [],
   "source": [
    "counter = {}\n",
    "output = os.path.abspath(os.path.expanduser('mnist_fashion_test'))\n",
    "for image, label in zip(test_images, test_labels):\n",
    "    img = Image.fromarray(image)\n",
    "    label = labels[label]\n",
    "    num = counter.get(label, 0)\n",
    "    os.makedirs(os.path.join(output, label), exist_ok=True)\n",
    "    path = os.path.join(output, label, f'{num:04d}.jpg')\n",
    "    img.save(path)\n",
    "    counter[label] = num + 1"
   ]
  },
  {
   "cell_type": "markdown",
   "id": "23dffdc3-d588-42d0-97c0-98f3976e4484",
   "metadata": {},
   "source": [
    "# Experiments 2"
   ]
  },
  {
   "cell_type": "code",
   "execution_count": null,
   "id": "5f9224e9-0086-4d20-9ae8-64f589dd824f",
   "metadata": {},
   "outputs": [],
   "source": [
    "import os\n",
    "import collections\n",
    "import random\n",
    "\n",
    "import tensorflow as tf\n",
    "import PIL.Image as Image"
   ]
  },
  {
   "cell_type": "code",
   "execution_count": null,
   "id": "c2daf5ee-0919-4f00-ac7e-c0c033f5171b",
   "metadata": {},
   "outputs": [],
   "source": [
    "(train_images, train_labels), (test_images, test_labels) = tf.keras.datasets.fashion_mnist.load_data()"
   ]
  },
  {
   "cell_type": "code",
   "execution_count": null,
   "id": "8720b32b-8622-4047-8ed9-ea0bd9912664",
   "metadata": {},
   "outputs": [],
   "source": [
    "print(f'Train labels: {collections.Counter(train_labels)}')\n",
    "print(f'Test labels: {collections.Counter(test_labels)}')"
   ]
  },
  {
   "cell_type": "code",
   "execution_count": null,
   "id": "c8ea874a-25bc-47f4-a509-5a7f83f73090",
   "metadata": {},
   "outputs": [],
   "source": [
    "labels = ['T-shirt', 'Trouser', 'Pullover', 'Dress', 'Coat', 'Sandal', 'Shirt', 'Sneaker', 'Bag', 'Ankle boot']\n",
    "labels.sort()\n",
    "labels"
   ]
  },
  {
   "cell_type": "code",
   "execution_count": null,
   "id": "9d80571c-d20d-4612-9072-4c4674e45c3b",
   "metadata": {},
   "outputs": [],
   "source": [
    "dist = {'Ankle boot': [5500,    0,    0,    0,  500],\n",
    "        'Bag':        [5500,    0,    0,    0,  500],\n",
    "        'Coat':       [ 500, 5500,    0,    0,    0],\n",
    "        'Dress':      [ 500, 5500,    0,    0,    0],\n",
    "        'Pullover':   [   0,  500, 5500,    0,    0],\n",
    "        'Sandal':     [   0,  500, 5500,    0,    0],\n",
    "        'Shirt':      [   0,    0,  500, 5500,    0],\n",
    "        'Sneaker':    [   0,    0,  500, 5500,    0],\n",
    "        'T-shirt':    [   0,    0,    0,  500, 5500],\n",
    "        'Trouser':    [   0,    0,    0,  500, 5500]\n",
    "       }\n",
    "dist"
   ]
  },
  {
   "cell_type": "code",
   "execution_count": null,
   "id": "548a78e9-ed18-48ad-8b89-298ef20ab681",
   "metadata": {},
   "outputs": [],
   "source": [
    "dist = {'Ankle boot': [5500,    0,    0,    0,  500],\n",
    "        'Bag':        [5500,    0,    0,    0,  500],\n",
    "        'Coat':       [ 500, 5500,    0,    0,    0],\n",
    "        'Dress':      [ 500, 5500,    0,    0,    0],\n",
    "        'Pullover':   [   0,  500, 5500,    0,    0],\n",
    "        'Sandal':     [   0,  500, 5500,    0,    0],\n",
    "        'Shirt':      [   0,    0,  500, 5500,    0],\n",
    "        'Sneaker':    [   0,    0,  500, 5500,    0],\n",
    "        'T-shirt':    [   0,    0,    0,  500, 5500],\n",
    "        'Trouser':    [   0,    0,    0,  500, 5500]\n",
    "       }\n",
    "dist\n",
    "counter = {}\n",
    "output = os.path.abspath(os.path.expanduser('mnist_fashion_train'))\n",
    "tmp = list(zip(train_images, train_labels))\n",
    "random.shuffle(tmp)\n",
    "for image, label in tmp:\n",
    "    img = Image.fromarray(image)\n",
    "    label = labels[label]\n",
    "    for idx in range(0, len(dist[label])):\n",
    "        if dist[label][idx] > 0:\n",
    "            dist[label][idx] = dist[label][idx] - 1\n",
    "            num = counter.get(label, 0)\n",
    "            div = f'client{idx}'\n",
    "            os.makedirs(os.path.join(output, div, label), exist_ok=True)\n",
    "            path = os.path.join(output, div, label, f'{num:04d}.jpg')\n",
    "            img.save(path)\n",
    "            counter[label] = num + 1"
   ]
  },
  {
   "cell_type": "code",
   "execution_count": null,
   "id": "e99965d7-3cf6-40bd-87ee-c3d20559407e",
   "metadata": {},
   "outputs": [],
   "source": [
    "dist = {'Ankle boot': [5500,    0,    0,    0,  500],\n",
    "        'Bag':        [5500,    0,    0,    0,  500],\n",
    "        'Coat':       [ 500, 5500,    0,    0,    0],\n",
    "        'Dress':      [ 500, 5500,    0,    0,    0],\n",
    "        'Pullover':   [   0,  500, 5500,    0,    0],\n",
    "        'Sandal':     [   0,  500, 5500,    0,    0],\n",
    "        'Shirt':      [   0,    0,  500, 5500,    0],\n",
    "        'Sneaker':    [   0,    0,  500, 5500,    0],\n",
    "        'T-shirt':    [   0,    0,    0,  500, 5500],\n",
    "        'Trouser':    [   0,    0,    0,  500, 5500]\n",
    "       }\n",
    "dist\n",
    "counter = {}\n",
    "output = os.path.abspath(os.path.expanduser('mnist_fashion_test'))\n",
    "for image, label in zip(test_images, test_labels):\n",
    "    img = Image.fromarray(image)\n",
    "    label = labels[label]\n",
    "    num = counter.get(label, 0)\n",
    "    for idx in range(0, len(dist[label])):\n",
    "        div = 'all'\n",
    "        os.makedirs(os.path.join(output, div, label), exist_ok=True)\n",
    "        path = os.path.join(output, div, label, f'{num:04d}.jpg')\n",
    "        img.save(path)\n",
    "        if dist[label][idx] > 0:\n",
    "            div = f'client{idx}'\n",
    "            os.makedirs(os.path.join(output, div, label), exist_ok=True)\n",
    "            path = os.path.join(output, div, label, f'{num:04d}.jpg')\n",
    "            img.save(path)\n",
    "            counter[label] = num + 1"
   ]
  },
  {
   "cell_type": "code",
   "execution_count": null,
   "id": "dbd704d9-2012-4b20-a71d-283bc99d1090",
   "metadata": {},
   "outputs": [],
   "source": []
  }
 ],
 "metadata": {
  "kernelspec": {
   "display_name": "TensorFlow Federated",
   "language": "python",
   "name": "tff"
  },
  "language_info": {
   "codemirror_mode": {
    "name": "ipython",
    "version": 3
   },
   "file_extension": ".py",
   "mimetype": "text/x-python",
   "name": "python",
   "nbconvert_exporter": "python",
   "pygments_lexer": "ipython3",
   "version": "3.8.6"
  }
 },
 "nbformat": 4,
 "nbformat_minor": 5
}
