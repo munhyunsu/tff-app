{
 "cells": [
  {
   "cell_type": "code",
   "execution_count": 1,
   "metadata": {},
   "outputs": [],
   "source": [
    "# Load library\n",
    "import os\n",
    "import shutil\n",
    "import random\n",
    "\n",
    "import numpy as np"
   ]
  },
  {
   "cell_type": "code",
   "execution_count": 2,
   "metadata": {},
   "outputs": [],
   "source": [
    "# Setup variables\n",
    "IS_RESET = True\n",
    "SRC_DATA = './img_data_1184'\n",
    "DST_DATA = './sampled_data'\n",
    "MIN_SAMPLING = 1000\n",
    "RATE_SAMPLING = 0.01"
   ]
  },
  {
   "cell_type": "code",
   "execution_count": 3,
   "metadata": {},
   "outputs": [],
   "source": [
    "if IS_RESET:\n",
    "    if os.path.exists(DST_DATA):\n",
    "        shutil.rmtree(DST_DATA)"
   ]
  },
  {
   "cell_type": "code",
   "execution_count": 4,
   "metadata": {},
   "outputs": [],
   "source": [
    "def get_files(root_dir, ext=('.jpg', '.png')):\n",
    "    queue = [root_dir]\n",
    "    files = dict()\n",
    "    while len(queue) != 0:\n",
    "        nest_dir = queue.pop()\n",
    "        with os.scandir(nest_dir) as it:\n",
    "            for entry in it:\n",
    "                if not entry.name.startswith('.') and entry.is_file():\n",
    "                    if entry.name.endswith(ext):\n",
    "                        label = os.path.basename(os.path.dirname(entry.path)) # dirname is label\n",
    "                        fnames = files.get(label, list())\n",
    "                        fnames.append(entry.path)\n",
    "                        files[label] = fnames\n",
    "                elif not entry.name.startswith('.') and entry.is_dir():\n",
    "                    queue.append(entry.path)\n",
    "    return files"
   ]
  },
  {
   "cell_type": "code",
   "execution_count": 5,
   "metadata": {},
   "outputs": [
    {
     "name": "stdout",
     "output_type": "stream",
     "text": [
      "Copy done 1000 files of vimeo\n",
      "Copy done 30 files of icqchat\n",
      "Copy done 248 files of voipbuster\n",
      "Copy done 3167 files of scp\n",
      "Copy done 38955 files of ftps\n",
      "Copy done 3898 files of sftp\n",
      "Copy done 1320 files of youtube\n",
      "Copy done 486 files of aim\n",
      "Copy done 1000 files of hangout\n",
      "Copy done 1588 files of netflix\n",
      "Copy done 1000 files of torrent\n",
      "Copy done 1000 files of spotify\n",
      "Copy done 11555 files of skype\n",
      "Copy done 275 files of email\n",
      "Copy done 1000 files of facebook\n",
      "Copy done 1000 files of gmail\n"
     ]
    }
   ],
   "source": [
    "for label, fnames in get_files(SRC_DATA).items():\n",
    "    base = os.path.abspath(os.path.expanduser(os.path.join(DST_DATA, label)))\n",
    "    os.makedirs(base, exist_ok=True) \n",
    "    random.shuffle(fnames)\n",
    "    flen = len(fnames)\n",
    "    sample_cnt = int(min(np.ceil(max(MIN_SAMPLING, flen*RATE_SAMPLING)), flen))\n",
    "    for path in fnames[:sample_cnt]:\n",
    "        shutil.copy(path, base)\n",
    "    print(f'Copy done {sample_cnt} files of {label}')"
   ]
  },
  {
   "cell_type": "code",
   "execution_count": null,
   "metadata": {},
   "outputs": [],
   "source": []
  }
 ],
 "metadata": {
  "kernelspec": {
   "display_name": "Federated Learning",
   "language": "python",
   "name": "tff-app"
  },
  "language_info": {
   "codemirror_mode": {
    "name": "ipython",
    "version": 3
   },
   "file_extension": ".py",
   "mimetype": "text/x-python",
   "name": "python",
   "nbconvert_exporter": "python",
   "pygments_lexer": "ipython3",
   "version": "3.7.6"
  }
 },
 "nbformat": 4,
 "nbformat_minor": 4
}
