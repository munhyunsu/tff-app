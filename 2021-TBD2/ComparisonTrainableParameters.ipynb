{
 "cells": [
  {
   "cell_type": "markdown",
   "id": "28df1a97-f16c-441a-893a-bbb83f877af1",
   "metadata": {},
   "source": [
    "# CNN Model parameter comparison"
   ]
  },
  {
   "cell_type": "code",
   "execution_count": 21,
   "id": "d6d00020-d701-4f41-8bbf-f9954bfeb7b1",
   "metadata": {},
   "outputs": [],
   "source": [
    "import tensorflow as tf\n",
    "import tensorflow_federated as tff\n",
    "import tensorflow_hub as hub\n",
    "import tensorflow.keras.backend as K\n",
    "import matplotlib.pyplot as plt\n",
    "%matplotlib inline\n",
    "import numpy as np\n",
    "import pandas as pd"
   ]
  },
  {
   "cell_type": "code",
   "execution_count": 3,
   "id": "658f6754-9e8c-437d-bc6b-4144ff87b329",
   "metadata": {},
   "outputs": [
    {
     "name": "stdout",
     "output_type": "stream",
     "text": [
      "TensorFlow version: 2.5.1\n",
      "TensorFlow Federated version: 0.19.0\n"
     ]
    }
   ],
   "source": [
    "print(f'TensorFlow version: {tf.__version__}')\n",
    "print(f'TensorFlow Federated version: {tff.__version__}')"
   ]
  },
  {
   "cell_type": "code",
   "execution_count": 48,
   "id": "d586ccb4-29c4-4c3f-b5f7-9d63e2321224",
   "metadata": {},
   "outputs": [],
   "source": [
    "IMAGE_SHAPE = (224, 224, 3)"
   ]
  },
  {
   "cell_type": "code",
   "execution_count": 49,
   "id": "995eacda-e0e2-4221-938b-9e44c36f2bfc",
   "metadata": {},
   "outputs": [],
   "source": [
    "MODELS = {\n",
    "    'Inception V3': 'https://tfhub.dev/google/tf2-preview/inception_v3/feature_vector/4',\n",
    "    'MobileNet V2': 'https://tfhub.dev/google/tf2-preview/mobilenet_v2/feature_vector/4',\n",
    "    'EfficientNet B7': 'https://tfhub.dev/tensorflow/efficientnet/b7/feature-vector/1',\n",
    "    'ResNet152 V2': 'https://tfhub.dev/google/imagenet/resnet_v2_152/feature_vector/5',\n",
    "}"
   ]
  },
  {
   "cell_type": "code",
   "execution_count": 50,
   "id": "fb5819cf-24a9-4e4f-a5d2-326ff9bea470",
   "metadata": {},
   "outputs": [],
   "source": [
    "result_all = dict()\n",
    "result_freeze = dict()\n",
    "for name, url in MODELS.items():\n",
    "    for i in range(1, 11):\n",
    "        feature_extractor_url = url\n",
    "        feature_extractor_layer = hub.KerasLayer(url, input_shape=IMAGE_SHAPE)\n",
    "\n",
    "        model = tf.keras.Sequential([\n",
    "            feature_extractor_layer,\n",
    "            tf.keras.layers.Dense(i, activation='softmax')\n",
    "        ])\n",
    "        \n",
    "        feature_extractor_layer.trainable = True\n",
    "        trainable_count = np.sum([K.count_params(w) for w in model.trainable_weights])\n",
    "        data = result_all.get(name, [])\n",
    "        data.append(trainable_count)\n",
    "        result_all[name] = data\n",
    "        \n",
    "        feature_extractor_layer.trainable = False\n",
    "        trainable_count = np.sum([K.count_params(w) for w in model.trainable_weights])\n",
    "        data = result_freeze.get(name, [])\n",
    "        data.append(trainable_count)\n",
    "        result_freeze[name] = data"
   ]
  },
  {
   "cell_type": "code",
   "execution_count": 56,
   "id": "89285455-71db-421b-bcfc-87aaac19bdcf",
   "metadata": {},
   "outputs": [],
   "source": [
    "df_all = pd.DataFrame(result_all)\n",
    "df_freeze = pd.DataFrame(result_freeze)"
   ]
  },
  {
   "cell_type": "code",
   "execution_count": 57,
   "id": "7ff64415-e501-4e95-abcd-41495a717622",
   "metadata": {},
   "outputs": [
    {
     "data": {
      "text/html": [
       "<div>\n",
       "<style scoped>\n",
       "    .dataframe tbody tr th:only-of-type {\n",
       "        vertical-align: middle;\n",
       "    }\n",
       "\n",
       "    .dataframe tbody tr th {\n",
       "        vertical-align: top;\n",
       "    }\n",
       "\n",
       "    .dataframe thead th {\n",
       "        text-align: right;\n",
       "    }\n",
       "</style>\n",
       "<table border=\"1\" class=\"dataframe\">\n",
       "  <thead>\n",
       "    <tr style=\"text-align: right;\">\n",
       "      <th></th>\n",
       "      <th>Inception V3</th>\n",
       "      <th>MobileNet V2</th>\n",
       "      <th>EfficientNet B7</th>\n",
       "      <th>ResNet152 V2</th>\n",
       "    </tr>\n",
       "  </thead>\n",
       "  <tbody>\n",
       "    <tr>\n",
       "      <th>0</th>\n",
       "      <td>21768352</td>\n",
       "      <td>2223872</td>\n",
       "      <td>63786960</td>\n",
       "      <td>58187904</td>\n",
       "    </tr>\n",
       "    <tr>\n",
       "      <th>1</th>\n",
       "      <td>21768352</td>\n",
       "      <td>2223872</td>\n",
       "      <td>63786960</td>\n",
       "      <td>58187904</td>\n",
       "    </tr>\n",
       "    <tr>\n",
       "      <th>2</th>\n",
       "      <td>21768352</td>\n",
       "      <td>2223872</td>\n",
       "      <td>63786960</td>\n",
       "      <td>58187904</td>\n",
       "    </tr>\n",
       "    <tr>\n",
       "      <th>3</th>\n",
       "      <td>21768352</td>\n",
       "      <td>2223872</td>\n",
       "      <td>63786960</td>\n",
       "      <td>58187904</td>\n",
       "    </tr>\n",
       "    <tr>\n",
       "      <th>4</th>\n",
       "      <td>21768352</td>\n",
       "      <td>2223872</td>\n",
       "      <td>63786960</td>\n",
       "      <td>58187904</td>\n",
       "    </tr>\n",
       "    <tr>\n",
       "      <th>5</th>\n",
       "      <td>21768352</td>\n",
       "      <td>2223872</td>\n",
       "      <td>63786960</td>\n",
       "      <td>58187904</td>\n",
       "    </tr>\n",
       "    <tr>\n",
       "      <th>6</th>\n",
       "      <td>21768352</td>\n",
       "      <td>2223872</td>\n",
       "      <td>63786960</td>\n",
       "      <td>58187904</td>\n",
       "    </tr>\n",
       "    <tr>\n",
       "      <th>7</th>\n",
       "      <td>21768352</td>\n",
       "      <td>2223872</td>\n",
       "      <td>63786960</td>\n",
       "      <td>58187904</td>\n",
       "    </tr>\n",
       "    <tr>\n",
       "      <th>8</th>\n",
       "      <td>21768352</td>\n",
       "      <td>2223872</td>\n",
       "      <td>63786960</td>\n",
       "      <td>58187904</td>\n",
       "    </tr>\n",
       "    <tr>\n",
       "      <th>9</th>\n",
       "      <td>21768352</td>\n",
       "      <td>2223872</td>\n",
       "      <td>63786960</td>\n",
       "      <td>58187904</td>\n",
       "    </tr>\n",
       "  </tbody>\n",
       "</table>\n",
       "</div>"
      ],
      "text/plain": [
       "   Inception V3  MobileNet V2  EfficientNet B7  ResNet152 V2\n",
       "0      21768352       2223872         63786960      58187904\n",
       "1      21768352       2223872         63786960      58187904\n",
       "2      21768352       2223872         63786960      58187904\n",
       "3      21768352       2223872         63786960      58187904\n",
       "4      21768352       2223872         63786960      58187904\n",
       "5      21768352       2223872         63786960      58187904\n",
       "6      21768352       2223872         63786960      58187904\n",
       "7      21768352       2223872         63786960      58187904\n",
       "8      21768352       2223872         63786960      58187904\n",
       "9      21768352       2223872         63786960      58187904"
      ]
     },
     "execution_count": 57,
     "metadata": {},
     "output_type": "execute_result"
    }
   ],
   "source": [
    "df_all - df_freeze"
   ]
  },
  {
   "cell_type": "code",
   "execution_count": null,
   "id": "58549cda-774a-4a29-980d-e2042a0235d0",
   "metadata": {},
   "outputs": [],
   "source": []
  }
 ],
 "metadata": {
  "kernelspec": {
   "display_name": "TensorFlow Federated",
   "language": "python",
   "name": "tff"
  },
  "language_info": {
   "codemirror_mode": {
    "name": "ipython",
    "version": 3
   },
   "file_extension": ".py",
   "mimetype": "text/x-python",
   "name": "python",
   "nbconvert_exporter": "python",
   "pygments_lexer": "ipython3",
   "version": "3.8.6"
  }
 },
 "nbformat": 4,
 "nbformat_minor": 5
}
