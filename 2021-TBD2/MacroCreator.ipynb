{
 "cells": [
  {
   "cell_type": "code",
   "execution_count": 44,
   "id": "81e07a19-736e-4520-80e0-58824297b264",
   "metadata": {},
   "outputs": [],
   "source": [
    "import subprocess"
   ]
  },
  {
   "cell_type": "code",
   "execution_count": 45,
   "id": "73edc42c-6c6d-4ce6-9b00-57149e11563c",
   "metadata": {},
   "outputs": [],
   "source": [
    "python3 = '/home/harny/Github/tff-app/framework_grpc/venv/bin/python3'"
   ]
  },
  {
   "cell_type": "code",
   "execution_count": 46,
   "id": "24646e55-7102-44d0-8acb-7fbd56af8eed",
   "metadata": {},
   "outputs": [
    {
     "data": {
      "text/plain": [
       "CompletedProcess(args='/home/harny/Github/tff-app/framework_grpc/venv/bin/python3 main_database_init.py --debug --reset', returncode=0, stdout=b\"[0] DROP all tables of fldb\\n[0] CREATE TABLES: [('architectures',), ('compiles',), ('knowledges',), ('labels',), ('models',), ('names',), ('parameters',), ('users',)]\\n\", stderr=b'')"
      ]
     },
     "execution_count": 46,
     "metadata": {},
     "output_type": "execute_result"
    }
   ],
   "source": [
    "cmd = f'{python3} main_database_init.py --debug --reset'\n",
    "subprocess.run(cmd, shell=True, capture_output=True)"
   ]
  },
  {
   "cell_type": "code",
   "execution_count": 47,
   "id": "b7b09052-6087-4ee0-9f71-cc26a80bbbea",
   "metadata": {},
   "outputs": [
    {
     "data": {
      "text/plain": [
       "CompletedProcess(args='/home/harny/Github/tff-app/framework_grpc/venv/bin/python3 main_insert_model.py --debug --input model_Expandable-FashionMNIST-base.py', returncode=0, stdout=b'[0] Read model from /home/harny/Github/tff-app/2021-TBD2/model_Expandable-FashionMNIST-base.py\\n[1] Inserted name to database: 1\\n[1] Inserted compile to database: 1\\n[1] Inserted label to database: 1\\n[1] Inserted architecture to database: 1\\n[1] Inserted parameter to database: 1\\n[1] Inserted model to database: 1 with Expandable-FashionMNIST-base\\n', stderr=b'')"
      ]
     },
     "execution_count": 47,
     "metadata": {},
     "output_type": "execute_result"
    }
   ],
   "source": [
    "cmd = f'{python3} main_insert_model.py --debug --input model_Expandable-FashionMNIST-base.py'\n",
    "subprocess.run(cmd, shell=True, capture_output=True)"
   ]
  },
  {
   "cell_type": "code",
   "execution_count": 48,
   "id": "3ee9becf-6aa1-4e99-b35a-652e8c002d94",
   "metadata": {},
   "outputs": [
    {
     "name": "stdout",
     "output_type": "stream",
     "text": [
      "0 0.13179999589920044\n"
     ]
    },
    {
     "ename": "KeyboardInterrupt",
     "evalue": "",
     "output_type": "error",
     "traceback": [
      "\u001b[0;31m---------------------------------------------------------------------------\u001b[0m",
      "\u001b[0;31mKeyboardInterrupt\u001b[0m                         Traceback (most recent call last)",
      "\u001b[0;32m/tmp/ipykernel_30194/380692666.py\u001b[0m in \u001b[0;36m<module>\u001b[0;34m\u001b[0m\n\u001b[1;32m     25\u001b[0m \u001b[0;34m{\u001b[0m\u001b[0mpython3\u001b[0m\u001b[0;34m}\u001b[0m \u001b[0mmain_client_cli_Control\u001b[0m\u001b[0;34m.\u001b[0m\u001b[0mpy\u001b[0m \u001b[0;34m-\u001b[0m\u001b[0;34m-\u001b[0m\u001b[0mdebug\u001b[0m \u001b[0;34m-\u001b[0m\u001b[0;34m-\u001b[0m\u001b[0mname\u001b[0m \u001b[0mExpandable\u001b[0m\u001b[0;34m-\u001b[0m\u001b[0mFashionMNIST\u001b[0m\u001b[0;34m-\u001b[0m\u001b[0mbase\u001b[0m \u001b[0;34m-\u001b[0m\u001b[0;34m-\u001b[0m\u001b[0mversion\u001b[0m \u001b[0mv0\u001b[0m\u001b[0;36m.0\u001b[0m\u001b[0;34m.\u001b[0m\u001b[0;34m{\u001b[0m\u001b[0mi\u001b[0m\u001b[0;34m}\u001b[0m \u001b[0;34m-\u001b[0m\u001b[0;34m-\u001b[0m\u001b[0mjob_aggregation\u001b[0m\u001b[0;34m\u001b[0m\u001b[0;34m\u001b[0m\u001b[0m\n\u001b[1;32m     26\u001b[0m '''\n\u001b[0;32m---> 27\u001b[0;31m     \u001b[0msubprocess\u001b[0m\u001b[0;34m.\u001b[0m\u001b[0mrun\u001b[0m\u001b[0;34m(\u001b[0m\u001b[0mcmd\u001b[0m\u001b[0;34m,\u001b[0m \u001b[0mshell\u001b[0m\u001b[0;34m=\u001b[0m\u001b[0;32mTrue\u001b[0m\u001b[0;34m,\u001b[0m \u001b[0mcapture_output\u001b[0m\u001b[0;34m=\u001b[0m\u001b[0;32mTrue\u001b[0m\u001b[0;34m)\u001b[0m\u001b[0;34m\u001b[0m\u001b[0;34m\u001b[0m\u001b[0m\n\u001b[0m\u001b[1;32m     28\u001b[0m     \u001b[0mcmd\u001b[0m \u001b[0;34m=\u001b[0m \u001b[0;34mf'''{python3} main_client_cli_testmodel_image.py --debug --model models/base/v0.0.{i} --data datasets/scenario5/test'''\u001b[0m\u001b[0;34m\u001b[0m\u001b[0;34m\u001b[0m\u001b[0m\n\u001b[1;32m     29\u001b[0m     \u001b[0mp\u001b[0m \u001b[0;34m=\u001b[0m \u001b[0msubprocess\u001b[0m\u001b[0;34m.\u001b[0m\u001b[0mrun\u001b[0m\u001b[0;34m(\u001b[0m\u001b[0mcmd\u001b[0m\u001b[0;34m,\u001b[0m \u001b[0mshell\u001b[0m\u001b[0;34m=\u001b[0m\u001b[0;32mTrue\u001b[0m\u001b[0;34m,\u001b[0m \u001b[0mcapture_output\u001b[0m\u001b[0;34m=\u001b[0m\u001b[0;32mTrue\u001b[0m\u001b[0;34m)\u001b[0m\u001b[0;34m\u001b[0m\u001b[0;34m\u001b[0m\u001b[0m\n",
      "\u001b[0;32m/opt/Python39/lib/python3.9/subprocess.py\u001b[0m in \u001b[0;36mrun\u001b[0;34m(input, capture_output, timeout, check, *popenargs, **kwargs)\u001b[0m\n\u001b[1;32m    505\u001b[0m     \u001b[0;32mwith\u001b[0m \u001b[0mPopen\u001b[0m\u001b[0;34m(\u001b[0m\u001b[0;34m*\u001b[0m\u001b[0mpopenargs\u001b[0m\u001b[0;34m,\u001b[0m \u001b[0;34m**\u001b[0m\u001b[0mkwargs\u001b[0m\u001b[0;34m)\u001b[0m \u001b[0;32mas\u001b[0m \u001b[0mprocess\u001b[0m\u001b[0;34m:\u001b[0m\u001b[0;34m\u001b[0m\u001b[0;34m\u001b[0m\u001b[0m\n\u001b[1;32m    506\u001b[0m         \u001b[0;32mtry\u001b[0m\u001b[0;34m:\u001b[0m\u001b[0;34m\u001b[0m\u001b[0;34m\u001b[0m\u001b[0m\n\u001b[0;32m--> 507\u001b[0;31m             \u001b[0mstdout\u001b[0m\u001b[0;34m,\u001b[0m \u001b[0mstderr\u001b[0m \u001b[0;34m=\u001b[0m \u001b[0mprocess\u001b[0m\u001b[0;34m.\u001b[0m\u001b[0mcommunicate\u001b[0m\u001b[0;34m(\u001b[0m\u001b[0minput\u001b[0m\u001b[0;34m,\u001b[0m \u001b[0mtimeout\u001b[0m\u001b[0;34m=\u001b[0m\u001b[0mtimeout\u001b[0m\u001b[0;34m)\u001b[0m\u001b[0;34m\u001b[0m\u001b[0;34m\u001b[0m\u001b[0m\n\u001b[0m\u001b[1;32m    508\u001b[0m         \u001b[0;32mexcept\u001b[0m \u001b[0mTimeoutExpired\u001b[0m \u001b[0;32mas\u001b[0m \u001b[0mexc\u001b[0m\u001b[0;34m:\u001b[0m\u001b[0;34m\u001b[0m\u001b[0;34m\u001b[0m\u001b[0m\n\u001b[1;32m    509\u001b[0m             \u001b[0mprocess\u001b[0m\u001b[0;34m.\u001b[0m\u001b[0mkill\u001b[0m\u001b[0;34m(\u001b[0m\u001b[0;34m)\u001b[0m\u001b[0;34m\u001b[0m\u001b[0;34m\u001b[0m\u001b[0m\n",
      "\u001b[0;32m/opt/Python39/lib/python3.9/subprocess.py\u001b[0m in \u001b[0;36mcommunicate\u001b[0;34m(self, input, timeout)\u001b[0m\n\u001b[1;32m   1132\u001b[0m \u001b[0;34m\u001b[0m\u001b[0m\n\u001b[1;32m   1133\u001b[0m             \u001b[0;32mtry\u001b[0m\u001b[0;34m:\u001b[0m\u001b[0;34m\u001b[0m\u001b[0;34m\u001b[0m\u001b[0m\n\u001b[0;32m-> 1134\u001b[0;31m                 \u001b[0mstdout\u001b[0m\u001b[0;34m,\u001b[0m \u001b[0mstderr\u001b[0m \u001b[0;34m=\u001b[0m \u001b[0mself\u001b[0m\u001b[0;34m.\u001b[0m\u001b[0m_communicate\u001b[0m\u001b[0;34m(\u001b[0m\u001b[0minput\u001b[0m\u001b[0;34m,\u001b[0m \u001b[0mendtime\u001b[0m\u001b[0;34m,\u001b[0m \u001b[0mtimeout\u001b[0m\u001b[0;34m)\u001b[0m\u001b[0;34m\u001b[0m\u001b[0;34m\u001b[0m\u001b[0m\n\u001b[0m\u001b[1;32m   1135\u001b[0m             \u001b[0;32mexcept\u001b[0m \u001b[0mKeyboardInterrupt\u001b[0m\u001b[0;34m:\u001b[0m\u001b[0;34m\u001b[0m\u001b[0;34m\u001b[0m\u001b[0m\n\u001b[1;32m   1136\u001b[0m                 \u001b[0;31m# https://bugs.python.org/issue25942\u001b[0m\u001b[0;34m\u001b[0m\u001b[0;34m\u001b[0m\u001b[0m\n",
      "\u001b[0;32m/opt/Python39/lib/python3.9/subprocess.py\u001b[0m in \u001b[0;36m_communicate\u001b[0;34m(self, input, endtime, orig_timeout)\u001b[0m\n\u001b[1;32m   1977\u001b[0m                             'failed to raise TimeoutExpired.')\n\u001b[1;32m   1978\u001b[0m \u001b[0;34m\u001b[0m\u001b[0m\n\u001b[0;32m-> 1979\u001b[0;31m                     \u001b[0mready\u001b[0m \u001b[0;34m=\u001b[0m \u001b[0mselector\u001b[0m\u001b[0;34m.\u001b[0m\u001b[0mselect\u001b[0m\u001b[0;34m(\u001b[0m\u001b[0mtimeout\u001b[0m\u001b[0;34m)\u001b[0m\u001b[0;34m\u001b[0m\u001b[0;34m\u001b[0m\u001b[0m\n\u001b[0m\u001b[1;32m   1980\u001b[0m                     \u001b[0mself\u001b[0m\u001b[0;34m.\u001b[0m\u001b[0m_check_timeout\u001b[0m\u001b[0;34m(\u001b[0m\u001b[0mendtime\u001b[0m\u001b[0;34m,\u001b[0m \u001b[0morig_timeout\u001b[0m\u001b[0;34m,\u001b[0m \u001b[0mstdout\u001b[0m\u001b[0;34m,\u001b[0m \u001b[0mstderr\u001b[0m\u001b[0;34m)\u001b[0m\u001b[0;34m\u001b[0m\u001b[0;34m\u001b[0m\u001b[0m\n\u001b[1;32m   1981\u001b[0m \u001b[0;34m\u001b[0m\u001b[0m\n",
      "\u001b[0;32m/opt/Python39/lib/python3.9/selectors.py\u001b[0m in \u001b[0;36mselect\u001b[0;34m(self, timeout)\u001b[0m\n\u001b[1;32m    414\u001b[0m         \u001b[0mready\u001b[0m \u001b[0;34m=\u001b[0m \u001b[0;34m[\u001b[0m\u001b[0;34m]\u001b[0m\u001b[0;34m\u001b[0m\u001b[0;34m\u001b[0m\u001b[0m\n\u001b[1;32m    415\u001b[0m         \u001b[0;32mtry\u001b[0m\u001b[0;34m:\u001b[0m\u001b[0;34m\u001b[0m\u001b[0;34m\u001b[0m\u001b[0m\n\u001b[0;32m--> 416\u001b[0;31m             \u001b[0mfd_event_list\u001b[0m \u001b[0;34m=\u001b[0m \u001b[0mself\u001b[0m\u001b[0;34m.\u001b[0m\u001b[0m_selector\u001b[0m\u001b[0;34m.\u001b[0m\u001b[0mpoll\u001b[0m\u001b[0;34m(\u001b[0m\u001b[0mtimeout\u001b[0m\u001b[0;34m)\u001b[0m\u001b[0;34m\u001b[0m\u001b[0;34m\u001b[0m\u001b[0m\n\u001b[0m\u001b[1;32m    417\u001b[0m         \u001b[0;32mexcept\u001b[0m \u001b[0mInterruptedError\u001b[0m\u001b[0;34m:\u001b[0m\u001b[0;34m\u001b[0m\u001b[0;34m\u001b[0m\u001b[0m\n\u001b[1;32m    418\u001b[0m             \u001b[0;32mreturn\u001b[0m \u001b[0mready\u001b[0m\u001b[0;34m\u001b[0m\u001b[0;34m\u001b[0m\u001b[0m\n",
      "\u001b[0;31mKeyboardInterrupt\u001b[0m: "
     ]
    }
   ],
   "source": [
    "i = 0\n",
    "while True:\n",
    "    cmd = f'''{python3} main_client_cli_savemodel.py --debug --name Expandable-FashionMNIST-base --version v0.0.{i} --output models/base/v0.0.{i}\n",
    "{python3} main_client_cli_testmodel_image.py --debug --model models/base/v0.0.{i} --data datasets/scenario5/test\n",
    "{python3} main_client_cli_trainmodel_image.py --debug --model models/base/v0.0.{i} --data datasets/scenario1/train --output models/base/r1/c1\n",
    "{python3} main_client_cli_trainmodel_image.py --debug --model models/base/v0.0.{i} --data datasets/scenario1/train --output models/base/r1/c2\n",
    "{python3} main_client_cli_trainmodel_image.py --debug --model models/base/v0.0.{i} --data datasets/scenario2/train --output models/base/r1/c3\n",
    "{python3} main_client_cli_trainmodel_image.py --debug --model models/base/v0.0.{i} --data datasets/scenario2/train --output models/base/r1/c4\n",
    "{python3} main_client_cli_trainmodel_image.py --debug --model models/base/v0.0.{i} --data datasets/scenario3/train --output models/base/r1/c5\n",
    "{python3} main_client_cli_trainmodel_image.py --debug --model models/base/v0.0.{i} --data datasets/scenario3/train --output models/base/r1/c6\n",
    "{python3} main_client_cli_trainmodel_image.py --debug --model models/base/v0.0.{i} --data datasets/scenario4/train --output models/base/r1/c7\n",
    "{python3} main_client_cli_trainmodel_image.py --debug --model models/base/v0.0.{i} --data datasets/scenario4/train --output models/base/r1/c8\n",
    "{python3} main_client_cli_trainmodel_image.py --debug --model models/base/v0.0.{i} --data datasets/scenario5/train --output models/base/r1/c9\n",
    "{python3} main_client_cli_trainmodel_image.py --debug --model models/base/v0.0.{i} --data datasets/scenario5/train --output models/base/r1/c10\n",
    "{python3} main_client_cli_uploadmodel.py --debug --name Expandable-FashionMNIST-base --version v0.0.{i} --model models/base/r1/c1\n",
    "{python3} main_client_cli_uploadmodel.py --debug --name Expandable-FashionMNIST-base --version v0.0.{i} --model models/base/r1/c2\n",
    "{python3} main_client_cli_uploadmodel.py --debug --name Expandable-FashionMNIST-base --version v0.0.{i} --model models/base/r1/c3\n",
    "{python3} main_client_cli_uploadmodel.py --debug --name Expandable-FashionMNIST-base --version v0.0.{i} --model models/base/r1/c4\n",
    "{python3} main_client_cli_uploadmodel.py --debug --name Expandable-FashionMNIST-base --version v0.0.{i} --model models/base/r1/c5\n",
    "{python3} main_client_cli_uploadmodel.py --debug --name Expandable-FashionMNIST-base --version v0.0.{i} --model models/base/r1/c6\n",
    "{python3} main_client_cli_uploadmodel.py --debug --name Expandable-FashionMNIST-base --version v0.0.{i} --model models/base/r1/c7\n",
    "{python3} main_client_cli_uploadmodel.py --debug --name Expandable-FashionMNIST-base --version v0.0.{i} --model models/base/r1/c8\n",
    "{python3} main_client_cli_uploadmodel.py --debug --name Expandable-FashionMNIST-base --version v0.0.{i} --model models/base/r1/c9\n",
    "{python3} main_client_cli_uploadmodel.py --debug --name Expandable-FashionMNIST-base --version v0.0.{i} --model models/base/r1/c10\n",
    "{python3} main_client_cli_Control.py --debug --name Expandable-FashionMNIST-base --version v0.0.{i} --job_aggregation\n",
    "'''\n",
    "    subprocess.run(cmd, shell=True, capture_output=True)\n",
    "    cmd = f'''{python3} main_client_cli_testmodel_image.py --debug --model models/base/v0.0.{i} --data datasets/scenario5/test'''\n",
    "    p = subprocess.run(cmd, shell=True, capture_output=True)\n",
    "    acc = eval(p.stdout.decode('utf-8').split('\\n')[1])[1]\n",
    "    print(i, acc)\n",
    "    i = i + 1\n",
    "    if i > 20:\n",
    "        break"
   ]
  },
  {
   "cell_type": "code",
   "execution_count": null,
   "id": "3ca6d13f-9165-4cb0-8241-06549e948981",
   "metadata": {},
   "outputs": [],
   "source": []
  },
  {
   "cell_type": "code",
   "execution_count": null,
   "id": "a16eff4a-179e-492a-bb92-dd35c7b9be02",
   "metadata": {},
   "outputs": [],
   "source": []
  },
  {
   "cell_type": "code",
   "execution_count": null,
   "id": "b2021b05-daf3-4c0f-be51-79ef0abfe90d",
   "metadata": {},
   "outputs": [],
   "source": []
  },
  {
   "cell_type": "code",
   "execution_count": 4,
   "id": "d3b550fa-0cce-4b75-a39e-22f15b0040fb",
   "metadata": {},
   "outputs": [
    {
     "name": "stdout",
     "output_type": "stream",
     "text": [
      "python3 main_client_cli_savemodel.py --debug --name Expandable-FashionMNIST-1 --version v0.0.0 --output models/scenario1/v0.0.0\n",
      "python3 main_client_cli_testmodel_image.py --debug --model models/scenario1/v0.0.0 --data datasets/scenario1/test\n",
      "python3 main_client_cli_trainmodel_image.py --debug --model models/scenario1/v0.0.0 --data datasets/scenario1/train --output models/scenario1/r1/c1\n",
      "python3 main_client_cli_trainmodel_image.py --debug --model models/scenario1/v0.0.0 --data datasets/scenario1/train --output models/scenario1/r1/c2\n",
      "python3 main_client_cli_uploadmodel.py --debug --name Expandable-FashionMNIST-1 --version v0.0.0 --model models/scenario1/r1/c1\n",
      "python3 main_client_cli_uploadmodel.py --debug --name Expandable-FashionMNIST-1 --version v0.0.0 --model models/scenario1/r1/c2\n",
      "python3 main_client_cli_Control.py --debug --name Expandable-FashionMNIST-1 --version v0.0.0 --job_aggregation\n",
      "\n"
     ]
    }
   ],
   "source": [
    "i = 0\n",
    "while True:\n",
    "    cmd = f'''{python3} main_client_cli_savemodel.py --debug --name Expandable-FashionMNIST-1 --version v0.0.{i} --output models/scenario1/v0.0.{i}\n",
    "{python3} main_client_cli_testmodel_image.py --debug --model models/scenario1/v0.0.{i} --data datasets/scenario1/test\n",
    "{python3} main_client_cli_trainmodel_image.py --debug --model models/scenario1/v0.0.{i} --data datasets/scenario1/train --output models/scenario1/r1/c1\n",
    "{python3} main_client_cli_trainmodel_image.py --debug --model models/scenario1/v0.0.{i} --data datasets/scenario1/train --output models/scenario1/r1/c2\n",
    "{python3} main_client_cli_uploadmodel.py --debug --name Expandable-FashionMNIST-1 --version v0.0.{i} --model models/scenario1/r1/c1\n",
    "{python3} main_client_cli_uploadmodel.py --debug --name Expandable-FashionMNIST-1 --version v0.0.{i} --model models/scenario1/r1/c2\n",
    "{python3} main_client_cli_Control.py --debug --name Expandable-FashionMNIST-1 --version v0.0.{i} --job_aggregation\n",
    "'''\n",
    "    subprocess.run(cmd, shell=True, capture_output=True)\n",
    "    cmd = f'''{python3} main_client_cli_testmodel_image.py --debug --model models/scenario1/v0.0.{i} --data datasets/scenario1/test'''\n",
    "    p = subprocess.run(cmd, shell=True, capture_output=True)\n",
    "    acc = eval(p.stdout.decode('utf-8').split('\\n')[1])[1]\n",
    "    print(i, acc)\n",
    "    i = i + 1\n",
    "    break"
   ]
  },
  {
   "cell_type": "code",
   "execution_count": 29,
   "id": "be5c08c3-c028-4a5b-80f8-d35b5b7765c5",
   "metadata": {},
   "outputs": [],
   "source": [
    "cmd = '''/home/harny/Github/tff-app/framework_grpc/venv/bin/python3 main_client_cli_testmodel_image.py --debug --model models/scenario1/v0.0.0 --data datasets/scenario1/test'''\n",
    "p = subprocess.run(cmd, shell=True, capture_output=True)"
   ]
  },
  {
   "cell_type": "code",
   "execution_count": 28,
   "id": "6a9e6fbc-7a26-4146-a344-c5688a6a45c6",
   "metadata": {},
   "outputs": [
    {
     "ename": "AttributeError",
     "evalue": "'CompletedProcess' object has no attribute 'communicate'",
     "output_type": "error",
     "traceback": [
      "\u001b[0;31m---------------------------------------------------------------------------\u001b[0m",
      "\u001b[0;31mAttributeError\u001b[0m                            Traceback (most recent call last)",
      "\u001b[0;32m/tmp/ipykernel_30194/2034411457.py\u001b[0m in \u001b[0;36m<module>\u001b[0;34m\u001b[0m\n\u001b[0;32m----> 1\u001b[0;31m \u001b[0mp\u001b[0m\u001b[0;34m.\u001b[0m\u001b[0mcommunicate\u001b[0m\u001b[0;34m(\u001b[0m\u001b[0;34m)\u001b[0m\u001b[0;34m\u001b[0m\u001b[0;34m\u001b[0m\u001b[0m\n\u001b[0m",
      "\u001b[0;31mAttributeError\u001b[0m: 'CompletedProcess' object has no attribute 'communicate'"
     ]
    }
   ],
   "source": [
    "p.communicate()"
   ]
  },
  {
   "cell_type": "code",
   "execution_count": 31,
   "id": "8ee645e0-40c4-4b7a-b003-4aada3062e82",
   "metadata": {},
   "outputs": [
    {
     "data": {
      "text/plain": [
       "b'Found 3000 images belonging to 3 classes.\\n[1.1032952070236206, 0.3553333282470703]\\n'"
      ]
     },
     "execution_count": 31,
     "metadata": {},
     "output_type": "execute_result"
    }
   ],
   "source": [
    "p.stdout.spli"
   ]
  },
  {
   "cell_type": "code",
   "execution_count": 39,
   "id": "ed79259b-479a-461e-a159-9675b2cc8bb6",
   "metadata": {},
   "outputs": [
    {
     "data": {
      "text/plain": [
       "0.3553333282470703"
      ]
     },
     "execution_count": 39,
     "metadata": {},
     "output_type": "execute_result"
    }
   ],
   "source": [
    "eval(p.stdout.decode('utf-8').split('\\n')[1])[1]"
   ]
  },
  {
   "cell_type": "code",
   "execution_count": 32,
   "id": "4002048f-cd3c-43f8-b79c-72f600241afd",
   "metadata": {},
   "outputs": [
    {
     "data": {
      "text/plain": [
       "b''"
      ]
     },
     "execution_count": 32,
     "metadata": {},
     "output_type": "execute_result"
    }
   ],
   "source": [
    "p.stderr"
   ]
  },
  {
   "cell_type": "code",
   "execution_count": 33,
   "id": "13654d29-aa42-4287-9d2c-21bc67223882",
   "metadata": {},
   "outputs": [
    {
     "data": {
      "text/plain": [
       "CompletedProcess(args='/home/harny/Github/tff-app/framework_grpc/venv/bin/python3 main_client_cli_testmodel_image.py --debug --model models/scenario1/v0.0.0 --data datasets/scenario1/test', returncode=0, stdout=b'Found 3000 images belonging to 3 classes.\\n[1.1032952070236206, 0.3553333282470703]\\n', stderr=b'')"
      ]
     },
     "execution_count": 33,
     "metadata": {},
     "output_type": "execute_result"
    }
   ],
   "source": [
    "p"
   ]
  },
  {
   "cell_type": "code",
   "execution_count": null,
   "id": "c86b6a02-029e-4008-b5e8-bc395071b456",
   "metadata": {},
   "outputs": [],
   "source": []
  }
 ],
 "metadata": {
  "kernelspec": {
   "display_name": "FLHub",
   "language": "python",
   "name": "flhub"
  },
  "language_info": {
   "codemirror_mode": {
    "name": "ipython",
    "version": 3
   },
   "file_extension": ".py",
   "mimetype": "text/x-python",
   "name": "python",
   "nbconvert_exporter": "python",
   "pygments_lexer": "ipython3",
   "version": "3.9.10"
  }
 },
 "nbformat": 4,
 "nbformat_minor": 5
}
