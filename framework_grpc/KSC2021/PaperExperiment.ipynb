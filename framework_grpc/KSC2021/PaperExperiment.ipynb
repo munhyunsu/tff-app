{
 "cells": [
  {
   "cell_type": "code",
   "execution_count": null,
   "id": "fc5cae97-306b-4514-9681-59df85a21507",
   "metadata": {},
   "outputs": [],
   "source": [
    "# 도구 준비\n",
    "import os\n",
    "import random\n",
    "\n",
    "import tensorflow as tf # 텐서플로우\n",
    "import matplotlib.pyplot as plt # 시각화 도구\n",
    "%matplotlib inline\n",
    "import numpy as np\n",
    "\n",
    "import PIL.Image as Image"
   ]
  },
  {
   "cell_type": "code",
   "execution_count": null,
   "id": "8dc001f8-ab5c-43cf-ad35-df05c76d5481",
   "metadata": {},
   "outputs": [],
   "source": [
    "print(f'Tensorflow 버전을 확인합니다: {tf.__version__}')"
   ]
  },
  {
   "cell_type": "code",
   "execution_count": null,
   "id": "cd16da07-b761-4b97-9206-446a05ff4d9a",
   "metadata": {},
   "outputs": [],
   "source": [
    "# prepare dataset\n",
    "classes = ['Airplane', 'Ankle boot', 'Automobile', 'Bag', 'Bird', 'Cat', 'Coat', 'Deer', 'Dog', 'Dress', 'Frog', 'Horse', 'Pullover', 'Sandal', 'Ship', 'Shirt', 'Sneaker', 'T-shirt', 'Trouser', 'Truck']\n",
    "dataset_root = os.path.abspath(os.path.expanduser('./'))\n",
    "\n",
    "image_generator = tf.keras.preprocessing.image.ImageDataGenerator(rescale=1/255)\n",
    "train_data = image_generator.flow_from_directory(os.path.join(dataset_root, 'kcc_train'),\n",
    "                                                 classes=classes, target_size=(32, 32), shuffle=True)\n",
    "test_data = image_generator.flow_from_directory(os.path.join(dataset_root, 'kcc_test'),\n",
    "                                                classes=classes, target_size=(32, 32), shuffle=True)"
   ]
  },
  {
   "cell_type": "code",
   "execution_count": null,
   "id": "7c325c47-1614-4928-ac3c-b7d334f11827",
   "metadata": {},
   "outputs": [],
   "source": [
    "model = tf.keras.models.Sequential([\n",
    "                       tf.keras.layers.Conv2D(32, (1, 3), activation='relu', input_shape=(32, 32, 3)),\n",
    "                       tf.keras.layers.MaxPooling2D((2, 2)),\n",
    "                       tf.keras.layers.Conv2D(64, (3, 3), activation='relu'),\n",
    "                       tf.keras.layers.MaxPooling2D((2, 2)),\n",
    "                       tf.keras.layers.Conv2D(64, (3, 3), activation='relu'),\n",
    "                       tf.keras.layers.Flatten(),\n",
    "                       tf.keras.layers.Dense(64, activation='relu'),\n",
    "                       tf.keras.layers.Dense(len(classes))])\n",
    "model.compile(optimizer=tf.keras.optimizers.Adam(),\n",
    "              loss=tf.keras.losses.CategoricalCrossentropy(from_logits=True),\n",
    "              metrics=['accuracy'])\n",
    "model.summary()"
   ]
  },
  {
   "cell_type": "code",
   "execution_count": null,
   "id": "dbe45587-6073-4816-a6e4-0fa37561505b",
   "metadata": {},
   "outputs": [],
   "source": [
    "epochs = 10\n",
    "history = model.fit(train_data,\n",
    "                    epochs=epochs,\n",
    "                    validation_data=test_data)"
   ]
  },
  {
   "cell_type": "code",
   "execution_count": null,
   "id": "f4ea49ce-d358-4d42-8ff9-6ea1c64bf27f",
   "metadata": {},
   "outputs": [],
   "source": [
    "baseline = 0.7888\n",
    "data = [0.02305000089108944, 0.186599999666214, 0.3033500015735626, 0.4230499863624573, 0.4752500057220459,\n",
    "        0.536899983882904, 0.5848000049591064, 0.6116499900817871, 0.6220999956130981, 0.6317999958992004,\n",
    "        0.6462000012397766, 0.6624500155448914, 0.670199990272522, 0.6811000108718872, 0.6820999979972839,\n",
    "        0.6929000020027161, 0.6972500085830688, 0.7028499841690063, 0.7092999815940857, 0.7131999731063843,\n",
    "        0.7071499824523926, 0.7101500034332275, 0.7264500260353088, 0.7266499996185303, 0.7266499996185303,\n",
    "        0.7234500050544739, 0.7238500118255615, 0.7289000153541565, 0.7264999747276306, 0.7427999973297119, \n",
    "        0.7394499778747559, 0.7300999760627747, 0.7375500202178955, 0.7483500242233276, 0.7516000270843506, \n",
    "        0.7537999749183655, 0.7489500045776367, 0.755299985408783, 0.7528499960899353, 0.7472000122070312, \n",
    "        0.7516000270843506, 0.7533000111579895, 0.7422500252723694, 0.7530999779701233, 0.7559000253677368,\n",
    "        0.7504000067710876, 0.7608000040054321, 0.7584499716758728, 0.7549499869346619, 0.76214998960495, \n",
    "        0.7624499797821045, 0.7638999819755554, 0.763700008392334, 0.7631000280380249, 0.7656999826431274, \n",
    "        0.7634000182151794, 0.7631999850273132, 0.7609999775886536, 0.7708500027656555, 0.7680500149726868,\n",
    "        0.7699000239372253, 0.7633500099182129, 0.7716000080108643, 0.7664999961853027, 0.7659500241279602,\n",
    "        0.7660499811172485, 0.7589499950408936, 0.7671499848365784, 0.7636500000953674, 0.765250027179718,\n",
    "        0.7684999704360962, 0.7670999765396118, 0.7638999819755554, 0.775950014591217, 0.7718999981880188,\n",
    "        0.7670999765396118, 0.7649499773979187, 0.7656000256538391, 0.7745000123977661, 0.7705000042915344,\n",
    "        0.7684999704360962, 0.7757999897003174, 0.7721499800682068, 0.7745000123977661, 0.7752000093460083,\n",
    "        0.7775499820709229, 0.7678999900817871, 0.777649998664856, 0.7749999761581421, 0.7721499800682068,\n",
    "        0.769349992275238, 0.7728000283241272, 0.7786999940872192, 0.7705000042915344, 0.7712000012397766,\n",
    "        0.7764999866485596, 0.7708500027656555, 0.7720999717712402, 0.7727000117301941, 0.776449978351593,\n",
    "        0.7780500054359436,\n",
    "       ]"
   ]
  },
  {
   "cell_type": "code",
   "execution_count": null,
   "id": "a59f01e8-df5f-4e57-8712-9b4d4f0e5d25",
   "metadata": {},
   "outputs": [],
   "source": [
    "fig = plt.figure(figsize=(8, 6))\n",
    "fig.set_facecolor('white')\n",
    "ax = fig.add_subplot()\n",
    "ax.plot(data, color='darkgreen')\n",
    "ax.axhline(baseline, color='orange', linestyle='--')\n",
    "ax.text(-0.15, baseline+0.02, round(baseline, 2),\n",
    "        fontsize='medium', color='orange',\n",
    "        horizontalalignment='center', verticalalignment='center')\n",
    "ax.axvline(x=data.index(max(data)), ymax=max(data), linestyle='dotted', color='grey')\n",
    "ax.axhline(y=max(data), xmax=(data.index(max(data))-3)/len(data), linestyle='dotted', color='grey')\n",
    "ax.text(-0.15, max(data)-0.02, round(max(data), 2),\n",
    "        fontsize='medium', color='grey',\n",
    "        horizontalalignment='center', verticalalignment='center')\n",
    "ax.text(data.index(max(data))+2, 0.015, data.index(max(data)),\n",
    "        fontsize='medium', color='grey',\n",
    "        horizontalalignment='center', verticalalignment='center')\n",
    "ax.tick_params(axis='both', labelsize='large')\n",
    "ax.set_xlabel('Federated round (local epoch = 1)', fontsize='x-large')\n",
    "ax.set_ylabel('Accuracy', fontsize='x-large')\n",
    "ax.set_ylim([0, 1])\n",
    "fig.savefig('accuracy.png', bbox_inches='tight')"
   ]
  },
  {
   "cell_type": "code",
   "execution_count": null,
   "id": "1a9064ec-7708-4e41-91c2-167ea5e5e085",
   "metadata": {},
   "outputs": [],
   "source": [
    "baseline - max(data)"
   ]
  },
  {
   "cell_type": "code",
   "execution_count": null,
   "id": "2902d987-dfa9-4633-9a9a-6b8120499784",
   "metadata": {},
   "outputs": [],
   "source": [
    "baseline = [0.0231, \n",
    "            0.7095, 0.7420, 0.7699, 0.7739, 0.7824, 0.7896, 0.7822, 0.7873, 0.7837, 0.7829,\n",
    "            0.7818, 0.7812, 0.7822, 0.7787, 0.7772, 0.7790, 0.7745, 0.7710, 0.7704, 0.7687,\n",
    "]"
   ]
  },
  {
   "cell_type": "code",
   "execution_count": null,
   "id": "08820d13-ef1e-4e05-b067-28a142e63344",
   "metadata": {},
   "outputs": [],
   "source": []
  }
 ],
 "metadata": {
  "kernelspec": {
   "display_name": "TensorFlow Federated",
   "language": "python",
   "name": "tff"
  },
  "language_info": {
   "codemirror_mode": {
    "name": "ipython",
    "version": 3
   },
   "file_extension": ".py",
   "mimetype": "text/x-python",
   "name": "python",
   "nbconvert_exporter": "python",
   "pygments_lexer": "ipython3",
   "version": "3.8.6"
  }
 },
 "nbformat": 4,
 "nbformat_minor": 5
}
