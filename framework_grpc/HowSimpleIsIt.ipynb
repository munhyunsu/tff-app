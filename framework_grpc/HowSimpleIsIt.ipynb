{
 "cells": [
  {
   "cell_type": "code",
   "execution_count": 1,
   "id": "45789ab7-8a4e-482d-84aa-c8b98b6994e5",
   "metadata": {},
   "outputs": [],
   "source": [
    "import os\n",
    "import operator\n",
    "\n",
    "import tensorflow as tf\n",
    "import tensorflow_hub as hub\n",
    "import tensorflow_datasets as tfds\n",
    "import numpy as np\n",
    "import pandas as pd"
   ]
  },
  {
   "cell_type": "code",
   "execution_count": 2,
   "id": "0f6e55b5-0337-46e2-a88d-70e2eab4acda",
   "metadata": {},
   "outputs": [
    {
     "name": "stdout",
     "output_type": "stream",
     "text": [
      "Found 60000 images belonging to 10 classes.\n",
      "Found 10000 images belonging to 10 classes.\n",
      "Labels: ['Ankle boot', 'Bag', 'Coat', 'Dress', 'Pullover', 'Sandal', 'Shirt', 'Sneaker', 'T-shirt', 'Trouser']\n"
     ]
    }
   ],
   "source": [
    "dataset_root = os.path.abspath(os.path.expanduser('../2021-TBD/datasets/fashion_mnist'))\n",
    "image_generator = tf.keras.preprocessing.image.ImageDataGenerator(rescale=1/255)\n",
    "train_data = image_generator.flow_from_directory(os.path.join(dataset_root, 'train'),\n",
    "                                                 target_size=(32, 32), shuffle=True)\n",
    "test_data = image_generator.flow_from_directory(os.path.join(dataset_root, 'test'),\n",
    "                                                target_size=(32, 32), shuffle=True)\n",
    "labels = [item[0] for item in sorted(list(train_data.class_indices.items()), key=operator.itemgetter(1))]\n",
    "print(f'Labels: {labels}')"
   ]
  },
  {
   "cell_type": "markdown",
   "id": "4955208d-7227-4125-b54e-1af9c20730ce",
   "metadata": {},
   "source": [
    "## 일반적인 텐서플로우 10진 분류"
   ]
  },
  {
   "cell_type": "code",
   "execution_count": 3,
   "id": "e1085ec7-98e6-4a92-80b8-86fb2b78779a",
   "metadata": {},
   "outputs": [
    {
     "name": "stdout",
     "output_type": "stream",
     "text": [
      "Model: \"sequential\"\n",
      "_________________________________________________________________\n",
      "Layer (type)                 Output Shape              Param #   \n",
      "=================================================================\n",
      "conv2d (Conv2D)              (None, 30, 30, 32)        896       \n",
      "_________________________________________________________________\n",
      "max_pooling2d (MaxPooling2D) (None, 15, 15, 32)        0         \n",
      "_________________________________________________________________\n",
      "conv2d_1 (Conv2D)            (None, 13, 13, 64)        18496     \n",
      "_________________________________________________________________\n",
      "max_pooling2d_1 (MaxPooling2 (None, 6, 6, 64)          0         \n",
      "_________________________________________________________________\n",
      "conv2d_2 (Conv2D)            (None, 4, 4, 64)          36928     \n",
      "_________________________________________________________________\n",
      "flatten (Flatten)            (None, 1024)              0         \n",
      "_________________________________________________________________\n",
      "dense (Dense)                (None, 64)                65600     \n",
      "_________________________________________________________________\n",
      "dense_1 (Dense)              (None, 10)                650       \n",
      "=================================================================\n",
      "Total params: 122,570\n",
      "Trainable params: 122,570\n",
      "Non-trainable params: 0\n",
      "_________________________________________________________________\n"
     ]
    }
   ],
   "source": [
    "model = tf.keras.models.Sequential([\n",
    "                       tf.keras.layers.Conv2D(32, (3, 3), activation='relu', input_shape=(32, 32, 3)),\n",
    "                       tf.keras.layers.MaxPooling2D((2, 2)),\n",
    "                       tf.keras.layers.Conv2D(64, (3, 3), activation='relu'),\n",
    "                       tf.keras.layers.MaxPooling2D((2, 2)),\n",
    "                       tf.keras.layers.Conv2D(64, (3, 3), activation='relu'),\n",
    "                       tf.keras.layers.Flatten(),\n",
    "                       tf.keras.layers.Dense(64, activation='relu'),\n",
    "                       tf.keras.layers.Dense(len(labels))])\n",
    "model.compile(optimizer=tf.keras.optimizers.Adam(),\n",
    "              loss=tf.keras.losses.CategoricalCrossentropy(from_logits=True),\n",
    "              metrics=['accuracy'])\n",
    "model.summary()"
   ]
  },
  {
   "cell_type": "code",
   "execution_count": 4,
   "id": "53e0d7ed-2e20-4ee7-bc13-9e3acfe60c58",
   "metadata": {},
   "outputs": [
    {
     "name": "stdout",
     "output_type": "stream",
     "text": [
      "Epoch 1/10\n",
      "1875/1875 [==============================] - 32s 17ms/step - loss: 0.4654 - accuracy: 0.8312 - val_loss: 0.3537 - val_accuracy: 0.8704\n",
      "Epoch 2/10\n",
      "1875/1875 [==============================] - 32s 17ms/step - loss: 0.3037 - accuracy: 0.8894 - val_loss: 0.2912 - val_accuracy: 0.8935\n",
      "Epoch 3/10\n",
      "1875/1875 [==============================] - 27s 15ms/step - loss: 0.2631 - accuracy: 0.9035 - val_loss: 0.2849 - val_accuracy: 0.8966\n",
      "Epoch 4/10\n",
      "1875/1875 [==============================] - 27s 14ms/step - loss: 0.2319 - accuracy: 0.9130 - val_loss: 0.3071 - val_accuracy: 0.8867\n",
      "Epoch 5/10\n",
      "1875/1875 [==============================] - 27s 15ms/step - loss: 0.2065 - accuracy: 0.9240 - val_loss: 0.2575 - val_accuracy: 0.9053\n",
      "Epoch 6/10\n",
      "1875/1875 [==============================] - 27s 15ms/step - loss: 0.1854 - accuracy: 0.9302 - val_loss: 0.2812 - val_accuracy: 0.9031\n",
      "Epoch 7/10\n",
      "1875/1875 [==============================] - 27s 15ms/step - loss: 0.1672 - accuracy: 0.9380 - val_loss: 0.2684 - val_accuracy: 0.9090\n",
      "Epoch 8/10\n",
      "1875/1875 [==============================] - 28s 15ms/step - loss: 0.1510 - accuracy: 0.9430 - val_loss: 0.2722 - val_accuracy: 0.9058\n",
      "Epoch 9/10\n",
      "1875/1875 [==============================] - 27s 14ms/step - loss: 0.1360 - accuracy: 0.9485 - val_loss: 0.2765 - val_accuracy: 0.9090\n",
      "Epoch 10/10\n",
      "1875/1875 [==============================] - 27s 15ms/step - loss: 0.1231 - accuracy: 0.9528 - val_loss: 0.2916 - val_accuracy: 0.9076\n"
     ]
    }
   ],
   "source": [
    "epochs = 10\n",
    "history = model.fit(train_data,\n",
    "                    epochs=epochs,\n",
    "                    validation_data=test_data)"
   ]
  },
  {
   "cell_type": "markdown",
   "id": "2587f235-1be9-4fc1-949a-6677b1c107f8",
   "metadata": {},
   "source": [
    "## FLHub API 활용"
   ]
  },
  {
   "cell_type": "code",
   "execution_count": 5,
   "id": "36c0acc9-da35-47d3-8fd9-37bf44e7732a",
   "metadata": {},
   "outputs": [],
   "source": [
    "import flhub"
   ]
  },
  {
   "cell_type": "code",
   "execution_count": 6,
   "id": "e63bee66-dac0-49e7-b6c7-2ad832cb74dc",
   "metadata": {},
   "outputs": [
    {
     "name": "stdout",
     "output_type": "stream",
     "text": [
      "v0.0.51 ['T-shirt', 'Trouser', 'Pullover', 'Dress', 'Coat', 'Sandal', 'Shirt', 'Sneaker', 'Bag', 'Ankle boot']\n",
      "Model: \"sequential\"\n",
      "_________________________________________________________________\n",
      "Layer (type)                 Output Shape              Param #   \n",
      "=================================================================\n",
      "conv2d (Conv2D)              (None, 30, 30, 32)        896       \n",
      "_________________________________________________________________\n",
      "max_pooling2d (MaxPooling2D) (None, 15, 15, 32)        0         \n",
      "_________________________________________________________________\n",
      "conv2d_1 (Conv2D)            (None, 13, 13, 64)        18496     \n",
      "_________________________________________________________________\n",
      "max_pooling2d_1 (MaxPooling2 (None, 6, 6, 64)          0         \n",
      "_________________________________________________________________\n",
      "conv2d_2 (Conv2D)            (None, 4, 4, 64)          36928     \n",
      "_________________________________________________________________\n",
      "flatten (Flatten)            (None, 1024)              0         \n",
      "_________________________________________________________________\n",
      "dense (Dense)                (None, 64)                65600     \n",
      "_________________________________________________________________\n",
      "dense_1 (Dense)              (None, 10)                650       \n",
      "=================================================================\n",
      "Total params: 122,570\n",
      "Trainable params: 122,570\n",
      "Non-trainable params: 0\n",
      "_________________________________________________________________\n"
     ]
    }
   ],
   "source": [
    "model, version, labels = flhub.download_model('CNN-FashionMNIST')\n",
    "print(version, labels)\n",
    "model.summary()"
   ]
  },
  {
   "cell_type": "code",
   "execution_count": 7,
   "id": "253c4f26-519f-48cf-8375-6ab04fb4bb75",
   "metadata": {},
   "outputs": [
    {
     "name": "stdout",
     "output_type": "stream",
     "text": [
      "Epoch 1/10\n",
      "1875/1875 [==============================] - 26s 14ms/step - loss: 0.3554 - accuracy: 0.8812 - val_loss: 0.3069 - val_accuracy: 0.8874\n",
      "Epoch 2/10\n",
      "1875/1875 [==============================] - 28s 15ms/step - loss: 0.1926 - accuracy: 0.9286 - val_loss: 0.2825 - val_accuracy: 0.9054\n",
      "Epoch 3/10\n",
      "1875/1875 [==============================] - 30s 16ms/step - loss: 0.1664 - accuracy: 0.9379 - val_loss: 0.2872 - val_accuracy: 0.9056\n",
      "Epoch 4/10\n",
      "1875/1875 [==============================] - 28s 15ms/step - loss: 0.1522 - accuracy: 0.9437 - val_loss: 0.2995 - val_accuracy: 0.9038\n",
      "Epoch 5/10\n",
      "1875/1875 [==============================] - 26s 14ms/step - loss: 0.1360 - accuracy: 0.9496 - val_loss: 0.2727 - val_accuracy: 0.9116\n",
      "Epoch 6/10\n",
      "1875/1875 [==============================] - 26s 14ms/step - loss: 0.1213 - accuracy: 0.9540 - val_loss: 0.3020 - val_accuracy: 0.9050\n",
      "Epoch 7/10\n",
      "1875/1875 [==============================] - 26s 14ms/step - loss: 0.1108 - accuracy: 0.9589 - val_loss: 0.3515 - val_accuracy: 0.9102\n",
      "Epoch 8/10\n",
      "1875/1875 [==============================] - 26s 14ms/step - loss: 0.1028 - accuracy: 0.9613 - val_loss: 0.3534 - val_accuracy: 0.9014\n",
      "Epoch 9/10\n",
      "1875/1875 [==============================] - 26s 14ms/step - loss: 0.0962 - accuracy: 0.9637 - val_loss: 0.3545 - val_accuracy: 0.9067\n",
      "Epoch 10/10\n",
      "1875/1875 [==============================] - 26s 14ms/step - loss: 0.0878 - accuracy: 0.9673 - val_loss: 0.3926 - val_accuracy: 0.9108\n"
     ]
    }
   ],
   "source": [
    "epochs = 10\n",
    "history = model.fit(train_data,\n",
    "                    epochs=epochs,\n",
    "                    validation_data=test_data)"
   ]
  },
  {
   "cell_type": "code",
   "execution_count": 8,
   "id": "bb17cb0b-db6f-46b2-a104-38f467273772",
   "metadata": {},
   "outputs": [
    {
     "data": {
      "text/plain": [
       "'upload completed CNN-FashionMNIST v0.0.51'"
      ]
     },
     "execution_count": 8,
     "metadata": {},
     "output_type": "execute_result"
    }
   ],
   "source": [
    "res = flhub.upload_model(model, 'CNN-FashionMNIST', version)\n",
    "res"
   ]
  },
  {
   "cell_type": "markdown",
   "id": "ebffee68-220e-408d-b10a-278bfe76d690",
   "metadata": {},
   "source": [
    "## TensorFlow Transfer Learning"
   ]
  },
  {
   "cell_type": "code",
   "execution_count": null,
   "id": "b0a29789-9b48-4354-9bed-5328b2f6ce61",
   "metadata": {},
   "outputs": [],
   "source": [
    "dataset_root = os.path.abspath(os.path.expanduser('../2021-TBD/datasets/fashion_mnist'))\n",
    "image_generator = tf.keras.preprocessing.image.ImageDataGenerator(rescale=1/255)\n",
    "train_data = image_generator.flow_from_directory(os.path.join(dataset_root, 'train'),\n",
    "                                                 target_size=(224, 224), shuffle=True)\n",
    "test_data = image_generator.flow_from_directory(os.path.join(dataset_root, 'test'),\n",
    "                                                target_size=(224, 224), shuffle=True)\n",
    "labels = [item[0] for item in sorted(list(train_data.class_indices.items()), key=operator.itemgetter(1))]\n",
    "print(f'Labels: {labels}')"
   ]
  },
  {
   "cell_type": "code",
   "execution_count": null,
   "id": "a25aba12-170b-40d3-bbf3-cc5400c60290",
   "metadata": {},
   "outputs": [],
   "source": [
    "mobilenet_v2 = \"https://tfhub.dev/google/tf2-preview/mobilenet_v2/feature_vector/4\"\n",
    "inception_v3 = \"https://tfhub.dev/google/tf2-preview/inception_v3/feature_vector/4\"\n",
    "feature_extractor_model = mobilenet_v2\n",
    "feature_extractor_layer = hub.KerasLayer(\n",
    "    feature_extractor_model,\n",
    "    input_shape=(224, 224, 3),\n",
    "    trainable=False)\n",
    "model = tf.keras.Sequential([\n",
    "  feature_extractor_layer,\n",
    "  tf.keras.layers.Dense(len(labels))\n",
    "])\n",
    "model.compile(optimizer=tf.keras.optimizers.Adam(),\n",
    "              loss=tf.keras.losses.CategoricalCrossentropy(from_logits=True),\n",
    "              metrics=['accuracy'])\n",
    "model.summary()"
   ]
  },
  {
   "cell_type": "code",
   "execution_count": null,
   "id": "136cf3ce-c4cb-4a23-9dd2-4355f0114c52",
   "metadata": {},
   "outputs": [],
   "source": [
    "epochs = 10\n",
    "history = model.fit(train_data,\n",
    "                    epochs=epochs,\n",
    "                    validation_data=test_data)"
   ]
  },
  {
   "cell_type": "code",
   "execution_count": null,
   "id": "4edfbb75-d0cf-4590-aa55-eaa834feda8d",
   "metadata": {},
   "outputs": [],
   "source": []
  }
 ],
 "metadata": {
  "kernelspec": {
   "display_name": "TensorFlow Federated",
   "language": "python",
   "name": "tff"
  },
  "language_info": {
   "codemirror_mode": {
    "name": "ipython",
    "version": 3
   },
   "file_extension": ".py",
   "mimetype": "text/x-python",
   "name": "python",
   "nbconvert_exporter": "python",
   "pygments_lexer": "ipython3",
   "version": "3.8.6"
  }
 },
 "nbformat": 4,
 "nbformat_minor": 5
}
